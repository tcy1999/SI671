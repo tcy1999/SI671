{
 "cells": [
  {
   "cell_type": "markdown",
   "id": "821f3e05-c3fb-4ad5-be3c-372b0c352bfe",
   "metadata": {},
   "source": [
    "# SI 671 Homework 1\n",
    "Chenyun Tao  Uniq: cyuntao"
   ]
  },
  {
   "cell_type": "code",
   "execution_count": 1,
   "id": "6510641f-499d-4de2-9a7b-605db0dea3ce",
   "metadata": {},
   "outputs": [],
   "source": [
    "import pandas as pd\n",
    "import numpy as np\n",
    "from sklearn.preprocessing import MultiLabelBinarizer\n",
    "import matplotlib.pyplot as plt\n",
    "%matplotlib inline\n",
    "import seaborn as sns\n",
    "from mlxtend.frequent_patterns import apriori\n",
    "from mlxtend.frequent_patterns import association_rules"
   ]
  },
  {
   "cell_type": "markdown",
   "id": "5dfa554f-9caa-4159-b6ea-f10664fdf6b4",
   "metadata": {},
   "source": [
    "## 1. Data Exploration\n",
    "### 1.1 Load & transform the Twitter emoji dataset\n",
    "a)"
   ]
  },
  {
   "cell_type": "code",
   "execution_count": 2,
   "id": "1904f970-16b0-40ad-abb6-13c11b0ad240",
   "metadata": {},
   "outputs": [],
   "source": [
    "with open('itemsets_data/food_drink_emoji_tweets.txt', 'r', encoding='utf-8') as f:\n",
    "    tweets = f.read().splitlines()"
   ]
  },
  {
   "cell_type": "code",
   "execution_count": 3,
   "id": "a44dc8a2-d583-4d1c-ba6a-3520818f32a4",
   "metadata": {},
   "outputs": [
    {
     "data": {
      "text/html": [
       "<div>\n",
       "<style scoped>\n",
       "    .dataframe tbody tr th:only-of-type {\n",
       "        vertical-align: middle;\n",
       "    }\n",
       "\n",
       "    .dataframe tbody tr th {\n",
       "        vertical-align: top;\n",
       "    }\n",
       "\n",
       "    .dataframe thead th {\n",
       "        text-align: right;\n",
       "    }\n",
       "</style>\n",
       "<table border=\"1\" class=\"dataframe\">\n",
       "  <thead>\n",
       "    <tr style=\"text-align: right;\">\n",
       "      <th></th>\n",
       "      <th>tweet</th>\n",
       "    </tr>\n",
       "  </thead>\n",
       "  <tbody>\n",
       "    <tr>\n",
       "      <th>0</th>\n",
       "      <td>RT @CalorieFixess: 🍗🌯🍔🍒 400 Calories https://t...</td>\n",
       "    </tr>\n",
       "    <tr>\n",
       "      <th>1</th>\n",
       "      <td>RT @1_F_I_R_S_T: _ 🍈¹〉Grow your account fast! ...</td>\n",
       "    </tr>\n",
       "    <tr>\n",
       "      <th>2</th>\n",
       "      <td>RT @LegendDeols: 👉👉👉G€T Ready to dance💃🕺🕺🕺💃💃💃 ...</td>\n",
       "    </tr>\n",
       "    <tr>\n",
       "      <th>3</th>\n",
       "      <td>@britch_x Hubby's friend bought us Wendy's-che...</td>\n",
       "    </tr>\n",
       "    <tr>\n",
       "      <th>4</th>\n",
       "      <td>RT @DAILYPUPPlES: Workout partner ☕🍌😍 https://...</td>\n",
       "    </tr>\n",
       "  </tbody>\n",
       "</table>\n",
       "</div>"
      ],
      "text/plain": [
       "                                               tweet\n",
       "0  RT @CalorieFixess: 🍗🌯🍔🍒 400 Calories https://t...\n",
       "1  RT @1_F_I_R_S_T: _ 🍈¹〉Grow your account fast! ...\n",
       "2  RT @LegendDeols: 👉👉👉G€T Ready to dance💃🕺🕺🕺💃💃💃 ...\n",
       "3  @britch_x Hubby's friend bought us Wendy's-che...\n",
       "4  RT @DAILYPUPPlES: Workout partner ☕🍌😍 https://..."
      ]
     },
     "execution_count": 3,
     "metadata": {},
     "output_type": "execute_result"
    }
   ],
   "source": [
    "tweets_df = pd.DataFrame(tweets, columns=['tweet'])\n",
    "tweets_df.head()"
   ]
  },
  {
   "cell_type": "markdown",
   "id": "29e2ad06-093b-4c9c-a2ae-827d9284be86",
   "metadata": {},
   "source": [
    "b)"
   ]
  },
  {
   "cell_type": "code",
   "execution_count": 4,
   "id": "3ffdea25-e523-4e29-af74-d6fd65afdcb1",
   "metadata": {},
   "outputs": [],
   "source": [
    "emoji_set = {'🍫', '🍡', '🍏', '🍈', '🍯', '🥠', '🍪', '🌰', '🥯', '🍐', '🌯', '🍧', '🥮', '🥚', '🍎', '🍍', '🍠', '🍨', '🥣', '🍊', '🍘', '🍆', '🥓', '🌽', '🥐', '🌮', '🍬', '🍛', '🥘', '🥔', '🍿', '🍉', '🥞', '🍄', '🎂', '🧀', '🥩', '🍺', '🦀', '🥦', '🥭', '🍒', '🍤', '🦐', '🥝', '🥙', '🍖', '🥜', '🍥', '🍷', '🍾', '🍲', '🧂', '🥪', '🍚', '🥬', '🥑', '🍙', '🍞', '🥃', '🥗', '🍕', '🍔', '🥕', '🧁', '🍋', '🍰', '🥫', '🍗', '🥧', '🥛', '🍮', '🥡', '🍟', '🍅', '🥂', '🍸', '🥥', '🍢', '🍌', '🍝', '🍵', '🍼', '🍦', '🍭', '🍑', '🍹', '🍇', '🥨', '🍱', '🦞', '☕', '🌶', '🍻', '🍳', '🥒', '🍣', '🥟', '🥖', '🍶', '🍜', '🍓', '🦑', '🍩', '🌭'}"
   ]
  },
  {
   "cell_type": "code",
   "execution_count": 5,
   "id": "05b60f7a-e5c8-49db-8fea-0fbb4cbf10eb",
   "metadata": {},
   "outputs": [],
   "source": [
    "def filterEmoji(tweet):\n",
    "    return np.unique([c for c in tweet if c in emoji_set])"
   ]
  },
  {
   "cell_type": "code",
   "execution_count": 6,
   "id": "5bf290d8-3d67-48ce-bbcb-998396920566",
   "metadata": {},
   "outputs": [
    {
     "data": {
      "text/html": [
       "<div>\n",
       "<style scoped>\n",
       "    .dataframe tbody tr th:only-of-type {\n",
       "        vertical-align: middle;\n",
       "    }\n",
       "\n",
       "    .dataframe tbody tr th {\n",
       "        vertical-align: top;\n",
       "    }\n",
       "\n",
       "    .dataframe thead th {\n",
       "        text-align: right;\n",
       "    }\n",
       "</style>\n",
       "<table border=\"1\" class=\"dataframe\">\n",
       "  <thead>\n",
       "    <tr style=\"text-align: right;\">\n",
       "      <th></th>\n",
       "      <th>tweet</th>\n",
       "      <th>food_drink_emoji</th>\n",
       "    </tr>\n",
       "  </thead>\n",
       "  <tbody>\n",
       "    <tr>\n",
       "      <th>0</th>\n",
       "      <td>RT @CalorieFixess: 🍗🌯🍔🍒 400 Calories https://t...</td>\n",
       "      <td>[🌯, 🍒, 🍔, 🍗]</td>\n",
       "    </tr>\n",
       "    <tr>\n",
       "      <th>1</th>\n",
       "      <td>RT @1_F_I_R_S_T: _ 🍈¹〉Grow your account fast! ...</td>\n",
       "      <td>[🍇, 🍈, 🍉, 🍊, 🍍, 🍓]</td>\n",
       "    </tr>\n",
       "    <tr>\n",
       "      <th>2</th>\n",
       "      <td>RT @LegendDeols: 👉👉👉G€T Ready to dance💃🕺🕺🕺💃💃💃 ...</td>\n",
       "      <td>[🍸, 🥃]</td>\n",
       "    </tr>\n",
       "    <tr>\n",
       "      <th>3</th>\n",
       "      <td>@britch_x Hubby's friend bought us Wendy's-che...</td>\n",
       "      <td>[🍔, 🍟]</td>\n",
       "    </tr>\n",
       "    <tr>\n",
       "      <th>4</th>\n",
       "      <td>RT @DAILYPUPPlES: Workout partner ☕🍌😍 https://...</td>\n",
       "      <td>[☕, 🍌]</td>\n",
       "    </tr>\n",
       "  </tbody>\n",
       "</table>\n",
       "</div>"
      ],
      "text/plain": [
       "                                               tweet    food_drink_emoji\n",
       "0  RT @CalorieFixess: 🍗🌯🍔🍒 400 Calories https://t...        [🌯, 🍒, 🍔, 🍗]\n",
       "1  RT @1_F_I_R_S_T: _ 🍈¹〉Grow your account fast! ...  [🍇, 🍈, 🍉, 🍊, 🍍, 🍓]\n",
       "2  RT @LegendDeols: 👉👉👉G€T Ready to dance💃🕺🕺🕺💃💃💃 ...              [🍸, 🥃]\n",
       "3  @britch_x Hubby's friend bought us Wendy's-che...              [🍔, 🍟]\n",
       "4  RT @DAILYPUPPlES: Workout partner ☕🍌😍 https://...              [☕, 🍌]"
      ]
     },
     "execution_count": 6,
     "metadata": {},
     "output_type": "execute_result"
    }
   ],
   "source": [
    "tweets_df['food_drink_emoji'] = tweets_df['tweet'].apply(filterEmoji)\n",
    "tweets_df.head()"
   ]
  },
  {
   "cell_type": "markdown",
   "id": "ef40196d-eb71-4ea8-bf98-af1a87d99fb6",
   "metadata": {},
   "source": [
    "c)"
   ]
  },
  {
   "cell_type": "code",
   "execution_count": 7,
   "id": "9868e1cf-7d60-440f-abaa-90a882176b3f",
   "metadata": {},
   "outputs": [
    {
     "data": {
      "text/plain": [
       "array([[0, 0, 0, ..., 0, 0, 0],\n",
       "       [0, 0, 0, ..., 0, 0, 0],\n",
       "       [0, 0, 0, ..., 0, 0, 0],\n",
       "       ...,\n",
       "       [1, 0, 0, ..., 0, 0, 0],\n",
       "       [0, 0, 0, ..., 0, 0, 0],\n",
       "       [0, 0, 0, ..., 0, 0, 0]])"
      ]
     },
     "execution_count": 7,
     "metadata": {},
     "output_type": "execute_result"
    }
   ],
   "source": [
    "mlb = MultiLabelBinarizer()\n",
    "emoji_matrix_np = mlb.fit_transform(tweets_df['food_drink_emoji'])\n",
    "emoji_matrix_np"
   ]
  },
  {
   "cell_type": "code",
   "execution_count": 8,
   "id": "26d31436-8de9-4a61-95dc-cef541b15baa",
   "metadata": {},
   "outputs": [
    {
     "data": {
      "text/html": [
       "<div>\n",
       "<style scoped>\n",
       "    .dataframe tbody tr th:only-of-type {\n",
       "        vertical-align: middle;\n",
       "    }\n",
       "\n",
       "    .dataframe tbody tr th {\n",
       "        vertical-align: top;\n",
       "    }\n",
       "\n",
       "    .dataframe thead th {\n",
       "        text-align: right;\n",
       "    }\n",
       "</style>\n",
       "<table border=\"1\" class=\"dataframe\">\n",
       "  <thead>\n",
       "    <tr style=\"text-align: right;\">\n",
       "      <th></th>\n",
       "      <th>☕</th>\n",
       "      <th>🌭</th>\n",
       "      <th>🌮</th>\n",
       "      <th>🌯</th>\n",
       "      <th>🌰</th>\n",
       "      <th>🌶</th>\n",
       "      <th>🌽</th>\n",
       "      <th>🍄</th>\n",
       "      <th>🍅</th>\n",
       "      <th>🍆</th>\n",
       "      <th>...</th>\n",
       "      <th>🥭</th>\n",
       "      <th>🥮</th>\n",
       "      <th>🥯</th>\n",
       "      <th>🦀</th>\n",
       "      <th>🦐</th>\n",
       "      <th>🦑</th>\n",
       "      <th>🦞</th>\n",
       "      <th>🧀</th>\n",
       "      <th>🧁</th>\n",
       "      <th>🧂</th>\n",
       "    </tr>\n",
       "  </thead>\n",
       "  <tbody>\n",
       "    <tr>\n",
       "      <th>0</th>\n",
       "      <td>0</td>\n",
       "      <td>0</td>\n",
       "      <td>0</td>\n",
       "      <td>1</td>\n",
       "      <td>0</td>\n",
       "      <td>0</td>\n",
       "      <td>0</td>\n",
       "      <td>0</td>\n",
       "      <td>0</td>\n",
       "      <td>0</td>\n",
       "      <td>...</td>\n",
       "      <td>0</td>\n",
       "      <td>0</td>\n",
       "      <td>0</td>\n",
       "      <td>0</td>\n",
       "      <td>0</td>\n",
       "      <td>0</td>\n",
       "      <td>0</td>\n",
       "      <td>0</td>\n",
       "      <td>0</td>\n",
       "      <td>0</td>\n",
       "    </tr>\n",
       "    <tr>\n",
       "      <th>1</th>\n",
       "      <td>0</td>\n",
       "      <td>0</td>\n",
       "      <td>0</td>\n",
       "      <td>0</td>\n",
       "      <td>0</td>\n",
       "      <td>0</td>\n",
       "      <td>0</td>\n",
       "      <td>0</td>\n",
       "      <td>0</td>\n",
       "      <td>0</td>\n",
       "      <td>...</td>\n",
       "      <td>0</td>\n",
       "      <td>0</td>\n",
       "      <td>0</td>\n",
       "      <td>0</td>\n",
       "      <td>0</td>\n",
       "      <td>0</td>\n",
       "      <td>0</td>\n",
       "      <td>0</td>\n",
       "      <td>0</td>\n",
       "      <td>0</td>\n",
       "    </tr>\n",
       "    <tr>\n",
       "      <th>2</th>\n",
       "      <td>0</td>\n",
       "      <td>0</td>\n",
       "      <td>0</td>\n",
       "      <td>0</td>\n",
       "      <td>0</td>\n",
       "      <td>0</td>\n",
       "      <td>0</td>\n",
       "      <td>0</td>\n",
       "      <td>0</td>\n",
       "      <td>0</td>\n",
       "      <td>...</td>\n",
       "      <td>0</td>\n",
       "      <td>0</td>\n",
       "      <td>0</td>\n",
       "      <td>0</td>\n",
       "      <td>0</td>\n",
       "      <td>0</td>\n",
       "      <td>0</td>\n",
       "      <td>0</td>\n",
       "      <td>0</td>\n",
       "      <td>0</td>\n",
       "    </tr>\n",
       "    <tr>\n",
       "      <th>3</th>\n",
       "      <td>0</td>\n",
       "      <td>0</td>\n",
       "      <td>0</td>\n",
       "      <td>0</td>\n",
       "      <td>0</td>\n",
       "      <td>0</td>\n",
       "      <td>0</td>\n",
       "      <td>0</td>\n",
       "      <td>0</td>\n",
       "      <td>0</td>\n",
       "      <td>...</td>\n",
       "      <td>0</td>\n",
       "      <td>0</td>\n",
       "      <td>0</td>\n",
       "      <td>0</td>\n",
       "      <td>0</td>\n",
       "      <td>0</td>\n",
       "      <td>0</td>\n",
       "      <td>0</td>\n",
       "      <td>0</td>\n",
       "      <td>0</td>\n",
       "    </tr>\n",
       "    <tr>\n",
       "      <th>4</th>\n",
       "      <td>1</td>\n",
       "      <td>0</td>\n",
       "      <td>0</td>\n",
       "      <td>0</td>\n",
       "      <td>0</td>\n",
       "      <td>0</td>\n",
       "      <td>0</td>\n",
       "      <td>0</td>\n",
       "      <td>0</td>\n",
       "      <td>0</td>\n",
       "      <td>...</td>\n",
       "      <td>0</td>\n",
       "      <td>0</td>\n",
       "      <td>0</td>\n",
       "      <td>0</td>\n",
       "      <td>0</td>\n",
       "      <td>0</td>\n",
       "      <td>0</td>\n",
       "      <td>0</td>\n",
       "      <td>0</td>\n",
       "      <td>0</td>\n",
       "    </tr>\n",
       "  </tbody>\n",
       "</table>\n",
       "<p>5 rows × 105 columns</p>\n",
       "</div>"
      ],
      "text/plain": [
       "   ☕  🌭  🌮  🌯  🌰  🌶  🌽  🍄  🍅  🍆  ...  🥭  🥮  🥯  🦀  🦐  🦑  🦞  🧀  🧁  🧂\n",
       "0  0  0  0  1  0  0  0  0  0  0  ...  0  0  0  0  0  0  0  0  0  0\n",
       "1  0  0  0  0  0  0  0  0  0  0  ...  0  0  0  0  0  0  0  0  0  0\n",
       "2  0  0  0  0  0  0  0  0  0  0  ...  0  0  0  0  0  0  0  0  0  0\n",
       "3  0  0  0  0  0  0  0  0  0  0  ...  0  0  0  0  0  0  0  0  0  0\n",
       "4  1  0  0  0  0  0  0  0  0  0  ...  0  0  0  0  0  0  0  0  0  0\n",
       "\n",
       "[5 rows x 105 columns]"
      ]
     },
     "execution_count": 8,
     "metadata": {},
     "output_type": "execute_result"
    }
   ],
   "source": [
    "emoji_matrix = pd.DataFrame(emoji_matrix_np, columns=mlb.classes_)\n",
    "emoji_matrix.head()"
   ]
  },
  {
   "cell_type": "markdown",
   "id": "b9d4539b-5e25-40ec-8453-91b23b000e3a",
   "metadata": {},
   "source": [
    "### 1.2 Exploratory Data Analysis (EDA)\n",
    "a)"
   ]
  },
  {
   "cell_type": "code",
   "execution_count": 9,
   "id": "e1499004-9870-4899-a0da-c1a0c4379d65",
   "metadata": {},
   "outputs": [
    {
     "name": "stdout",
     "output_type": "stream",
     "text": [
      "105 different emojis are used in the dataset\n"
     ]
    }
   ],
   "source": [
    "print('{} different emojis are used in the dataset'.format(len(mlb.classes_)))"
   ]
  },
  {
   "cell_type": "markdown",
   "id": "c101d5da-f4ee-48ff-975f-a4698b5bf026",
   "metadata": {},
   "source": [
    "b)"
   ]
  },
  {
   "cell_type": "code",
   "execution_count": 10,
   "id": "c8963539-6ea5-4ad6-b4a2-bb760f5c7e37",
   "metadata": {},
   "outputs": [
    {
     "name": "stdout",
     "output_type": "stream",
     "text": [
      "On average, 2.6302 emojis are used in a Tweet\n"
     ]
    }
   ],
   "source": [
    "emoji_distribution = tweets_df['food_drink_emoji'].apply(len)\n",
    "print('On average, {} emojis are used in a Tweet'.format(emoji_distribution.mean()))"
   ]
  },
  {
   "cell_type": "code",
   "execution_count": 11,
   "id": "aacdd5fe-9382-4cb7-9ce2-0f93628958f3",
   "metadata": {},
   "outputs": [
    {
     "data": {
      "image/png": "[encoded data removed]",
      "text/plain": [
       "<Figure size 432x288 with 1 Axes>"
      ]
     },
     "metadata": {
      "needs_background": "light"
     },
     "output_type": "display_data"
    }
   ],
   "source": [
    "_ = emoji_distribution.plot(kind='hist', title='Distribution of Emojis')"
   ]
  },
  {
   "cell_type": "markdown",
   "id": "bad5b59d-97cf-4240-9cc2-ebd646838f7f",
   "metadata": {},
   "source": [
    "The emoji distribution is shown above, which seems to be quite right-skewed, so I decide to zoom in the histogram to better view the distribution. As there're only 4 tweets with emojis more than 25, I zoom into the range [0, 25] to create another histogram."
   ]
  },
  {
   "cell_type": "code",
   "execution_count": 12,
   "id": "68cfaca7-6b8e-4881-bb26-b5b04912b91b",
   "metadata": {},
   "outputs": [
    {
     "data": {
      "text/plain": [
       "4991    51\n",
       "5764    43\n",
       "6298    32\n",
       "8801    97\n",
       "Name: food_drink_emoji, dtype: int64"
      ]
     },
     "execution_count": 12,
     "metadata": {},
     "output_type": "execute_result"
    }
   ],
   "source": [
    "emoji_distribution[emoji_distribution > 25]"
   ]
  },
  {
   "cell_type": "code",
   "execution_count": 13,
   "id": "238b27a6-c01b-4144-a28d-83d815117983",
   "metadata": {},
   "outputs": [
    {
     "data": {
      "image/png": "[encoded data removed]",
      "text/plain": [
       "<Figure size 432x288 with 1 Axes>"
      ]
     },
     "metadata": {
      "needs_background": "light"
     },
     "output_type": "display_data"
    }
   ],
   "source": [
    "_ = emoji_distribution.plot(kind='hist', range=[0, 25], title='Distribution of Emojis (zoom in)')"
   ]
  },
  {
   "cell_type": "markdown",
   "id": "79b55507-ae66-4434-bc94-e0df396ee2be",
   "metadata": {},
   "source": [
    "The emoji distribution looks like a power law distribution.\n",
    "\n",
    "c)"
   ]
  },
  {
   "cell_type": "code",
   "execution_count": 14,
   "id": "6e4a212b-a31a-44c8-abd7-3f6b39e952d5",
   "metadata": {},
   "outputs": [
    {
     "name": "stdout",
     "output_type": "stream",
     "text": [
      "The top 5 emojis in the dataset are: ['🍻', '🎂', '🍔', '🍾', '🥂']\n"
     ]
    }
   ],
   "source": [
    "emoji_counter = {}\n",
    "for emoji in emoji_matrix.columns:\n",
    "    emoji_counter[emoji] = sum(emoji_matrix[emoji] > 0)\n",
    "print('The top 5 emojis in the dataset are: {}'.format(\n",
    "    sorted(emoji_counter, key=emoji_counter.get, reverse=True)[:5]))"
   ]
  },
  {
   "cell_type": "markdown",
   "id": "ed57aeb9-078f-4521-a1bc-de7632e61b96",
   "metadata": {},
   "source": [
    "## 2 The Apriori Algorithm"
   ]
  },
  {
   "cell_type": "markdown",
   "id": "911c200f-977d-4aad-aa9b-def2d771fed5",
   "metadata": {},
   "source": [
    "a)"
   ]
  },
  {
   "cell_type": "code",
   "execution_count": 15,
   "id": "cb19029b-79d7-429f-a3c9-ea4b40b371fd",
   "metadata": {},
   "outputs": [],
   "source": [
    "\"\"\"\n",
    "Parameters:\n",
    "    matrix - an one-hot encoded pandas DataFrame\n",
    "    k - specify the result to be frequent k-itemsets\n",
    "    min_support - minimal support\n",
    "\"\"\"\n",
    "def emoji_frequent_itemsets(matrix, k, min_support):\n",
    "    frequent_itemsets = apriori(matrix, min_support, use_colnames=True)\n",
    "    frequent_itemsets['length'] = frequent_itemsets['itemsets'].apply(len)\n",
    "    return frequent_itemsets[frequent_itemsets['length'] == k][['support', 'itemsets']].reset_index(drop=True)"
   ]
  },
  {
   "cell_type": "markdown",
   "id": "6e473d6a-aad1-40b5-bc4f-6f9e2b7519f5",
   "metadata": {},
   "source": [
    "b)  \n",
    "All frequent 3-itemsets with a min support of 0.007 are shown below."
   ]
  },
  {
   "cell_type": "code",
   "execution_count": 16,
   "id": "b15e440f-c8b1-422e-8cba-4c9e02300c8f",
   "metadata": {},
   "outputs": [
    {
     "data": {
      "text/html": [
       "<div>\n",
       "<style scoped>\n",
       "    .dataframe tbody tr th:only-of-type {\n",
       "        vertical-align: middle;\n",
       "    }\n",
       "\n",
       "    .dataframe tbody tr th {\n",
       "        vertical-align: top;\n",
       "    }\n",
       "\n",
       "    .dataframe thead th {\n",
       "        text-align: right;\n",
       "    }\n",
       "</style>\n",
       "<table border=\"1\" class=\"dataframe\">\n",
       "  <thead>\n",
       "    <tr style=\"text-align: right;\">\n",
       "      <th></th>\n",
       "      <th>support</th>\n",
       "      <th>itemsets</th>\n",
       "    </tr>\n",
       "  </thead>\n",
       "  <tbody>\n",
       "    <tr>\n",
       "      <th>0</th>\n",
       "      <td>0.0079</td>\n",
       "      <td>(🍇, 🍊, 🍉)</td>\n",
       "    </tr>\n",
       "    <tr>\n",
       "      <th>1</th>\n",
       "      <td>0.0092</td>\n",
       "      <td>(🍟, 🍕, 🍔)</td>\n",
       "    </tr>\n",
       "    <tr>\n",
       "      <th>2</th>\n",
       "      <td>0.0070</td>\n",
       "      <td>(🍫, 🍭, 🍬)</td>\n",
       "    </tr>\n",
       "    <tr>\n",
       "      <th>3</th>\n",
       "      <td>0.0117</td>\n",
       "      <td>(🍸, 🍹, 🍷)</td>\n",
       "    </tr>\n",
       "    <tr>\n",
       "      <th>4</th>\n",
       "      <td>0.0075</td>\n",
       "      <td>(🍸, 🍺, 🍷)</td>\n",
       "    </tr>\n",
       "    <tr>\n",
       "      <th>5</th>\n",
       "      <td>0.0076</td>\n",
       "      <td>(🍸, 🍻, 🍷)</td>\n",
       "    </tr>\n",
       "    <tr>\n",
       "      <th>6</th>\n",
       "      <td>0.0072</td>\n",
       "      <td>(🍸, 🥂, 🍷)</td>\n",
       "    </tr>\n",
       "    <tr>\n",
       "      <th>7</th>\n",
       "      <td>0.0072</td>\n",
       "      <td>(🍺, 🍹, 🍷)</td>\n",
       "    </tr>\n",
       "    <tr>\n",
       "      <th>8</th>\n",
       "      <td>0.0077</td>\n",
       "      <td>(🍻, 🍹, 🍷)</td>\n",
       "    </tr>\n",
       "    <tr>\n",
       "      <th>9</th>\n",
       "      <td>0.0070</td>\n",
       "      <td>(🥂, 🍹, 🍷)</td>\n",
       "    </tr>\n",
       "    <tr>\n",
       "      <th>10</th>\n",
       "      <td>0.0076</td>\n",
       "      <td>(🍾, 🥂, 🍷)</td>\n",
       "    </tr>\n",
       "    <tr>\n",
       "      <th>11</th>\n",
       "      <td>0.0076</td>\n",
       "      <td>(🍺, 🍹, 🍸)</td>\n",
       "    </tr>\n",
       "    <tr>\n",
       "      <th>12</th>\n",
       "      <td>0.0075</td>\n",
       "      <td>(🍻, 🍹, 🍸)</td>\n",
       "    </tr>\n",
       "    <tr>\n",
       "      <th>13</th>\n",
       "      <td>0.0072</td>\n",
       "      <td>(🍾, 🍹, 🍸)</td>\n",
       "    </tr>\n",
       "    <tr>\n",
       "      <th>14</th>\n",
       "      <td>0.0079</td>\n",
       "      <td>(🥂, 🍹, 🍸)</td>\n",
       "    </tr>\n",
       "    <tr>\n",
       "      <th>15</th>\n",
       "      <td>0.0104</td>\n",
       "      <td>(🎂, 🍾, 🥂)</td>\n",
       "    </tr>\n",
       "  </tbody>\n",
       "</table>\n",
       "</div>"
      ],
      "text/plain": [
       "    support   itemsets\n",
       "0    0.0079  (🍇, 🍊, 🍉)\n",
       "1    0.0092  (🍟, 🍕, 🍔)\n",
       "2    0.0070  (🍫, 🍭, 🍬)\n",
       "3    0.0117  (🍸, 🍹, 🍷)\n",
       "4    0.0075  (🍸, 🍺, 🍷)\n",
       "5    0.0076  (🍸, 🍻, 🍷)\n",
       "6    0.0072  (🍸, 🥂, 🍷)\n",
       "7    0.0072  (🍺, 🍹, 🍷)\n",
       "8    0.0077  (🍻, 🍹, 🍷)\n",
       "9    0.0070  (🥂, 🍹, 🍷)\n",
       "10   0.0076  (🍾, 🥂, 🍷)\n",
       "11   0.0076  (🍺, 🍹, 🍸)\n",
       "12   0.0075  (🍻, 🍹, 🍸)\n",
       "13   0.0072  (🍾, 🍹, 🍸)\n",
       "14   0.0079  (🥂, 🍹, 🍸)\n",
       "15   0.0104  (🎂, 🍾, 🥂)"
      ]
     },
     "execution_count": 16,
     "metadata": {},
     "output_type": "execute_result"
    }
   ],
   "source": [
    "emoji_frequent_itemsets(emoji_matrix, 3, 0.007)"
   ]
  },
  {
   "cell_type": "markdown",
   "id": "957d7dc4-d5f0-46c4-b3ab-dda4c1e96135",
   "metadata": {},
   "source": [
    "### 2.1 Apriori Algorithm under the Hood\n",
    "#### 2.1.1 Candidate Generation\n",
    "a)"
   ]
  },
  {
   "cell_type": "code",
   "execution_count": 17,
   "id": "c018e69f-508b-427c-af9c-7e63b261c2f9",
   "metadata": {},
   "outputs": [],
   "source": [
    "import emoji"
   ]
  },
  {
   "cell_type": "code",
   "execution_count": 18,
   "id": "9fb7d39f-4c60-4113-ab65-8af4aeca6ad0",
   "metadata": {},
   "outputs": [
    {
     "data": {
      "text/html": [
       "<div>\n",
       "<style scoped>\n",
       "    .dataframe tbody tr th:only-of-type {\n",
       "        vertical-align: middle;\n",
       "    }\n",
       "\n",
       "    .dataframe tbody tr th {\n",
       "        vertical-align: top;\n",
       "    }\n",
       "\n",
       "    .dataframe thead th {\n",
       "        text-align: right;\n",
       "    }\n",
       "</style>\n",
       "<table border=\"1\" class=\"dataframe\">\n",
       "  <thead>\n",
       "    <tr style=\"text-align: right;\">\n",
       "      <th></th>\n",
       "      <th>itemsets</th>\n",
       "    </tr>\n",
       "  </thead>\n",
       "  <tbody>\n",
       "    <tr>\n",
       "      <th>0</th>\n",
       "      <td>{🌭, 🍔}</td>\n",
       "    </tr>\n",
       "    <tr>\n",
       "      <th>1</th>\n",
       "      <td>{🌭, 🍕}</td>\n",
       "    </tr>\n",
       "    <tr>\n",
       "      <th>2</th>\n",
       "      <td>{🌮, 🍔}</td>\n",
       "    </tr>\n",
       "    <tr>\n",
       "      <th>3</th>\n",
       "      <td>{🌮, 🍕}</td>\n",
       "    </tr>\n",
       "    <tr>\n",
       "      <th>4</th>\n",
       "      <td>{🍑, 🍆}</td>\n",
       "    </tr>\n",
       "  </tbody>\n",
       "</table>\n",
       "</div>"
      ],
      "text/plain": [
       "  itemsets\n",
       "0   {🌭, 🍔}\n",
       "1   {🌭, 🍕}\n",
       "2   {🌮, 🍔}\n",
       "3   {🌮, 🍕}\n",
       "4   {🍑, 🍆}"
      ]
     },
     "execution_count": 18,
     "metadata": {},
     "output_type": "execute_result"
    }
   ],
   "source": [
    "freq_2_itemsets_df = pd.read_csv('itemsets_data/food_emoji_frequent_2_itemsets.csv', header=None, names=['itemsets'])\n",
    "freq_2_itemsets_df['itemsets'] = freq_2_itemsets_df['itemsets'].apply(\n",
    "    lambda x: set([e for e in x if e in emoji.UNICODE_EMOJI['en']]))\n",
    "freq_2_itemsets_df.head()"
   ]
  },
  {
   "cell_type": "code",
   "execution_count": 19,
   "id": "1a8c01b9-e8a1-4a47-b1b3-ab010a290e13",
   "metadata": {},
   "outputs": [],
   "source": [
    "'''\n",
    "def generate_candidate_3_itemsets(freq_2_itemsets):\n",
    "    freq_1_itemsets = set.union(*freq_2_itemsets)\n",
    "    freq_3_itemsets = set()\n",
    "    \n",
    "    for freq_2_itemset in freq_2_itemsets:\n",
    "        for freq_1_itemset in freq_1_itemsets:\n",
    "            newset = frozenset(list(freq_1_itemset) + list(freq_2_itemset))\n",
    "            if len(newset) == 3:\n",
    "                freq_3_itemsets.add(newset)\n",
    "    return list(freq_3_itemsets)\n",
    "'''\n",
    "# self join frequent 2 itemsets as the lecture slide shows\n",
    "def generate_candidate_3_itemsets(freq_2_itemsets):\n",
    "    freq_3_itemsets = set()\n",
    "    \n",
    "    for set1 in freq_2_itemsets:\n",
    "        for set2 in freq_2_itemsets:\n",
    "            newset = set1.union(set2)\n",
    "            if len(newset) == 3:\n",
    "                freq_3_itemsets.add(frozenset(newset))\n",
    "    return list(freq_3_itemsets)"
   ]
  },
  {
   "cell_type": "code",
   "execution_count": 20,
   "id": "b892de6e-ecca-4802-9c1c-a9dcda46dd8f",
   "metadata": {
    "tags": []
   },
   "outputs": [
    {
     "data": {
      "text/plain": [
       "[frozenset({'🍊', '🍑', '🥝'}),\n",
       " frozenset({'🍦', '🍩', '🍭'}),\n",
       " frozenset({'🍦', '🍫', '🍬'}),\n",
       " frozenset({'🍨', '🍫', '🍭'}),\n",
       " frozenset({'🍕', '🍦', '🎂'}),\n",
       " frozenset({'🍇', '🍌', '🍓'}),\n",
       " frozenset({'🍉', '🍋', '🎂'}),\n",
       " frozenset({'🍊', '🍋', '🍍'}),\n",
       " frozenset({'🍊', '🍋', '🍎'}),\n",
       " frozenset({'🍇', '🍍', '🥝'}),\n",
       " frozenset({'🍉', '🎂', '🥝'}),\n",
       " frozenset({'🍊', '🍍', '🥝'}),\n",
       " frozenset({'🍇', '🍎', '🍒'}),\n",
       " frozenset({'🍇', '🍍', '🍒'}),\n",
       " frozenset({'🍉', '🍋', '🍒'}),\n",
       " frozenset({'🍉', '🍒', '🎂'}),\n",
       " frozenset({'🍉', '🍬', '🎂'}),\n",
       " frozenset({'🍉', '🍍', '🎂'}),\n",
       " frozenset({'🍉', '🍋', '🥝'}),\n",
       " frozenset({'🍇', '🍍', '🍎'}),\n",
       " frozenset({'🍉', '🍎', '🎂'}),\n",
       " frozenset({'🌭', '🍔', '🍦'}),\n",
       " frozenset({'🍦', '🍧', '🍫'}),\n",
       " frozenset({'🍧', '🍬', '🍰'}),\n",
       " frozenset({'🌮', '🍔', '🍟'}),\n",
       " frozenset({'🍦', '🍨', '🍪'}),\n",
       " frozenset({'🍉', '🍎', '🍏'}),\n",
       " frozenset({'🍊', '🍎', '🍓'}),\n",
       " frozenset({'🍉', '🍍', '🍏'}),\n",
       " frozenset({'🍧', '🍬', '🎂'}),\n",
       " frozenset({'🍩', '🍪', '🍫'}),\n",
       " frozenset({'🍩', '🍰', '🎂'}),\n",
       " frozenset({'🍊', '🍏', '🍑'}),\n",
       " frozenset({'🍧', '🍭', '🎂'}),\n",
       " frozenset({'🍉', '🍌', '🍍'}),\n",
       " frozenset({'🌮', '🍕', '🍟'}),\n",
       " frozenset({'🍊', '🍒', '🍓'}),\n",
       " frozenset({'🍫', '🍰', '🎂'}),\n",
       " frozenset({'🍦', '🍨', '🍩'}),\n",
       " frozenset({'🍇', '🍉', '🍑'}),\n",
       " frozenset({'🍕', '🍖', '🍗'}),\n",
       " frozenset({'🍩', '🍬', '🍰'}),\n",
       " frozenset({'🍫', '🍭', '🍰'}),\n",
       " frozenset({'🍊', '🍌', '🍎'}),\n",
       " frozenset({'🍔', '🍕', '🍗'}),\n",
       " frozenset({'🌭', '🍕', '🍟'}),\n",
       " frozenset({'🍎', '🍑', '🍒'}),\n",
       " frozenset({'🍇', '🍍', '🍏'}),\n",
       " frozenset({'🍇', '🍎', '🍏'}),\n",
       " frozenset({'🍉', '🍋', '🍑'}),\n",
       " frozenset({'🍍', '🍎', '🍏'}),\n",
       " frozenset({'🍨', '🍩', '🍫'}),\n",
       " frozenset({'🍫', '🍭', '🎂'}),\n",
       " frozenset({'🍋', '🍎', '🍓'}),\n",
       " frozenset({'🍋', '🍍', '🍓'}),\n",
       " frozenset({'🍦', '🍧', '🍰'}),\n",
       " frozenset({'🍦', '🍪', '🍭'}),\n",
       " frozenset({'🍇', '🍊', '🍌'}),\n",
       " frozenset({'🍉', '🍍', '🍒'}),\n",
       " frozenset({'🍊', '🍌', '🍓'}),\n",
       " frozenset({'🍉', '🍎', '🍒'}),\n",
       " frozenset({'🍦', '🍧', '🎂'}),\n",
       " frozenset({'🌮', '🍔', '🍦'}),\n",
       " frozenset({'🍉', '🍍', '🥝'}),\n",
       " frozenset({'🍦', '🍬', '🎂'}),\n",
       " frozenset({'🍨', '🍭', '🎂'}),\n",
       " frozenset({'🍉', '🍋', '🍎'}),\n",
       " frozenset({'🍔', '🍦', '🍫'}),\n",
       " frozenset({'🍉', '🍋', '🍍'}),\n",
       " frozenset({'🍊', '🍎', '🍒'}),\n",
       " frozenset({'🍦', '🍧', '🍩'}),\n",
       " frozenset({'🍉', '🍌', '🍓'}),\n",
       " frozenset({'🍊', '🍋', '🍑'}),\n",
       " frozenset({'🍕', '🍦', '🍪'}),\n",
       " frozenset({'🍇', '🍒', '🥝'}),\n",
       " frozenset({'🍉', '🍑', '🍒'}),\n",
       " frozenset({'🍦', '🍩', '🍰'}),\n",
       " frozenset({'🍉', '🍏', '🍓'}),\n",
       " frozenset({'🍨', '🍫', '🍰'}),\n",
       " frozenset({'🍉', '🍭', '🎂'}),\n",
       " frozenset({'🍇', '🍊', '🍍'}),\n",
       " frozenset({'🍇', '🍉', '🎂'}),\n",
       " frozenset({'🍉', '🍊', '🎂'}),\n",
       " frozenset({'🍎', '🍐', '🍓'}),\n",
       " frozenset({'🍇', '🍎', '🍓'}),\n",
       " frozenset({'🍕', '🍗', '🍟'}),\n",
       " frozenset({'🍉', '🍑', '🍓'}),\n",
       " frozenset({'🍉', '🍊', '🍋'}),\n",
       " frozenset({'🌭', '🌮', '🍔'}),\n",
       " frozenset({'🍦', '🍨', '🍭'}),\n",
       " frozenset({'🍇', '🍊', '🍒'}),\n",
       " frozenset({'🍏', '🍑', '🍓'}),\n",
       " frozenset({'🍩', '🍫', '🍭'}),\n",
       " frozenset({'🍇', '🍑', '🍓'}),\n",
       " frozenset({'🍊', '🍑', '🍓'}),\n",
       " frozenset({'🍦', '🍨', '🍰'}),\n",
       " frozenset({'🍦', '🍨', '🎂'}),\n",
       " frozenset({'🍩', '🍫', '🍰'}),\n",
       " frozenset({'🍩', '🍫', '🎂'}),\n",
       " frozenset({'🍇', '🍊', '🍑'}),\n",
       " frozenset({'🍬', '🍭', '🍰'}),\n",
       " frozenset({'🍩', '🍪', '🍰'}),\n",
       " frozenset({'🍬', '🍭', '🎂'}),\n",
       " frozenset({'🍇', '🍉', '🍍'}),\n",
       " frozenset({'🍉', '🍊', '🍍'}),\n",
       " frozenset({'🍌', '🍒', '🍓'}),\n",
       " frozenset({'🌮', '🍕', '🍗'}),\n",
       " frozenset({'🍊', '🍌', '🥝'}),\n",
       " frozenset({'🍪', '🍫', '🍰'}),\n",
       " frozenset({'🍪', '🍫', '🎂'}),\n",
       " frozenset({'🍊', '🍍', '🍏'}),\n",
       " frozenset({'🍉', '🍍', '🍓'}),\n",
       " frozenset({'🍉', '🍎', '🍐'}),\n",
       " frozenset({'🍇', '🍏', '🍓'}),\n",
       " frozenset({'🍉', '🍦', '🎂'}),\n",
       " frozenset({'🍇', '🍑', '🍒'}),\n",
       " frozenset({'🍉', '🍒', '🥝'}),\n",
       " frozenset({'🍊', '🍋', '🥝'}),\n",
       " frozenset({'🍊', '🍎', '🍏'}),\n",
       " frozenset({'🍊', '🍑', '🍒'}),\n",
       " frozenset({'🍔', '🍦', '🎂'}),\n",
       " frozenset({'🍕', '🍦', '🍧'}),\n",
       " frozenset({'🍇', '🍉', '🍓'}),\n",
       " frozenset({'🍉', '🍊', '🍓'}),\n",
       " frozenset({'🍕', '🍦', '🍰'}),\n",
       " frozenset({'🍍', '🍏', '🥝'}),\n",
       " frozenset({'🍎', '🍑', '🍓'}),\n",
       " frozenset({'🍎', '🍏', '🍒'}),\n",
       " frozenset({'🍉', '🍑', '🎂'}),\n",
       " frozenset({'🍊', '🍍', '🍑'}),\n",
       " frozenset({'🍉', '🍊', '🍌'}),\n",
       " frozenset({'🍇', '🍉', '🍌'}),\n",
       " frozenset({'🍍', '🍒', '🍓'}),\n",
       " frozenset({'🍎', '🍐', '🍒'}),\n",
       " frozenset({'🍎', '🍒', '🍓'}),\n",
       " frozenset({'🍍', '🍓', '🥝'}),\n",
       " frozenset({'🌭', '🍕', '🍦'}),\n",
       " frozenset({'🍇', '🍎', '🥝'}),\n",
       " frozenset({'🍊', '🍎', '🥝'}),\n",
       " frozenset({'🍦', '🍧', '🍭'}),\n",
       " frozenset({'🍉', '🍎', '🍑'}),\n",
       " frozenset({'🍦', '🍪', '🎂'}),\n",
       " frozenset({'🍉', '🍑', '🥝'}),\n",
       " frozenset({'🍦', '🍭', '🍰'}),\n",
       " frozenset({'🍨', '🍬', '🍰'}),\n",
       " frozenset({'🍦', '🍭', '🎂'}),\n",
       " frozenset({'🍦', '🍧', '🍪'}),\n",
       " frozenset({'🍨', '🍬', '🎂'}),\n",
       " frozenset({'🍕', '🍦', '🍫'}),\n",
       " frozenset({'🍔', '🍦', '🍩'}),\n",
       " frozenset({'🍋', '🍑', '🍓'}),\n",
       " frozenset({'🍪', '🍫', '🍭'}),\n",
       " frozenset({'🍧', '🍫', '🎂'}),\n",
       " frozenset({'🍋', '🍌', '🍓'}),\n",
       " frozenset({'🍔', '🍕', '🍟'}),\n",
       " frozenset({'🍊', '🍌', '🍑'}),\n",
       " frozenset({'🍧', '🍨', '🍫'}),\n",
       " frozenset({'🍧', '🍪', '🍰'}),\n",
       " frozenset({'🍩', '🍫', '🍬'}),\n",
       " frozenset({'🍭', '🍰', '🎂'}),\n",
       " frozenset({'🌭', '🍕', '🍗'}),\n",
       " frozenset({'🍪', '🍰', '🎂'}),\n",
       " frozenset({'🍧', '🍭', '🍰'}),\n",
       " frozenset({'🍇', '🍉', '🍋'}),\n",
       " frozenset({'🍆', '🍉', '🍑'}),\n",
       " frozenset({'🍔', '🍗', '🍟'}),\n",
       " frozenset({'🍉', '🍌', '🎂'}),\n",
       " frozenset({'🌮', '🍔', '🍗'}),\n",
       " frozenset({'🍌', '🍎', '🍓'}),\n",
       " frozenset({'🍉', '🍊', '🥝'}),\n",
       " frozenset({'🍎', '🍏', '🍓'}),\n",
       " frozenset({'🍍', '🍏', '🍓'}),\n",
       " frozenset({'🍎', '🍏', '🍐'}),\n",
       " frozenset({'🍉', '🍋', '🍌'}),\n",
       " frozenset({'🍦', '🍧', '🍨'}),\n",
       " frozenset({'🌮', '🍔', '🍕'}),\n",
       " frozenset({'🍉', '🍍', '🍎'}),\n",
       " frozenset({'🍉', '🍰', '🎂'}),\n",
       " frozenset({'🍊', '🍏', '🍓'}),\n",
       " frozenset({'🍦', '🍪', '🍫'}),\n",
       " frozenset({'🍋', '🍒', '🍓'}),\n",
       " frozenset({'🍇', '🍊', '🍏'}),\n",
       " frozenset({'🍦', '🍰', '🎂'}),\n",
       " frozenset({'🍦', '🍩', '🍪'}),\n",
       " frozenset({'🍨', '🍪', '🍫'}),\n",
       " frozenset({'🍕', '🍗', '🍦'}),\n",
       " frozenset({'🍧', '🍨', '🎂'}),\n",
       " frozenset({'🍔', '🍦', '🍧'}),\n",
       " frozenset({'🍨', '🍰', '🎂'}),\n",
       " frozenset({'🍦', '🍩', '🍫'}),\n",
       " frozenset({'🍦', '🍬', '🍭'}),\n",
       " frozenset({'🍔', '🍦', '🍪'}),\n",
       " frozenset({'🍌', '🍏', '🍓'}),\n",
       " frozenset({'🍦', '🍬', '🍰'}),\n",
       " frozenset({'🍨', '🍭', '🍰'}),\n",
       " frozenset({'🍉', '🍫', '🎂'}),\n",
       " frozenset({'🍉', '🍊', '🍏'}),\n",
       " frozenset({'🍌', '🍑', '🍓'}),\n",
       " frozenset({'🌭', '🌮', '🍕'}),\n",
       " frozenset({'🍉', '🍌', '🍒'}),\n",
       " frozenset({'🍊', '🍍', '🍓'}),\n",
       " frozenset({'🍊', '🍋', '🍌'}),\n",
       " frozenset({'🍊', '🍎', '🍐'}),\n",
       " frozenset({'🍦', '🍨', '🍫'}),\n",
       " frozenset({'🍫', '🍬', '🍭'}),\n",
       " frozenset({'🍉', '🍌', '🍎'}),\n",
       " frozenset({'🍇', '🍓', '🥝'}),\n",
       " frozenset({'🍊', '🍋', '🍏'}),\n",
       " frozenset({'🍊', '🍓', '🥝'}),\n",
       " frozenset({'🍧', '🍩', '🍰'}),\n",
       " frozenset({'🍪', '🍫', '🍬'}),\n",
       " frozenset({'🌭', '🍔', '🍕'}),\n",
       " frozenset({'🍇', '🍊', '🥝'}),\n",
       " frozenset({'🍋', '🍏', '🍓'}),\n",
       " frozenset({'🍖', '🍗', '🍟'}),\n",
       " frozenset({'🍬', '🍰', '🎂'}),\n",
       " frozenset({'🍇', '🍋', '🍓'}),\n",
       " frozenset({'🍊', '🍋', '🍓'}),\n",
       " frozenset({'🍊', '🍏', '🥝'}),\n",
       " frozenset({'🍆', '🍑', '🍓'}),\n",
       " frozenset({'🍉', '🍒', '🍓'}),\n",
       " frozenset({'🍊', '🍌', '🍍'}),\n",
       " frozenset({'🍔', '🍦', '🍨'}),\n",
       " frozenset({'🍏', '🍒', '🍓'}),\n",
       " frozenset({'🍧', '🍰', '🎂'}),\n",
       " frozenset({'🍆', '🍊', '🍑'}),\n",
       " frozenset({'🍇', '🍉', '🥝'}),\n",
       " frozenset({'🍪', '🍭', '🍰'}),\n",
       " frozenset({'🍔', '🍖', '🍗'}),\n",
       " frozenset({'🍇', '🍉', '🍎'}),\n",
       " frozenset({'🍉', '🍊', '🍎'}),\n",
       " frozenset({'🍕', '🍦', '🍨'}),\n",
       " frozenset({'🍉', '🍌', '🍑'}),\n",
       " frozenset({'🍇', '🍉', '🍊'}),\n",
       " frozenset({'🍔', '🍗', '🍦'}),\n",
       " frozenset({'🌮', '🍕', '🍦'}),\n",
       " frozenset({'🍑', '🍒', '🍓'}),\n",
       " frozenset({'🍍', '🍑', '🍓'}),\n",
       " frozenset({'🍉', '🍧', '🎂'}),\n",
       " frozenset({'🍊', '🍎', '🍑'}),\n",
       " frozenset({'🍉', '🍎', '🥝'}),\n",
       " frozenset({'🍔', '🍕', '🍦'}),\n",
       " frozenset({'🍦', '🍫', '🍭'}),\n",
       " frozenset({'🍨', '🍫', '🍬'}),\n",
       " frozenset({'🍦', '🍫', '🍰'}),\n",
       " frozenset({'🍨', '🍩', '🍰'}),\n",
       " frozenset({'🍔', '🍟', '🍦'}),\n",
       " frozenset({'🍦', '🍫', '🎂'}),\n",
       " frozenset({'🍕', '🍦', '🍭'}),\n",
       " frozenset({'🍊', '🍌', '🍏'}),\n",
       " frozenset({'🍕', '🍦', '🍩'}),\n",
       " frozenset({'🍉', '🍍', '🍑'}),\n",
       " frozenset({'🍦', '🍪', '🍰'}),\n",
       " frozenset({'🍦', '🍩', '🎂'}),\n",
       " frozenset({'🍨', '🍫', '🎂'}),\n",
       " frozenset({'🍕', '🍟', '🍦'}),\n",
       " frozenset({'🍊', '🍍', '🍎'}),\n",
       " frozenset({'🍨', '🍪', '🍰'}),\n",
       " frozenset({'🍍', '🍎', '🍓'}),\n",
       " frozenset({'🍇', '🍊', '🍓'}),\n",
       " frozenset({'🍔', '🍦', '🍭'}),\n",
       " frozenset({'🌭', '🍔', '🍗'}),\n",
       " frozenset({'🍧', '🍫', '🍰'}),\n",
       " frozenset({'🍇', '🍊', '🍎'}),\n",
       " frozenset({'🍇', '🍍', '🍓'}),\n",
       " frozenset({'🍇', '🍎', '🍐'}),\n",
       " frozenset({'🍉', '🍓', '🎂'}),\n",
       " frozenset({'🍉', '🍌', '🥝'}),\n",
       " frozenset({'🍇', '🍒', '🍓'}),\n",
       " frozenset({'🍉', '🍋', '🍓'}),\n",
       " frozenset({'🍉', '🍊', '🍑'}),\n",
       " frozenset({'🌭', '🍔', '🍟'}),\n",
       " frozenset({'🍉', '🍓', '🥝'}),\n",
       " frozenset({'🍉', '🍨', '🎂'}),\n",
       " frozenset({'🍉', '🍊', '🍒'}),\n",
       " frozenset({'🍇', '🍉', '🍒'}),\n",
       " frozenset({'🍌', '🍍', '🍓'}),\n",
       " frozenset({'🍧', '🍨', '🍰'}),\n",
       " frozenset({'🍇', '🍊', '🍋'}),\n",
       " frozenset({'🍩', '🍭', '🍰'}),\n",
       " frozenset({'🍫', '🍬', '🍰'}),\n",
       " frozenset({'🍫', '🍬', '🎂'}),\n",
       " frozenset({'🍉', '🍎', '🍓'}),\n",
       " frozenset({'🍪', '🍬', '🍰'}),\n",
       " frozenset({'🍔', '🍦', '🍰'}),\n",
       " frozenset({'🍆', '🍑', '🍒'})]"
      ]
     },
     "execution_count": 20,
     "metadata": {},
     "output_type": "execute_result"
    }
   ],
   "source": [
    "candidate_3_itemsets = generate_candidate_3_itemsets(freq_2_itemsets_df['itemsets'].tolist())\n",
    "candidate_3_itemsets"
   ]
  },
  {
   "cell_type": "code",
   "execution_count": 21,
   "id": "08589f41-5eda-4e44-b824-59b2cc0c2c0f",
   "metadata": {},
   "outputs": [
    {
     "name": "stdout",
     "output_type": "stream",
     "text": [
      "The length of the candidate 3-itemsets generated by my generate_candidate_3_itemsets is 286\n"
     ]
    }
   ],
   "source": [
    "print('The length of the candidate 3-itemsets generated by my generate_candidate_3_itemsets is {}'.format(\n",
    "    len(candidate_3_itemsets)))"
   ]
  },
  {
   "cell_type": "markdown",
   "id": "5a445e0b-ef99-49b9-9a38-8cdd71db3775",
   "metadata": {},
   "source": [
    "b)"
   ]
  },
  {
   "cell_type": "code",
   "execution_count": 22,
   "id": "d9801dcc-a853-4d14-a36b-c305ba3e9c85",
   "metadata": {},
   "outputs": [],
   "source": [
    "from itertools import combinations\n",
    "def prune_candidate_3_itemsets(candidate_3_itemsets, freq_2_itemsets):\n",
    "    freq_3_itemsets = set()\n",
    "    for itemset in candidate_3_itemsets:\n",
    "        subsets = [set(i) for i in combinations(itemset, 2)]\n",
    "        if all(elem in freq_2_itemsets for elem in subsets):\n",
    "            freq_3_itemsets.add(frozenset(itemset))\n",
    "    return list(freq_3_itemsets)"
   ]
  },
  {
   "cell_type": "code",
   "execution_count": 23,
   "id": "d288b19c-219d-4cf6-91f2-57647334b173",
   "metadata": {
    "tags": []
   },
   "outputs": [
    {
     "data": {
      "text/plain": [
       "[frozenset({'🍇', '🍍', '🥝'}),\n",
       " frozenset({'🍊', '🍍', '🥝'}),\n",
       " frozenset({'🍇', '🍎', '🍒'}),\n",
       " frozenset({'🍩', '🍪', '🍫'}),\n",
       " frozenset({'🍊', '🍎', '🍓'}),\n",
       " frozenset({'🍫', '🍰', '🎂'}),\n",
       " frozenset({'🍫', '🍭', '🍰'}),\n",
       " frozenset({'🍔', '🍕', '🍗'}),\n",
       " frozenset({'🍦', '🍧', '🍰'}),\n",
       " frozenset({'🍦', '🍧', '🎂'}),\n",
       " frozenset({'🍊', '🍌', '🍓'}),\n",
       " frozenset({'🍉', '🍎', '🍒'}),\n",
       " frozenset({'🍉', '🍍', '🥝'}),\n",
       " frozenset({'🍉', '🍌', '🍓'}),\n",
       " frozenset({'🍦', '🍩', '🍰'}),\n",
       " frozenset({'🍉', '🍑', '🍒'}),\n",
       " frozenset({'🍨', '🍫', '🍰'}),\n",
       " frozenset({'🍇', '🍊', '🍍'}),\n",
       " frozenset({'🍇', '🍎', '🍓'}),\n",
       " frozenset({'🍕', '🍗', '🍟'}),\n",
       " frozenset({'🍉', '🍑', '🍓'}),\n",
       " frozenset({'🍉', '🍊', '🍋'}),\n",
       " frozenset({'🍊', '🍑', '🍓'}),\n",
       " frozenset({'🍦', '🍨', '🍰'}),\n",
       " frozenset({'🍦', '🍨', '🎂'}),\n",
       " frozenset({'🍩', '🍫', '🍰'}),\n",
       " frozenset({'🍬', '🍭', '🍰'}),\n",
       " frozenset({'🍬', '🍭', '🎂'}),\n",
       " frozenset({'🍩', '🍪', '🍰'}),\n",
       " frozenset({'🍇', '🍉', '🍍'}),\n",
       " frozenset({'🍉', '🍊', '🍍'}),\n",
       " frozenset({'🍪', '🍫', '🍰'}),\n",
       " frozenset({'🍊', '🍍', '🍏'}),\n",
       " frozenset({'🍉', '🍍', '🍓'}),\n",
       " frozenset({'🍊', '🍎', '🍏'}),\n",
       " frozenset({'🍧', '🍨', '🍰'}),\n",
       " frozenset({'🍇', '🍉', '🍓'}),\n",
       " frozenset({'🍉', '🍊', '🍓'}),\n",
       " frozenset({'🍉', '🍊', '🍌'}),\n",
       " frozenset({'🍎', '🍒', '🍓'}),\n",
       " frozenset({'🍦', '🍭', '🍰'}),\n",
       " frozenset({'🍦', '🍭', '🎂'}),\n",
       " frozenset({'🍔', '🍕', '🍟'}),\n",
       " frozenset({'🍭', '🍰', '🎂'}),\n",
       " frozenset({'🍔', '🍗', '🍟'}),\n",
       " frozenset({'🍉', '🍊', '🥝'}),\n",
       " frozenset({'🍎', '🍏', '🍓'}),\n",
       " frozenset({'🍍', '🍏', '🍓'}),\n",
       " frozenset({'🍦', '🍧', '🍨'}),\n",
       " frozenset({'🌮', '🍔', '🍕'}),\n",
       " frozenset({'🍊', '🍏', '🍓'}),\n",
       " frozenset({'🍦', '🍪', '🍫'}),\n",
       " frozenset({'🍦', '🍰', '🎂'}),\n",
       " frozenset({'🍦', '🍩', '🍪'}),\n",
       " frozenset({'🍨', '🍰', '🎂'}),\n",
       " frozenset({'🍦', '🍩', '🍫'}),\n",
       " frozenset({'🍊', '🍍', '🍓'}),\n",
       " frozenset({'🍦', '🍨', '🍫'}),\n",
       " frozenset({'🍫', '🍬', '🍭'}),\n",
       " frozenset({'🌭', '🍔', '🍕'}),\n",
       " frozenset({'🍇', '🍊', '🥝'}),\n",
       " frozenset({'🍬', '🍰', '🎂'}),\n",
       " frozenset({'🍫', '🍭', '🎂'}),\n",
       " frozenset({'🍊', '🍋', '🍓'}),\n",
       " frozenset({'🍉', '🍒', '🍓'}),\n",
       " frozenset({'🍧', '🍰', '🎂'}),\n",
       " frozenset({'🍇', '🍉', '🥝'}),\n",
       " frozenset({'🍇', '🍉', '🍎'}),\n",
       " frozenset({'🍉', '🍊', '🍎'}),\n",
       " frozenset({'🍇', '🍉', '🍊'}),\n",
       " frozenset({'🍑', '🍒', '🍓'}),\n",
       " frozenset({'🍦', '🍫', '🍭'}),\n",
       " frozenset({'🍔', '🍕', '🍦'}),\n",
       " frozenset({'🍦', '🍫', '🍰'}),\n",
       " frozenset({'🍦', '🍫', '🎂'}),\n",
       " frozenset({'🍦', '🍪', '🍰'}),\n",
       " frozenset({'🍨', '🍫', '🎂'}),\n",
       " frozenset({'🍇', '🍊', '🍓'}),\n",
       " frozenset({'🍇', '🍊', '🍎'}),\n",
       " frozenset({'🍇', '🍍', '🍓'}),\n",
       " frozenset({'🍇', '🍒', '🍓'}),\n",
       " frozenset({'🍉', '🍋', '🍓'}),\n",
       " frozenset({'🍉', '🍊', '🍑'}),\n",
       " frozenset({'🍇', '🍉', '🍒'}),\n",
       " frozenset({'🍫', '🍬', '🍰'}),\n",
       " frozenset({'🍫', '🍬', '🎂'}),\n",
       " frozenset({'🍉', '🍎', '🍓'}),\n",
       " frozenset({'🍧', '🍨', '🎂'})]"
      ]
     },
     "execution_count": 23,
     "metadata": {},
     "output_type": "execute_result"
    }
   ],
   "source": [
    "new_candidate_3_itemsets = prune_candidate_3_itemsets(candidate_3_itemsets, freq_2_itemsets_df['itemsets'].tolist())\n",
    "new_candidate_3_itemsets"
   ]
  },
  {
   "cell_type": "code",
   "execution_count": 24,
   "id": "1b75b6c5-8f0b-469c-ab02-b783179400bd",
   "metadata": {},
   "outputs": [
    {
     "name": "stdout",
     "output_type": "stream",
     "text": [
      "The length of my pruned candidate 3-itemsets is 88\n"
     ]
    }
   ],
   "source": [
    "print('The length of my pruned candidate 3-itemsets is {}'.format(len(new_candidate_3_itemsets)))"
   ]
  },
  {
   "cell_type": "markdown",
   "id": "36a9bb4f-775a-4c0e-b22c-afbcb5510ee1",
   "metadata": {},
   "source": [
    "#### 2.1.2 Database Scan\n",
    "a)"
   ]
  },
  {
   "cell_type": "code",
   "execution_count": 25,
   "id": "8c139931-8d8b-46b4-aaa0-6cc9c3e37bc2",
   "metadata": {},
   "outputs": [],
   "source": [
    "def calculate_frequent_itemsets(candidate_itemsets, min_support):\n",
    "    candidate_df = pd.DataFrame({'itemset': new_candidate_3_itemsets, 'support': [0.0]*len(new_candidate_3_itemsets)})\n",
    "    for i, row in emoji_matrix.iterrows():\n",
    "        for j, candidate in candidate_df.iterrows():\n",
    "            a, b, c = candidate['itemset']\n",
    "            if row[a] and row[b] and row[c]:\n",
    "                candidate_df['support'][j] += 1\n",
    "    candidate_df['support'] /= len(emoji_matrix)\n",
    "    return candidate_df[candidate_df['support'] >= min_support]['itemset'].tolist()"
   ]
  },
  {
   "cell_type": "markdown",
   "id": "b023e9ac-ed79-47ce-96a0-d42b43b712d5",
   "metadata": {},
   "source": [
    "To test my function, I call calculate_frequent_itemsets to return all the frequent 3-itemsets with a minimal support of 0.007."
   ]
  },
  {
   "cell_type": "code",
   "execution_count": 26,
   "id": "97dc1308-26f3-4c02-a732-8cbaebde1597",
   "metadata": {},
   "outputs": [
    {
     "name": "stderr",
     "output_type": "stream",
     "text": [
      "<ipython-input-25-810d0a37b4f6>:7: SettingWithCopyWarning: \n",
      "A value is trying to be set on a copy of a slice from a DataFrame\n",
      "\n",
      "See the caveats in the documentation: https://pandas.pydata.org/pandas-docs/stable/user_guide/indexing.html#returning-a-view-versus-a-copy\n",
      "  candidate_df['support'][j] += 1\n"
     ]
    },
    {
     "data": {
      "text/plain": [
       "[frozenset({'🍔', '🍕', '🍟'}),\n",
       " frozenset({'🍫', '🍬', '🍭'}),\n",
       " frozenset({'🍇', '🍉', '🍊'})]"
      ]
     },
     "execution_count": 26,
     "metadata": {},
     "output_type": "execute_result"
    }
   ],
   "source": [
    "calculate_frequent_itemsets(new_candidate_3_itemsets, 0.007)"
   ]
  },
  {
   "cell_type": "markdown",
   "id": "84cfb7f2-0610-4a25-899e-74bd80723f52",
   "metadata": {},
   "source": [
    "## 3. Evaluating Frequent Itemsets\n",
    "a)"
   ]
  },
  {
   "cell_type": "code",
   "execution_count": 27,
   "id": "2180f4c2-a30f-483f-848d-a0312c07d5ca",
   "metadata": {},
   "outputs": [
    {
     "data": {
      "text/html": [
       "<div>\n",
       "<style scoped>\n",
       "    .dataframe tbody tr th:only-of-type {\n",
       "        vertical-align: middle;\n",
       "    }\n",
       "\n",
       "    .dataframe tbody tr th {\n",
       "        vertical-align: top;\n",
       "    }\n",
       "\n",
       "    .dataframe thead th {\n",
       "        text-align: right;\n",
       "    }\n",
       "</style>\n",
       "<table border=\"1\" class=\"dataframe\">\n",
       "  <thead>\n",
       "    <tr style=\"text-align: right;\">\n",
       "      <th></th>\n",
       "      <th>antecedents</th>\n",
       "      <th>consequents</th>\n",
       "      <th>antecedent support</th>\n",
       "      <th>consequent support</th>\n",
       "      <th>support</th>\n",
       "      <th>confidence</th>\n",
       "      <th>lift</th>\n",
       "      <th>leverage</th>\n",
       "      <th>conviction</th>\n",
       "    </tr>\n",
       "  </thead>\n",
       "  <tbody>\n",
       "    <tr>\n",
       "      <th>0</th>\n",
       "      <td>(☕)</td>\n",
       "      <td>(🍩)</td>\n",
       "      <td>0.0589</td>\n",
       "      <td>0.0312</td>\n",
       "      <td>0.0084</td>\n",
       "      <td>0.142615</td>\n",
       "      <td>4.570981</td>\n",
       "      <td>0.006562</td>\n",
       "      <td>1.129947</td>\n",
       "    </tr>\n",
       "    <tr>\n",
       "      <th>1</th>\n",
       "      <td>(🍩)</td>\n",
       "      <td>(☕)</td>\n",
       "      <td>0.0312</td>\n",
       "      <td>0.0589</td>\n",
       "      <td>0.0084</td>\n",
       "      <td>0.269231</td>\n",
       "      <td>4.570981</td>\n",
       "      <td>0.006562</td>\n",
       "      <td>1.287821</td>\n",
       "    </tr>\n",
       "    <tr>\n",
       "      <th>2</th>\n",
       "      <td>(🌭)</td>\n",
       "      <td>(🍔)</td>\n",
       "      <td>0.0193</td>\n",
       "      <td>0.1384</td>\n",
       "      <td>0.0113</td>\n",
       "      <td>0.585492</td>\n",
       "      <td>4.230435</td>\n",
       "      <td>0.008629</td>\n",
       "      <td>2.078610</td>\n",
       "    </tr>\n",
       "    <tr>\n",
       "      <th>3</th>\n",
       "      <td>(🍔)</td>\n",
       "      <td>(🌭)</td>\n",
       "      <td>0.1384</td>\n",
       "      <td>0.0193</td>\n",
       "      <td>0.0113</td>\n",
       "      <td>0.081647</td>\n",
       "      <td>4.230435</td>\n",
       "      <td>0.008629</td>\n",
       "      <td>1.067890</td>\n",
       "    </tr>\n",
       "    <tr>\n",
       "      <th>4</th>\n",
       "      <td>(🌭)</td>\n",
       "      <td>(🍕)</td>\n",
       "      <td>0.0193</td>\n",
       "      <td>0.0441</td>\n",
       "      <td>0.0050</td>\n",
       "      <td>0.259067</td>\n",
       "      <td>5.874543</td>\n",
       "      <td>0.004149</td>\n",
       "      <td>1.290131</td>\n",
       "    </tr>\n",
       "    <tr>\n",
       "      <th>...</th>\n",
       "      <td>...</td>\n",
       "      <td>...</td>\n",
       "      <td>...</td>\n",
       "      <td>...</td>\n",
       "      <td>...</td>\n",
       "      <td>...</td>\n",
       "      <td>...</td>\n",
       "      <td>...</td>\n",
       "      <td>...</td>\n",
       "    </tr>\n",
       "    <tr>\n",
       "      <th>507</th>\n",
       "      <td>(🍹, 🍸)</td>\n",
       "      <td>(🍻, 🍺)</td>\n",
       "      <td>0.0232</td>\n",
       "      <td>0.0427</td>\n",
       "      <td>0.0051</td>\n",
       "      <td>0.219828</td>\n",
       "      <td>5.148187</td>\n",
       "      <td>0.004109</td>\n",
       "      <td>1.227036</td>\n",
       "    </tr>\n",
       "    <tr>\n",
       "      <th>508</th>\n",
       "      <td>(🍻)</td>\n",
       "      <td>(🍺, 🍸, 🍹)</td>\n",
       "      <td>0.1819</td>\n",
       "      <td>0.0076</td>\n",
       "      <td>0.0051</td>\n",
       "      <td>0.028037</td>\n",
       "      <td>3.689129</td>\n",
       "      <td>0.003718</td>\n",
       "      <td>1.021027</td>\n",
       "    </tr>\n",
       "    <tr>\n",
       "      <th>509</th>\n",
       "      <td>(🍺)</td>\n",
       "      <td>(🍻, 🍹, 🍸)</td>\n",
       "      <td>0.0799</td>\n",
       "      <td>0.0075</td>\n",
       "      <td>0.0051</td>\n",
       "      <td>0.063830</td>\n",
       "      <td>8.510638</td>\n",
       "      <td>0.004501</td>\n",
       "      <td>1.060170</td>\n",
       "    </tr>\n",
       "    <tr>\n",
       "      <th>510</th>\n",
       "      <td>(🍹)</td>\n",
       "      <td>(🍻, 🍺, 🍸)</td>\n",
       "      <td>0.0615</td>\n",
       "      <td>0.0069</td>\n",
       "      <td>0.0051</td>\n",
       "      <td>0.082927</td>\n",
       "      <td>12.018381</td>\n",
       "      <td>0.004676</td>\n",
       "      <td>1.082902</td>\n",
       "    </tr>\n",
       "    <tr>\n",
       "      <th>511</th>\n",
       "      <td>(🍸)</td>\n",
       "      <td>(🍻, 🍺, 🍹)</td>\n",
       "      <td>0.0518</td>\n",
       "      <td>0.0065</td>\n",
       "      <td>0.0051</td>\n",
       "      <td>0.098456</td>\n",
       "      <td>15.147015</td>\n",
       "      <td>0.004763</td>\n",
       "      <td>1.101998</td>\n",
       "    </tr>\n",
       "  </tbody>\n",
       "</table>\n",
       "<p>512 rows × 9 columns</p>\n",
       "</div>"
      ],
      "text/plain": [
       "    antecedents consequents  antecedent support  consequent support  support  \\\n",
       "0           (☕)         (🍩)              0.0589              0.0312   0.0084   \n",
       "1           (🍩)         (☕)              0.0312              0.0589   0.0084   \n",
       "2           (🌭)         (🍔)              0.0193              0.1384   0.0113   \n",
       "3           (🍔)         (🌭)              0.1384              0.0193   0.0113   \n",
       "4           (🌭)         (🍕)              0.0193              0.0441   0.0050   \n",
       "..          ...         ...                 ...                 ...      ...   \n",
       "507      (🍹, 🍸)      (🍻, 🍺)              0.0232              0.0427   0.0051   \n",
       "508         (🍻)   (🍺, 🍸, 🍹)              0.1819              0.0076   0.0051   \n",
       "509         (🍺)   (🍻, 🍹, 🍸)              0.0799              0.0075   0.0051   \n",
       "510         (🍹)   (🍻, 🍺, 🍸)              0.0615              0.0069   0.0051   \n",
       "511         (🍸)   (🍻, 🍺, 🍹)              0.0518              0.0065   0.0051   \n",
       "\n",
       "     confidence       lift  leverage  conviction  \n",
       "0      0.142615   4.570981  0.006562    1.129947  \n",
       "1      0.269231   4.570981  0.006562    1.287821  \n",
       "2      0.585492   4.230435  0.008629    2.078610  \n",
       "3      0.081647   4.230435  0.008629    1.067890  \n",
       "4      0.259067   5.874543  0.004149    1.290131  \n",
       "..          ...        ...       ...         ...  \n",
       "507    0.219828   5.148187  0.004109    1.227036  \n",
       "508    0.028037   3.689129  0.003718    1.021027  \n",
       "509    0.063830   8.510638  0.004501    1.060170  \n",
       "510    0.082927  12.018381  0.004676    1.082902  \n",
       "511    0.098456  15.147015  0.004763    1.101998  \n",
       "\n",
       "[512 rows x 9 columns]"
      ]
     },
     "execution_count": 27,
     "metadata": {},
     "output_type": "execute_result"
    }
   ],
   "source": [
    "freq_itemsets = apriori(emoji_matrix, 0.005, use_colnames=True)\n",
    "rules = association_rules(freq_itemsets, metric=\"lift\", min_threshold=3)\n",
    "rules"
   ]
  },
  {
   "cell_type": "markdown",
   "id": "f5af2405-a783-4cff-b8b8-60c7f1697812",
   "metadata": {},
   "source": [
    "b)"
   ]
  },
  {
   "cell_type": "code",
   "execution_count": 28,
   "id": "1ef47f85-3830-4c37-a2bf-994c9ce8d394",
   "metadata": {},
   "outputs": [],
   "source": [
    "def mi(antecedent_support, consequent_support, support):\n",
    "    px1 = antecedent_support\n",
    "    px0 = 1 - px1\n",
    "    py1 = consequent_support\n",
    "    py0 = 1 - py1\n",
    "    px1y1 = support\n",
    "    px1y0 = px1 * (1 - px1y1/px1)\n",
    "    px0y1 = py1 * (1 - px1y1/py1)\n",
    "    px0y0 = 1 - px1y1 - px1y0 - px0y1\n",
    "    if px1y1:\n",
    "        mutual_info = px1y1*np.log2(px1y1/(px1*py1))\n",
    "    else:\n",
    "        mutual_info = 0\n",
    "    if px1y0:\n",
    "        mutual_info += px1y0*np.log2(px1y0/(px1*py0))\n",
    "    if px0y1:\n",
    "        mutual_info += px0y1*np.log2(px0y1/(px0*py1))\n",
    "    if px0y0:\n",
    "        mutual_info += px0y0*np.log2(px0y0/(px0*py0))\n",
    "    return mutual_info"
   ]
  },
  {
   "cell_type": "code",
   "execution_count": 29,
   "id": "383cdb5b-83fd-4ccd-a293-365ea8296fd4",
   "metadata": {},
   "outputs": [
    {
     "data": {
      "text/plain": [
       "0.04287484674660057"
      ]
     },
     "execution_count": 29,
     "metadata": {},
     "output_type": "execute_result"
    }
   ],
   "source": [
    "mi(0.6, 0.75, 0.4)  # a test using the example in the slide l3, p44"
   ]
  },
  {
   "cell_type": "markdown",
   "id": "b782e758-cff5-428d-b793-a70776250297",
   "metadata": {},
   "source": [
    "c)"
   ]
  },
  {
   "cell_type": "code",
   "execution_count": 30,
   "id": "c0d85676-5641-4343-b59d-003aca1e6f41",
   "metadata": {},
   "outputs": [
    {
     "data": {
      "text/html": [
       "<div>\n",
       "<style scoped>\n",
       "    .dataframe tbody tr th:only-of-type {\n",
       "        vertical-align: middle;\n",
       "    }\n",
       "\n",
       "    .dataframe tbody tr th {\n",
       "        vertical-align: top;\n",
       "    }\n",
       "\n",
       "    .dataframe thead th {\n",
       "        text-align: right;\n",
       "    }\n",
       "</style>\n",
       "<table border=\"1\" class=\"dataframe\">\n",
       "  <thead>\n",
       "    <tr style=\"text-align: right;\">\n",
       "      <th></th>\n",
       "      <th>antecedents</th>\n",
       "      <th>consequents</th>\n",
       "      <th>antecedent support</th>\n",
       "      <th>consequent support</th>\n",
       "      <th>support</th>\n",
       "      <th>confidence</th>\n",
       "      <th>lift</th>\n",
       "      <th>leverage</th>\n",
       "      <th>conviction</th>\n",
       "      <th>mutual_information</th>\n",
       "    </tr>\n",
       "  </thead>\n",
       "  <tbody>\n",
       "    <tr>\n",
       "      <th>0</th>\n",
       "      <td>(☕)</td>\n",
       "      <td>(🍩)</td>\n",
       "      <td>0.0589</td>\n",
       "      <td>0.0312</td>\n",
       "      <td>0.0084</td>\n",
       "      <td>0.142615</td>\n",
       "      <td>4.570981</td>\n",
       "      <td>0.006562</td>\n",
       "      <td>1.129947</td>\n",
       "      <td>0.010697</td>\n",
       "    </tr>\n",
       "    <tr>\n",
       "      <th>1</th>\n",
       "      <td>(🍩)</td>\n",
       "      <td>(☕)</td>\n",
       "      <td>0.0312</td>\n",
       "      <td>0.0589</td>\n",
       "      <td>0.0084</td>\n",
       "      <td>0.269231</td>\n",
       "      <td>4.570981</td>\n",
       "      <td>0.006562</td>\n",
       "      <td>1.287821</td>\n",
       "      <td>0.010697</td>\n",
       "    </tr>\n",
       "    <tr>\n",
       "      <th>2</th>\n",
       "      <td>(🌭)</td>\n",
       "      <td>(🍔)</td>\n",
       "      <td>0.0193</td>\n",
       "      <td>0.1384</td>\n",
       "      <td>0.0113</td>\n",
       "      <td>0.585492</td>\n",
       "      <td>4.230435</td>\n",
       "      <td>0.008629</td>\n",
       "      <td>2.078610</td>\n",
       "      <td>0.015536</td>\n",
       "    </tr>\n",
       "    <tr>\n",
       "      <th>3</th>\n",
       "      <td>(🍔)</td>\n",
       "      <td>(🌭)</td>\n",
       "      <td>0.1384</td>\n",
       "      <td>0.0193</td>\n",
       "      <td>0.0113</td>\n",
       "      <td>0.081647</td>\n",
       "      <td>4.230435</td>\n",
       "      <td>0.008629</td>\n",
       "      <td>1.067890</td>\n",
       "      <td>0.015536</td>\n",
       "    </tr>\n",
       "    <tr>\n",
       "      <th>4</th>\n",
       "      <td>(🌭)</td>\n",
       "      <td>(🍕)</td>\n",
       "      <td>0.0193</td>\n",
       "      <td>0.0441</td>\n",
       "      <td>0.0050</td>\n",
       "      <td>0.259067</td>\n",
       "      <td>5.874543</td>\n",
       "      <td>0.004149</td>\n",
       "      <td>1.290131</td>\n",
       "      <td>0.007827</td>\n",
       "    </tr>\n",
       "  </tbody>\n",
       "</table>\n",
       "</div>"
      ],
      "text/plain": [
       "  antecedents consequents  antecedent support  consequent support  support  \\\n",
       "0         (☕)         (🍩)              0.0589              0.0312   0.0084   \n",
       "1         (🍩)         (☕)              0.0312              0.0589   0.0084   \n",
       "2         (🌭)         (🍔)              0.0193              0.1384   0.0113   \n",
       "3         (🍔)         (🌭)              0.1384              0.0193   0.0113   \n",
       "4         (🌭)         (🍕)              0.0193              0.0441   0.0050   \n",
       "\n",
       "   confidence      lift  leverage  conviction  mutual_information  \n",
       "0    0.142615  4.570981  0.006562    1.129947            0.010697  \n",
       "1    0.269231  4.570981  0.006562    1.287821            0.010697  \n",
       "2    0.585492  4.230435  0.008629    2.078610            0.015536  \n",
       "3    0.081647  4.230435  0.008629    1.067890            0.015536  \n",
       "4    0.259067  5.874543  0.004149    1.290131            0.007827  "
      ]
     },
     "execution_count": 30,
     "metadata": {},
     "output_type": "execute_result"
    }
   ],
   "source": [
    "rules['mutual_information'] = rules.apply(lambda x: mi(x['antecedent support'], x['consequent support'], x.support), \n",
    "                                          axis=1)\n",
    "rules.head()"
   ]
  },
  {
   "cell_type": "markdown",
   "id": "7279d8a5-6cef-4c4d-b5f1-3bd11f88f1f0",
   "metadata": {},
   "source": [
    "## 4. Itemset Similarity\n",
    "### 4.1 Jaccard Similarity\n",
    "a)"
   ]
  },
  {
   "cell_type": "code",
   "execution_count": 31,
   "id": "2b3c082d-7179-4fd7-ba43-2d4d4e8650f3",
   "metadata": {},
   "outputs": [],
   "source": [
    "# As the question states, I assume that at least one of the sets is not empty\n",
    "def jaccard_similarity(set1, set2):\n",
    "    intersection = len(set1.intersection(set2))\n",
    "    union = len(set1.union(set2))\n",
    "    return intersection/union"
   ]
  },
  {
   "cell_type": "code",
   "execution_count": 32,
   "id": "a5705472-35c9-44aa-a5b6-04102e449c7c",
   "metadata": {},
   "outputs": [
    {
     "data": {
      "text/plain": [
       "0.6666666666666666"
      ]
     },
     "execution_count": 32,
     "metadata": {},
     "output_type": "execute_result"
    }
   ],
   "source": [
    "jaccard_similarity(set([1,2,3]), set([1,2]))"
   ]
  },
  {
   "cell_type": "code",
   "execution_count": 33,
   "id": "0e476d1e-8b6c-43dc-83a7-682545f846d3",
   "metadata": {},
   "outputs": [
    {
     "data": {
      "text/plain": [
       "0.0"
      ]
     },
     "execution_count": 33,
     "metadata": {},
     "output_type": "execute_result"
    }
   ],
   "source": [
    "jaccard_similarity(set([1,2,3]), set())"
   ]
  },
  {
   "cell_type": "markdown",
   "id": "a46fd0aa-5b09-4393-91e5-3a6f4d46d4cb",
   "metadata": {},
   "source": [
    "b)"
   ]
  },
  {
   "cell_type": "code",
   "execution_count": 34,
   "id": "4fe10a62-1d54-456e-823d-85e339c139c6",
   "metadata": {
    "tags": []
   },
   "outputs": [
    {
     "data": {
      "text/plain": [
       "'\\n# according to the instructional team on slack, \"since this approach is very computational heavy\", \\n# we could \"only consider any one tweet with all other tweets\"\\nresult = pd.DataFrame(index=tweets_df.index, columns=tweets_df.index)\\nresult.head()\\nfor i in range(len(tweets_df)):\\n    for j in range(i, len(tweets_df)):\\n        set1 = tweets_df.loc[i][\\'food_drink_emoji\\']\\n        set2 = tweets_df.loc[j][\\'food_drink_emoji\\']\\n        result.loc[i, j] = jaccard_similarity(set(set1), set(set2))\\nresult\\n'"
      ]
     },
     "execution_count": 34,
     "metadata": {},
     "output_type": "execute_result"
    }
   ],
   "source": [
    "'''\n",
    "# according to the instructional team on slack, \"since this approach is very computational heavy\", \n",
    "# we could \"only consider any one tweet with all other tweets\"\n",
    "result = pd.DataFrame(index=tweets_df.index, columns=tweets_df.index)\n",
    "result.head()\n",
    "for i in range(len(tweets_df)):\n",
    "    for j in range(i, len(tweets_df)):\n",
    "        set1 = tweets_df.loc[i]['food_drink_emoji']\n",
    "        set2 = tweets_df.loc[j]['food_drink_emoji']\n",
    "        result.loc[i, j] = jaccard_similarity(set(set1), set(set2))\n",
    "result\n",
    "'''"
   ]
  },
  {
   "cell_type": "code",
   "execution_count": 35,
   "id": "70c22832-10d0-4593-9def-60da4ead0c86",
   "metadata": {},
   "outputs": [
    {
     "data": {
      "text/html": [
       "<div>\n",
       "<style scoped>\n",
       "    .dataframe tbody tr th:only-of-type {\n",
       "        vertical-align: middle;\n",
       "    }\n",
       "\n",
       "    .dataframe tbody tr th {\n",
       "        vertical-align: top;\n",
       "    }\n",
       "\n",
       "    .dataframe thead th {\n",
       "        text-align: right;\n",
       "    }\n",
       "</style>\n",
       "<table border=\"1\" class=\"dataframe\">\n",
       "  <thead>\n",
       "    <tr style=\"text-align: right;\">\n",
       "      <th></th>\n",
       "      <th>tweet</th>\n",
       "      <th>food_drink_emoji</th>\n",
       "      <th>jaccard</th>\n",
       "    </tr>\n",
       "  </thead>\n",
       "  <tbody>\n",
       "    <tr>\n",
       "      <th>0</th>\n",
       "      <td>RT @CalorieFixess: 🍗🌯🍔🍒 400 Calories https://t...</td>\n",
       "      <td>[🌯, 🍒, 🍔, 🍗]</td>\n",
       "      <td>0.0</td>\n",
       "    </tr>\n",
       "    <tr>\n",
       "      <th>1</th>\n",
       "      <td>RT @1_F_I_R_S_T: _ 🍈¹〉Grow your account fast! ...</td>\n",
       "      <td>[🍇, 🍈, 🍉, 🍊, 🍍, 🍓]</td>\n",
       "      <td>0.0</td>\n",
       "    </tr>\n",
       "    <tr>\n",
       "      <th>2</th>\n",
       "      <td>RT @LegendDeols: 👉👉👉G€T Ready to dance💃🕺🕺🕺💃💃💃 ...</td>\n",
       "      <td>[🍸, 🥃]</td>\n",
       "      <td>0.0</td>\n",
       "    </tr>\n",
       "    <tr>\n",
       "      <th>3</th>\n",
       "      <td>@britch_x Hubby's friend bought us Wendy's-che...</td>\n",
       "      <td>[🍔, 🍟]</td>\n",
       "      <td>0.0</td>\n",
       "    </tr>\n",
       "    <tr>\n",
       "      <th>4</th>\n",
       "      <td>RT @DAILYPUPPlES: Workout partner ☕🍌😍 https://...</td>\n",
       "      <td>[☕, 🍌]</td>\n",
       "      <td>0.0</td>\n",
       "    </tr>\n",
       "  </tbody>\n",
       "</table>\n",
       "</div>"
      ],
      "text/plain": [
       "                                               tweet    food_drink_emoji  \\\n",
       "0  RT @CalorieFixess: 🍗🌯🍔🍒 400 Calories https://t...        [🌯, 🍒, 🍔, 🍗]   \n",
       "1  RT @1_F_I_R_S_T: _ 🍈¹〉Grow your account fast! ...  [🍇, 🍈, 🍉, 🍊, 🍍, 🍓]   \n",
       "2  RT @LegendDeols: 👉👉👉G€T Ready to dance💃🕺🕺🕺💃💃💃 ...              [🍸, 🥃]   \n",
       "3  @britch_x Hubby's friend bought us Wendy's-che...              [🍔, 🍟]   \n",
       "4  RT @DAILYPUPPlES: Workout partner ☕🍌😍 https://...              [☕, 🍌]   \n",
       "\n",
       "   jaccard  \n",
       "0      0.0  \n",
       "1      0.0  \n",
       "2      0.0  \n",
       "3      0.0  \n",
       "4      0.0  "
      ]
     },
     "execution_count": 35,
     "metadata": {},
     "output_type": "execute_result"
    }
   ],
   "source": [
    "# now only consider the first tweet in the dataframe with all other tweets\n",
    "result = tweets_df.copy()\n",
    "result['jaccard'] = [0.0]*len(tweets_df)\n",
    "result.head()"
   ]
  },
  {
   "cell_type": "code",
   "execution_count": 36,
   "id": "d1b78f5f-7aba-4c79-8d10-cd0d8e54107a",
   "metadata": {},
   "outputs": [
    {
     "name": "stderr",
     "output_type": "stream",
     "text": [
      "<ipython-input-36-e9007bfbdf1a>:4: SettingWithCopyWarning: \n",
      "A value is trying to be set on a copy of a slice from a DataFrame\n",
      "\n",
      "See the caveats in the documentation: https://pandas.pydata.org/pandas-docs/stable/user_guide/indexing.html#returning-a-view-versus-a-copy\n",
      "  result['jaccard'][i] = jaccard_similarity(set1, set2)\n"
     ]
    },
    {
     "data": {
      "text/html": [
       "<div>\n",
       "<style scoped>\n",
       "    .dataframe tbody tr th:only-of-type {\n",
       "        vertical-align: middle;\n",
       "    }\n",
       "\n",
       "    .dataframe tbody tr th {\n",
       "        vertical-align: top;\n",
       "    }\n",
       "\n",
       "    .dataframe thead th {\n",
       "        text-align: right;\n",
       "    }\n",
       "</style>\n",
       "<table border=\"1\" class=\"dataframe\">\n",
       "  <thead>\n",
       "    <tr style=\"text-align: right;\">\n",
       "      <th></th>\n",
       "      <th>tweet</th>\n",
       "      <th>food_drink_emoji</th>\n",
       "      <th>jaccard</th>\n",
       "    </tr>\n",
       "  </thead>\n",
       "  <tbody>\n",
       "    <tr>\n",
       "      <th>0</th>\n",
       "      <td>RT @CalorieFixess: 🍗🌯🍔🍒 400 Calories https://t...</td>\n",
       "      <td>[🌯, 🍒, 🍔, 🍗]</td>\n",
       "      <td>1.0</td>\n",
       "    </tr>\n",
       "    <tr>\n",
       "      <th>1</th>\n",
       "      <td>RT @1_F_I_R_S_T: _ 🍈¹〉Grow your account fast! ...</td>\n",
       "      <td>[🍇, 🍈, 🍉, 🍊, 🍍, 🍓]</td>\n",
       "      <td>0.0</td>\n",
       "    </tr>\n",
       "    <tr>\n",
       "      <th>2</th>\n",
       "      <td>RT @LegendDeols: 👉👉👉G€T Ready to dance💃🕺🕺🕺💃💃💃 ...</td>\n",
       "      <td>[🍸, 🥃]</td>\n",
       "      <td>0.0</td>\n",
       "    </tr>\n",
       "    <tr>\n",
       "      <th>3</th>\n",
       "      <td>@britch_x Hubby's friend bought us Wendy's-che...</td>\n",
       "      <td>[🍔, 🍟]</td>\n",
       "      <td>0.2</td>\n",
       "    </tr>\n",
       "    <tr>\n",
       "      <th>4</th>\n",
       "      <td>RT @DAILYPUPPlES: Workout partner ☕🍌😍 https://...</td>\n",
       "      <td>[☕, 🍌]</td>\n",
       "      <td>0.0</td>\n",
       "    </tr>\n",
       "  </tbody>\n",
       "</table>\n",
       "</div>"
      ],
      "text/plain": [
       "                                               tweet    food_drink_emoji  \\\n",
       "0  RT @CalorieFixess: 🍗🌯🍔🍒 400 Calories https://t...        [🌯, 🍒, 🍔, 🍗]   \n",
       "1  RT @1_F_I_R_S_T: _ 🍈¹〉Grow your account fast! ...  [🍇, 🍈, 🍉, 🍊, 🍍, 🍓]   \n",
       "2  RT @LegendDeols: 👉👉👉G€T Ready to dance💃🕺🕺🕺💃💃💃 ...              [🍸, 🥃]   \n",
       "3  @britch_x Hubby's friend bought us Wendy's-che...              [🍔, 🍟]   \n",
       "4  RT @DAILYPUPPlES: Workout partner ☕🍌😍 https://...              [☕, 🍌]   \n",
       "\n",
       "   jaccard  \n",
       "0      1.0  \n",
       "1      0.0  \n",
       "2      0.0  \n",
       "3      0.2  \n",
       "4      0.0  "
      ]
     },
     "execution_count": 36,
     "metadata": {},
     "output_type": "execute_result"
    }
   ],
   "source": [
    "set1 = set(tweets_df.loc[0]['food_drink_emoji'])\n",
    "for i, row in result.iterrows():\n",
    "    set2 = set(row['food_drink_emoji'])\n",
    "    result['jaccard'][i] = jaccard_similarity(set1, set2)\n",
    "result.head()"
   ]
  },
  {
   "cell_type": "code",
   "execution_count": 37,
   "id": "f7bcd1b4-d1b3-495f-8813-854eed57cf5d",
   "metadata": {},
   "outputs": [
    {
     "data": {
      "text/html": [
       "<div>\n",
       "<style scoped>\n",
       "    .dataframe tbody tr th:only-of-type {\n",
       "        vertical-align: middle;\n",
       "    }\n",
       "\n",
       "    .dataframe tbody tr th {\n",
       "        vertical-align: top;\n",
       "    }\n",
       "\n",
       "    .dataframe thead th {\n",
       "        text-align: right;\n",
       "    }\n",
       "</style>\n",
       "<table border=\"1\" class=\"dataframe\">\n",
       "  <thead>\n",
       "    <tr style=\"text-align: right;\">\n",
       "      <th></th>\n",
       "      <th>tweet</th>\n",
       "      <th>food_drink_emoji</th>\n",
       "      <th>jaccard</th>\n",
       "    </tr>\n",
       "  </thead>\n",
       "  <tbody>\n",
       "    <tr>\n",
       "      <th>0</th>\n",
       "      <td>RT @CalorieFixess: 🍗🌯🍔🍒 400 Calories https://t...</td>\n",
       "      <td>[🌯, 🍒, 🍔, 🍗]</td>\n",
       "      <td>1.00</td>\n",
       "    </tr>\n",
       "    <tr>\n",
       "      <th>6800</th>\n",
       "      <td>RT @levelscafeabuja: Chow! 🤩💦🍗🌯🍔 #LevelsCafeAb...</td>\n",
       "      <td>[🌯, 🍔, 🍗]</td>\n",
       "      <td>0.75</td>\n",
       "    </tr>\n",
       "    <tr>\n",
       "      <th>5334</th>\n",
       "      <td>RT @thatssochioma: You don’t want to miss this...</td>\n",
       "      <td>[🍔, 🍗]</td>\n",
       "      <td>0.50</td>\n",
       "    </tr>\n",
       "    <tr>\n",
       "      <th>3466</th>\n",
       "      <td>@jewishmuseummd @americanart I'm definitely in...</td>\n",
       "      <td>[🍒, 🍗]</td>\n",
       "      <td>0.50</td>\n",
       "    </tr>\n",
       "    <tr>\n",
       "      <th>7877</th>\n",
       "      <td>@tafarireid07 Did you say bbq? 🔥🍔🍗🚙</td>\n",
       "      <td>[🍔, 🍗]</td>\n",
       "      <td>0.50</td>\n",
       "    </tr>\n",
       "    <tr>\n",
       "      <th>7692</th>\n",
       "      <td>RT @WVUfootball: We have some new digs! 🍴🍗🍔 #H...</td>\n",
       "      <td>[🍔, 🍗]</td>\n",
       "      <td>0.50</td>\n",
       "    </tr>\n",
       "    <tr>\n",
       "      <th>777</th>\n",
       "      <td>@SunnyAnderson @rosannascotto I don’t think KF...</td>\n",
       "      <td>[🍔, 🍗]</td>\n",
       "      <td>0.50</td>\n",
       "    </tr>\n",
       "    <tr>\n",
       "      <th>7428</th>\n",
       "      <td>Kicking off the weekend with a cheeky BBQ? Her...</td>\n",
       "      <td>[🍔, 🍗]</td>\n",
       "      <td>0.50</td>\n",
       "    </tr>\n",
       "    <tr>\n",
       "      <th>1958</th>\n",
       "      <td>@jenkirk72 @baseball_kay How was the race? Als...</td>\n",
       "      <td>[🌯, 🍔]</td>\n",
       "      <td>0.50</td>\n",
       "    </tr>\n",
       "    <tr>\n",
       "      <th>9861</th>\n",
       "      <td>Reminder that our friends in @SouthsideSNP are...</td>\n",
       "      <td>[🍔, 🍗]</td>\n",
       "      <td>0.50</td>\n",
       "    </tr>\n",
       "  </tbody>\n",
       "</table>\n",
       "</div>"
      ],
      "text/plain": [
       "                                                  tweet food_drink_emoji  \\\n",
       "0     RT @CalorieFixess: 🍗🌯🍔🍒 400 Calories https://t...     [🌯, 🍒, 🍔, 🍗]   \n",
       "6800  RT @levelscafeabuja: Chow! 🤩💦🍗🌯🍔 #LevelsCafeAb...        [🌯, 🍔, 🍗]   \n",
       "5334  RT @thatssochioma: You don’t want to miss this...           [🍔, 🍗]   \n",
       "3466  @jewishmuseummd @americanart I'm definitely in...           [🍒, 🍗]   \n",
       "7877                @tafarireid07 Did you say bbq? 🔥🍔🍗🚙           [🍔, 🍗]   \n",
       "7692  RT @WVUfootball: We have some new digs! 🍴🍗🍔 #H...           [🍔, 🍗]   \n",
       "777   @SunnyAnderson @rosannascotto I don’t think KF...           [🍔, 🍗]   \n",
       "7428  Kicking off the weekend with a cheeky BBQ? Her...           [🍔, 🍗]   \n",
       "1958  @jenkirk72 @baseball_kay How was the race? Als...           [🌯, 🍔]   \n",
       "9861  Reminder that our friends in @SouthsideSNP are...           [🍔, 🍗]   \n",
       "\n",
       "      jaccard  \n",
       "0        1.00  \n",
       "6800     0.75  \n",
       "5334     0.50  \n",
       "3466     0.50  \n",
       "7877     0.50  \n",
       "7692     0.50  \n",
       "777      0.50  \n",
       "7428     0.50  \n",
       "1958     0.50  \n",
       "9861     0.50  "
      ]
     },
     "execution_count": 37,
     "metadata": {},
     "output_type": "execute_result"
    }
   ],
   "source": [
    "result.sort_values('jaccard', ascending=False).head(10)"
   ]
  },
  {
   "cell_type": "markdown",
   "id": "887195e7-c5f0-4f80-93f7-038012c3fea5",
   "metadata": {},
   "source": [
    "From the above results, we can see that it is unsurprising that for the first tweet in `tweets_df`, the tweet itself is the most similar tweet in terms of the set of food/drink emojis used. It is also unsurprising that the tweets with higher jaccard similarity score have quite a few overlapping emojis with the first tweet. An additional observation is that many tweets seem to use the same emojis."
   ]
  }
 ],
 "metadata": {
  "kernelspec": {
   "display_name": "Python 3",
   "language": "python",
   "name": "python3"
  },
  "language_info": {
   "codemirror_mode": {
    "name": "ipython",
    "version": 3
   },
   "file_extension": ".py",
   "mimetype": "text/x-python",
   "name": "python",
   "nbconvert_exporter": "python",
   "pygments_lexer": "ipython3",
   "version": "3.8.8"
  }
 },
 "nbformat": 4,
 "nbformat_minor": 5
}
