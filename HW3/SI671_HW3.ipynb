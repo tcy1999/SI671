{
 "cells": [
  {
   "cell_type": "markdown",
   "id": "821f3e05-c3fb-4ad5-be3c-372b0c352bfe",
   "metadata": {},
   "source": [
    "# SI 671 Homework 3\n",
    "Chenyun Tao  Uniq: cyuntao\n",
    "\n",
    "## Exploratory Social Network Analysis\n",
    "1. Load the directed network graph (G) from the file `amazonNetwork.csv`."
   ]
  },
  {
   "cell_type": "code",
   "execution_count": 1,
   "id": "6b42f790-f7e4-4a4a-a3c3-a190346c9de8",
   "metadata": {},
   "outputs": [],
   "source": [
    "import pandas as pd\n",
    "import networkx as nx\n",
    "import seaborn as sns\n",
    "%matplotlib inline"
   ]
  },
  {
   "cell_type": "code",
   "execution_count": 2,
   "id": "701e3543-65a1-479d-90b0-36b450f234f6",
   "metadata": {},
   "outputs": [
    {
     "data": {
      "text/html": [
       "<div>\n",
       "<style scoped>\n",
       "    .dataframe tbody tr th:only-of-type {\n",
       "        vertical-align: middle;\n",
       "    }\n",
       "\n",
       "    .dataframe tbody tr th {\n",
       "        vertical-align: top;\n",
       "    }\n",
       "\n",
       "    .dataframe thead th {\n",
       "        text-align: right;\n",
       "    }\n",
       "</style>\n",
       "<table border=\"1\" class=\"dataframe\">\n",
       "  <thead>\n",
       "    <tr style=\"text-align: right;\">\n",
       "      <th></th>\n",
       "      <th>FromNodeId</th>\n",
       "      <th>ToNodeId</th>\n",
       "    </tr>\n",
       "  </thead>\n",
       "  <tbody>\n",
       "    <tr>\n",
       "      <th>0</th>\n",
       "      <td>1</td>\n",
       "      <td>2</td>\n",
       "    </tr>\n",
       "    <tr>\n",
       "      <th>1</th>\n",
       "      <td>1</td>\n",
       "      <td>4</td>\n",
       "    </tr>\n",
       "    <tr>\n",
       "      <th>2</th>\n",
       "      <td>1</td>\n",
       "      <td>5</td>\n",
       "    </tr>\n",
       "    <tr>\n",
       "      <th>3</th>\n",
       "      <td>1</td>\n",
       "      <td>15</td>\n",
       "    </tr>\n",
       "    <tr>\n",
       "      <th>4</th>\n",
       "      <td>2</td>\n",
       "      <td>11</td>\n",
       "    </tr>\n",
       "  </tbody>\n",
       "</table>\n",
       "</div>"
      ],
      "text/plain": [
       "   FromNodeId  ToNodeId\n",
       "0           1         2\n",
       "1           1         4\n",
       "2           1         5\n",
       "3           1        15\n",
       "4           2        11"
      ]
     },
     "execution_count": 2,
     "metadata": {},
     "output_type": "execute_result"
    }
   ],
   "source": [
    "amazonNetwork = pd.read_csv('amazonNetwork.csv')\n",
    "amazonNetwork.head()"
   ]
  },
  {
   "cell_type": "code",
   "execution_count": 3,
   "id": "703b3d17-1697-4dbc-8401-27982acf751c",
   "metadata": {},
   "outputs": [],
   "source": [
    "G = nx.from_pandas_edgelist(amazonNetwork, source='FromNodeId',target='ToNodeId', create_using=nx.DiGraph())"
   ]
  },
  {
   "cell_type": "markdown",
   "id": "bb0a034a-bb38-4a25-82db-00d1c8d0729f",
   "metadata": {},
   "source": [
    "2. How many items are present in the network and how many co-purchases happened?"
   ]
  },
  {
   "cell_type": "code",
   "execution_count": 4,
   "id": "c8287383-1106-45b0-b682-6d473ef358d2",
   "metadata": {},
   "outputs": [
    {
     "name": "stdout",
     "output_type": "stream",
     "text": [
      "Numer of items in the network: 2647\n",
      "Number of co-purchases: 10841\n"
     ]
    }
   ],
   "source": [
    "print(\"Numer of items in the network:\", G.number_of_nodes())\n",
    "print(\"Number of co-purchases:\", G.number_of_edges())"
   ]
  },
  {
   "cell_type": "markdown",
   "id": "b9c61c52-20e0-4cda-a604-0951b1a37bcb",
   "metadata": {},
   "source": [
    "3. Compute the average shortest distance between the nodes in graph G. Explain your results briefly."
   ]
  },
  {
   "cell_type": "code",
   "execution_count": 5,
   "id": "c4c2a0a6-1d4a-4bea-a1e7-bad90ffd3bca",
   "metadata": {},
   "outputs": [
    {
     "name": "stdout",
     "output_type": "stream",
     "text": [
      "The average shortest distance between the nodes in graph G is: 9.592795477759587\n"
     ]
    }
   ],
   "source": [
    "print(\"The average shortest distance between the nodes in graph G is:\", nx.average_shortest_path_length(G))"
   ]
  },
  {
   "cell_type": "markdown",
   "id": "c0ffafdb-d80f-4a5a-abb6-42b05e39962b",
   "metadata": {},
   "source": [
    "In our network, the average shortest distance between the nodes is about 9.59. This means to get from one item to another following the shortest path possible, it must go through 9.59 nodes. This shows that perhaps only some of the items are co-purchased."
   ]
  },
  {
   "cell_type": "markdown",
   "id": "e4aba519-7e8c-42df-94b4-0a8cd10dd1c0",
   "metadata": {},
   "source": [
    "4. Compute the transitivity and the average clustering coefficient of the network\n",
    "graph G. Explain your findings briefly based on the definitions of clustering coefficient and transitivity."
   ]
  },
  {
   "cell_type": "code",
   "execution_count": 6,
   "id": "0793dbdd-8a4f-4cfa-9df0-b4389af98ae5",
   "metadata": {},
   "outputs": [
    {
     "name": "stdout",
     "output_type": "stream",
     "text": [
      "The transitivity of the network graph G is: 0.4339169154480595\n"
     ]
    }
   ],
   "source": [
    "print(\"The transitivity of the network graph G is:\", nx.transitivity(G))"
   ]
  },
  {
   "cell_type": "code",
   "execution_count": 7,
   "id": "8e10c2fa-fdb3-4cb8-bf09-db6c36a61d86",
   "metadata": {},
   "outputs": [
    {
     "name": "stdout",
     "output_type": "stream",
     "text": [
      "The average clustering coefficient of the network graph G is: 0.4086089178720651\n"
     ]
    }
   ],
   "source": [
    "print(\"The average clustering coefficient of the network graph G is:\", nx.average_clustering(G))"
   ]
  },
  {
   "cell_type": "markdown",
   "id": "cf2489e8-20dd-4d43-89fd-6c1576089bd3",
   "metadata": {},
   "source": [
    "The transitivity is defined as\n",
    "$$\n",
    "T=3 \\frac{\\# \\text { triangles }}{\\# \\text { triads }}\n",
    "$$\n",
    "where triads means two edges with a shared vertex.\n",
    "\n",
    "The average clustering coefficient is defined as\n",
    "$$\n",
    "C=\\frac{1}{n} \\sum_{u \\in G} c_{u} = \\frac{1}{n} \\sum_{u \\in G}\\frac{2 T(u)}{\\operatorname{deg}(u)(\\operatorname{deg}(u)-1)}\n",
    "$$\n",
    "where $T(u)$ is the number of triangles through node $u$ and $\\operatorname{deg}(u)$ is the degree of $u$.\n",
    "\n",
    "Therefore, it's unsurprising to see that the transitivity and the average clustering coefficient to be close here."
   ]
  },
  {
   "cell_type": "markdown",
   "id": "28130d17-f9bc-4bbb-a8b3-dfae498de20d",
   "metadata": {},
   "source": [
    "5. Apply the PageRank algorithm to network G with damping value 0.5 and find the 10 nodes with the highest PageRank. Explain your findings briefly."
   ]
  },
  {
   "cell_type": "code",
   "execution_count": 8,
   "id": "ebb2ab8c-6a8d-4979-8248-9ad4fe42e324",
   "metadata": {},
   "outputs": [],
   "source": [
    "pageranks = nx.pagerank(G, alpha=0.5) \n",
    "pageranks = {k:v for k, v in sorted(pageranks.items(), key=lambda t: t[1], reverse=True)}"
   ]
  },
  {
   "cell_type": "code",
   "execution_count": 9,
   "id": "85d27832-b439-444b-a17a-290b1793de64",
   "metadata": {},
   "outputs": [
    {
     "name": "stdout",
     "output_type": "stream",
     "text": [
      "1. 8\n",
      "2. 481\n",
      "3. 33\n",
      "4. 18\n",
      "5. 23\n",
      "6. 30\n",
      "7. 346\n",
      "8. 99\n",
      "9. 93\n",
      "10. 21\n"
     ]
    }
   ],
   "source": [
    "highest_pagerank_nodes = list(pageranks.keys())[0:10]\n",
    "count = 1\n",
    "for node in highest_pagerank_nodes:\n",
    "    print(\"{}. {}\".format(count, node))\n",
    "    count += 1"
   ]
  },
  {
   "cell_type": "markdown",
   "id": "2f1eba1f-c106-4ba6-944c-9071069bfd3f",
   "metadata": {},
   "source": [
    "It seems that the 10 nodes with the highest PageRank values here are the most \"important\" items in our network. This means that they are most likely to be co-purchased."
   ]
  },
  {
   "cell_type": "code",
   "execution_count": 10,
   "id": "1e06d6ac-a570-4ccb-b920-7751fccb05ad",
   "metadata": {},
   "outputs": [
    {
     "data": {
      "text/plain": [
       "False"
      ]
     },
     "execution_count": 10,
     "metadata": {},
     "output_type": "execute_result"
    }
   ],
   "source": [
    "set(amazonNetwork.FromNodeId) == set(amazonNetwork.ToNodeId) "
   ]
  },
  {
   "cell_type": "code",
   "execution_count": 11,
   "id": "0f264e20-e6a9-4cee-a4af-132101d7cdc3",
   "metadata": {},
   "outputs": [
    {
     "data": {
      "text/plain": [
       "<seaborn.axisgrid.FacetGrid at 0x1c8a572a5b0>"
      ]
     },
     "execution_count": 11,
     "metadata": {},
     "output_type": "execute_result"
    },
    {
     "data": {
      "image/png": "[encoded data removed]",
      "text/plain": [
       "<Figure size 360x360 with 1 Axes>"
      ]
     },
     "metadata": {
      "needs_background": "light"
     },
     "output_type": "display_data"
    }
   ],
   "source": [
    "sns.displot(list(pageranks.values()), kde=False)"
   ]
  },
  {
   "cell_type": "markdown",
   "id": "6f76438f-b6ab-439a-a979-7b8e0719bfd7",
   "metadata": {},
   "source": [
    "In addition, it seems that there're a few dead-ends in our data, but there're no spider traps."
   ]
  },
  {
   "cell_type": "markdown",
   "id": "bffc4549-04db-4a22-8d5b-83a658a1f234",
   "metadata": {},
   "source": [
    "## Predicting Review-Rating using Features Derived from Network Properties"
   ]
  },
  {
   "cell_type": "code",
   "execution_count": 12,
   "id": "ee5a0eab-6ea8-4536-a4be-69ea722eca40",
   "metadata": {},
   "outputs": [
    {
     "data": {
      "text/html": [
       "<div>\n",
       "<style scoped>\n",
       "    .dataframe tbody tr th:only-of-type {\n",
       "        vertical-align: middle;\n",
       "    }\n",
       "\n",
       "    .dataframe tbody tr th {\n",
       "        vertical-align: top;\n",
       "    }\n",
       "\n",
       "    .dataframe thead th {\n",
       "        text-align: right;\n",
       "    }\n",
       "</style>\n",
       "<table border=\"1\" class=\"dataframe\">\n",
       "  <thead>\n",
       "    <tr style=\"text-align: right;\">\n",
       "      <th></th>\n",
       "      <th>id</th>\n",
       "      <th>title</th>\n",
       "      <th>group</th>\n",
       "      <th>review</th>\n",
       "    </tr>\n",
       "  </thead>\n",
       "  <tbody>\n",
       "    <tr>\n",
       "      <th>0</th>\n",
       "      <td>3</td>\n",
       "      <td>World War II Allied Fighter Planes Trading Cards</td>\n",
       "      <td>Book</td>\n",
       "      <td>5.0</td>\n",
       "    </tr>\n",
       "    <tr>\n",
       "      <th>1</th>\n",
       "      <td>5</td>\n",
       "      <td>Prayers That Avail Much for Business: Executive</td>\n",
       "      <td>Book</td>\n",
       "      <td>0.0</td>\n",
       "    </tr>\n",
       "    <tr>\n",
       "      <th>2</th>\n",
       "      <td>7</td>\n",
       "      <td>Batik</td>\n",
       "      <td>Music</td>\n",
       "      <td>4.5</td>\n",
       "    </tr>\n",
       "    <tr>\n",
       "      <th>3</th>\n",
       "      <td>10</td>\n",
       "      <td>The Edward Said Reader</td>\n",
       "      <td>Book</td>\n",
       "      <td>4.0</td>\n",
       "    </tr>\n",
       "    <tr>\n",
       "      <th>4</th>\n",
       "      <td>11</td>\n",
       "      <td>Resetting the Clock : Five Anti-Aging Hormone...</td>\n",
       "      <td>Book</td>\n",
       "      <td>5.0</td>\n",
       "    </tr>\n",
       "  </tbody>\n",
       "</table>\n",
       "</div>"
      ],
      "text/plain": [
       "   id                                              title   group  review\n",
       "0   3   World War II Allied Fighter Planes Trading Cards    Book     5.0\n",
       "1   5    Prayers That Avail Much for Business: Executive    Book     0.0\n",
       "2   7                                              Batik   Music     4.5\n",
       "3  10                             The Edward Said Reader    Book     4.0\n",
       "4  11   Resetting the Clock : Five Anti-Aging Hormone...    Book     5.0"
      ]
     },
     "execution_count": 12,
     "metadata": {},
     "output_type": "execute_result"
    }
   ],
   "source": [
    "review_train = pd.read_csv('reviewTrain.csv')\n",
    "review_train.head()"
   ]
  },
  {
   "cell_type": "code",
   "execution_count": 13,
   "id": "816d00ce-f838-49b5-9829-d7d658c3cdb3",
   "metadata": {},
   "outputs": [
    {
     "data": {
      "text/plain": [
       "1674"
      ]
     },
     "execution_count": 13,
     "metadata": {},
     "output_type": "execute_result"
    }
   ],
   "source": [
    "review_train.id.nunique()  # checking the number of unique items in review_train"
   ]
  },
  {
   "cell_type": "code",
   "execution_count": 14,
   "id": "ba4f1e12-a44a-4285-88f5-09fa8143a8ac",
   "metadata": {},
   "outputs": [
    {
     "data": {
      "text/plain": [
       "21"
      ]
     },
     "execution_count": 14,
     "metadata": {},
     "output_type": "execute_result"
    }
   ],
   "source": [
    "len(set(review_train.id) - set(amazonNetwork.FromNodeId).union(set(amazonNetwork.ToNodeId)))"
   ]
  },
  {
   "cell_type": "markdown",
   "id": "0d6a4cb3-36f6-49a4-a5df-022ab66d5848",
   "metadata": {},
   "source": [
    "This result indicates that missing values exist. 21 ids in `review_train` are not included in the network G in part 1."
   ]
  },
  {
   "cell_type": "markdown",
   "id": "36f0f941-0cd9-46c2-9514-254365117e88",
   "metadata": {},
   "source": [
    "After some basic data exploration, I start to select features. I will try a few features as is suggested by the instructions, and then select 5 from these candidates. As we only have a few dead-ends in our data, and no spider traps, I first try to pick page rank as one feature candidate."
   ]
  },
  {
   "cell_type": "code",
   "execution_count": 15,
   "id": "332ad2c9-c840-49b3-9011-6bd97af568b2",
   "metadata": {},
   "outputs": [
    {
     "data": {
      "text/html": [
       "<div>\n",
       "<style scoped>\n",
       "    .dataframe tbody tr th:only-of-type {\n",
       "        vertical-align: middle;\n",
       "    }\n",
       "\n",
       "    .dataframe tbody tr th {\n",
       "        vertical-align: top;\n",
       "    }\n",
       "\n",
       "    .dataframe thead th {\n",
       "        text-align: right;\n",
       "    }\n",
       "</style>\n",
       "<table border=\"1\" class=\"dataframe\">\n",
       "  <thead>\n",
       "    <tr style=\"text-align: right;\">\n",
       "      <th></th>\n",
       "      <th>page_rank</th>\n",
       "    </tr>\n",
       "  </thead>\n",
       "  <tbody>\n",
       "    <tr>\n",
       "      <th>8</th>\n",
       "      <td>0.003625</td>\n",
       "    </tr>\n",
       "    <tr>\n",
       "      <th>481</th>\n",
       "      <td>0.002434</td>\n",
       "    </tr>\n",
       "    <tr>\n",
       "      <th>33</th>\n",
       "      <td>0.002297</td>\n",
       "    </tr>\n",
       "    <tr>\n",
       "      <th>18</th>\n",
       "      <td>0.002103</td>\n",
       "    </tr>\n",
       "    <tr>\n",
       "      <th>23</th>\n",
       "      <td>0.002079</td>\n",
       "    </tr>\n",
       "  </tbody>\n",
       "</table>\n",
       "</div>"
      ],
      "text/plain": [
       "     page_rank\n",
       "8     0.003625\n",
       "481   0.002434\n",
       "33    0.002297\n",
       "18    0.002103\n",
       "23    0.002079"
      ]
     },
     "execution_count": 15,
     "metadata": {},
     "output_type": "execute_result"
    }
   ],
   "source": [
    "pageranks_df = pd.DataFrame.from_dict(pageranks, orient='index', columns=['page_rank'])\n",
    "pageranks_df.head()"
   ]
  },
  {
   "cell_type": "markdown",
   "id": "5674039d-71b4-4069-8f60-cbec6ef72fce",
   "metadata": {},
   "source": [
    "In order to utitlize page rank data in training, I need to merge page rank value to the `review_train` dataframe. A few ids in `review_train` are not included in the network G in part 1, so I use left merge, and there will be a few missing values in the `page_rank` column due to the missing ids. I will drop these missing values later."
   ]
  },
  {
   "cell_type": "code",
   "execution_count": 16,
   "id": "25874b7c-5060-45f5-b1f1-2623160e3ac1",
   "metadata": {},
   "outputs": [
    {
     "data": {
      "text/html": [
       "<div>\n",
       "<style scoped>\n",
       "    .dataframe tbody tr th:only-of-type {\n",
       "        vertical-align: middle;\n",
       "    }\n",
       "\n",
       "    .dataframe tbody tr th {\n",
       "        vertical-align: top;\n",
       "    }\n",
       "\n",
       "    .dataframe thead th {\n",
       "        text-align: right;\n",
       "    }\n",
       "</style>\n",
       "<table border=\"1\" class=\"dataframe\">\n",
       "  <thead>\n",
       "    <tr style=\"text-align: right;\">\n",
       "      <th></th>\n",
       "      <th>id</th>\n",
       "      <th>title</th>\n",
       "      <th>group</th>\n",
       "      <th>review</th>\n",
       "      <th>page_rank</th>\n",
       "    </tr>\n",
       "  </thead>\n",
       "  <tbody>\n",
       "    <tr>\n",
       "      <th>0</th>\n",
       "      <td>3</td>\n",
       "      <td>World War II Allied Fighter Planes Trading Cards</td>\n",
       "      <td>Book</td>\n",
       "      <td>5.0</td>\n",
       "      <td>0.000197</td>\n",
       "    </tr>\n",
       "    <tr>\n",
       "      <th>1</th>\n",
       "      <td>5</td>\n",
       "      <td>Prayers That Avail Much for Business: Executive</td>\n",
       "      <td>Book</td>\n",
       "      <td>0.0</td>\n",
       "      <td>0.000774</td>\n",
       "    </tr>\n",
       "    <tr>\n",
       "      <th>2</th>\n",
       "      <td>7</td>\n",
       "      <td>Batik</td>\n",
       "      <td>Music</td>\n",
       "      <td>4.5</td>\n",
       "      <td>0.001263</td>\n",
       "    </tr>\n",
       "    <tr>\n",
       "      <th>3</th>\n",
       "      <td>10</td>\n",
       "      <td>The Edward Said Reader</td>\n",
       "      <td>Book</td>\n",
       "      <td>4.0</td>\n",
       "      <td>0.000424</td>\n",
       "    </tr>\n",
       "    <tr>\n",
       "      <th>4</th>\n",
       "      <td>11</td>\n",
       "      <td>Resetting the Clock : Five Anti-Aging Hormone...</td>\n",
       "      <td>Book</td>\n",
       "      <td>5.0</td>\n",
       "      <td>0.000906</td>\n",
       "    </tr>\n",
       "  </tbody>\n",
       "</table>\n",
       "</div>"
      ],
      "text/plain": [
       "   id                                              title   group  review  \\\n",
       "0   3   World War II Allied Fighter Planes Trading Cards    Book     5.0   \n",
       "1   5    Prayers That Avail Much for Business: Executive    Book     0.0   \n",
       "2   7                                              Batik   Music     4.5   \n",
       "3  10                             The Edward Said Reader    Book     4.0   \n",
       "4  11   Resetting the Clock : Five Anti-Aging Hormone...    Book     5.0   \n",
       "\n",
       "   page_rank  \n",
       "0   0.000197  \n",
       "1   0.000774  \n",
       "2   0.001263  \n",
       "3   0.000424  \n",
       "4   0.000906  "
      ]
     },
     "execution_count": 16,
     "metadata": {},
     "output_type": "execute_result"
    }
   ],
   "source": [
    "review_train = review_train.merge(pageranks_df, left_on='id', right_index=True, how='left')\n",
    "review_train.head()"
   ]
  },
  {
   "cell_type": "markdown",
   "id": "fc2c01d0-fd02-4d6d-a655-2e6d6395e896",
   "metadata": {},
   "source": [
    "I also try to pick clustering coefficient, degree centrality, closeness centrality, and betweenness centrality as the candidates. The processing procedure is similar, and there will be missing values that need to be dropped."
   ]
  },
  {
   "cell_type": "code",
   "execution_count": 17,
   "id": "bdc43fc8-f1c0-41b8-871b-f078016b641d",
   "metadata": {},
   "outputs": [
    {
     "data": {
      "text/html": [
       "<div>\n",
       "<style scoped>\n",
       "    .dataframe tbody tr th:only-of-type {\n",
       "        vertical-align: middle;\n",
       "    }\n",
       "\n",
       "    .dataframe tbody tr th {\n",
       "        vertical-align: top;\n",
       "    }\n",
       "\n",
       "    .dataframe thead th {\n",
       "        text-align: right;\n",
       "    }\n",
       "</style>\n",
       "<table border=\"1\" class=\"dataframe\">\n",
       "  <thead>\n",
       "    <tr style=\"text-align: right;\">\n",
       "      <th></th>\n",
       "      <th>clustering</th>\n",
       "    </tr>\n",
       "  </thead>\n",
       "  <tbody>\n",
       "    <tr>\n",
       "      <th>1</th>\n",
       "      <td>0.000000</td>\n",
       "    </tr>\n",
       "    <tr>\n",
       "      <th>2</th>\n",
       "      <td>0.050000</td>\n",
       "    </tr>\n",
       "    <tr>\n",
       "      <th>4</th>\n",
       "      <td>0.188830</td>\n",
       "    </tr>\n",
       "    <tr>\n",
       "      <th>5</th>\n",
       "      <td>0.142157</td>\n",
       "    </tr>\n",
       "    <tr>\n",
       "      <th>15</th>\n",
       "      <td>0.128743</td>\n",
       "    </tr>\n",
       "  </tbody>\n",
       "</table>\n",
       "</div>"
      ],
      "text/plain": [
       "    clustering\n",
       "1     0.000000\n",
       "2     0.050000\n",
       "4     0.188830\n",
       "5     0.142157\n",
       "15    0.128743"
      ]
     },
     "execution_count": 17,
     "metadata": {},
     "output_type": "execute_result"
    }
   ],
   "source": [
    "clustering = nx.clustering(G)\n",
    "clustering_df = pd.DataFrame.from_dict(clustering, orient='index', columns=['clustering'])\n",
    "clustering_df.head()"
   ]
  },
  {
   "cell_type": "code",
   "execution_count": 18,
   "id": "0469a811-a746-4e48-8dde-ecacc227d9b0",
   "metadata": {},
   "outputs": [
    {
     "data": {
      "text/html": [
       "<div>\n",
       "<style scoped>\n",
       "    .dataframe tbody tr th:only-of-type {\n",
       "        vertical-align: middle;\n",
       "    }\n",
       "\n",
       "    .dataframe tbody tr th {\n",
       "        vertical-align: top;\n",
       "    }\n",
       "\n",
       "    .dataframe thead th {\n",
       "        text-align: right;\n",
       "    }\n",
       "</style>\n",
       "<table border=\"1\" class=\"dataframe\">\n",
       "  <thead>\n",
       "    <tr style=\"text-align: right;\">\n",
       "      <th></th>\n",
       "      <th>id</th>\n",
       "      <th>title</th>\n",
       "      <th>group</th>\n",
       "      <th>review</th>\n",
       "      <th>page_rank</th>\n",
       "      <th>clustering</th>\n",
       "    </tr>\n",
       "  </thead>\n",
       "  <tbody>\n",
       "    <tr>\n",
       "      <th>0</th>\n",
       "      <td>3</td>\n",
       "      <td>World War II Allied Fighter Planes Trading Cards</td>\n",
       "      <td>Book</td>\n",
       "      <td>5.0</td>\n",
       "      <td>0.000197</td>\n",
       "      <td>0.450000</td>\n",
       "    </tr>\n",
       "    <tr>\n",
       "      <th>1</th>\n",
       "      <td>5</td>\n",
       "      <td>Prayers That Avail Much for Business: Executive</td>\n",
       "      <td>Book</td>\n",
       "      <td>0.0</td>\n",
       "      <td>0.000774</td>\n",
       "      <td>0.142157</td>\n",
       "    </tr>\n",
       "    <tr>\n",
       "      <th>2</th>\n",
       "      <td>7</td>\n",
       "      <td>Batik</td>\n",
       "      <td>Music</td>\n",
       "      <td>4.5</td>\n",
       "      <td>0.001263</td>\n",
       "      <td>0.109562</td>\n",
       "    </tr>\n",
       "    <tr>\n",
       "      <th>3</th>\n",
       "      <td>10</td>\n",
       "      <td>The Edward Said Reader</td>\n",
       "      <td>Book</td>\n",
       "      <td>4.0</td>\n",
       "      <td>0.000424</td>\n",
       "      <td>0.285714</td>\n",
       "    </tr>\n",
       "    <tr>\n",
       "      <th>4</th>\n",
       "      <td>11</td>\n",
       "      <td>Resetting the Clock : Five Anti-Aging Hormone...</td>\n",
       "      <td>Book</td>\n",
       "      <td>5.0</td>\n",
       "      <td>0.000906</td>\n",
       "      <td>0.120344</td>\n",
       "    </tr>\n",
       "  </tbody>\n",
       "</table>\n",
       "</div>"
      ],
      "text/plain": [
       "   id                                              title   group  review  \\\n",
       "0   3   World War II Allied Fighter Planes Trading Cards    Book     5.0   \n",
       "1   5    Prayers That Avail Much for Business: Executive    Book     0.0   \n",
       "2   7                                              Batik   Music     4.5   \n",
       "3  10                             The Edward Said Reader    Book     4.0   \n",
       "4  11   Resetting the Clock : Five Anti-Aging Hormone...    Book     5.0   \n",
       "\n",
       "   page_rank  clustering  \n",
       "0   0.000197    0.450000  \n",
       "1   0.000774    0.142157  \n",
       "2   0.001263    0.109562  \n",
       "3   0.000424    0.285714  \n",
       "4   0.000906    0.120344  "
      ]
     },
     "execution_count": 18,
     "metadata": {},
     "output_type": "execute_result"
    }
   ],
   "source": [
    "review_train = review_train.merge(clustering_df, left_on='id', right_index=True, how='left')\n",
    "review_train.head()"
   ]
  },
  {
   "cell_type": "code",
   "execution_count": 19,
   "id": "b56cd9de-1b61-4beb-bd7c-39b1b102cc23",
   "metadata": {},
   "outputs": [
    {
     "data": {
      "text/html": [
       "<div>\n",
       "<style scoped>\n",
       "    .dataframe tbody tr th:only-of-type {\n",
       "        vertical-align: middle;\n",
       "    }\n",
       "\n",
       "    .dataframe tbody tr th {\n",
       "        vertical-align: top;\n",
       "    }\n",
       "\n",
       "    .dataframe thead th {\n",
       "        text-align: right;\n",
       "    }\n",
       "</style>\n",
       "<table border=\"1\" class=\"dataframe\">\n",
       "  <thead>\n",
       "    <tr style=\"text-align: right;\">\n",
       "      <th></th>\n",
       "      <th>degree_centrality</th>\n",
       "    </tr>\n",
       "  </thead>\n",
       "  <tbody>\n",
       "    <tr>\n",
       "      <th>1</th>\n",
       "      <td>0.001512</td>\n",
       "    </tr>\n",
       "    <tr>\n",
       "      <th>2</th>\n",
       "      <td>0.001890</td>\n",
       "    </tr>\n",
       "    <tr>\n",
       "      <th>4</th>\n",
       "      <td>0.007559</td>\n",
       "    </tr>\n",
       "    <tr>\n",
       "      <th>5</th>\n",
       "      <td>0.005669</td>\n",
       "    </tr>\n",
       "    <tr>\n",
       "      <th>15</th>\n",
       "      <td>0.007181</td>\n",
       "    </tr>\n",
       "  </tbody>\n",
       "</table>\n",
       "</div>"
      ],
      "text/plain": [
       "    degree_centrality\n",
       "1            0.001512\n",
       "2            0.001890\n",
       "4            0.007559\n",
       "5            0.005669\n",
       "15           0.007181"
      ]
     },
     "execution_count": 19,
     "metadata": {},
     "output_type": "execute_result"
    }
   ],
   "source": [
    "degree_centrality = nx.degree_centrality(G)\n",
    "degree_centrality_df = pd.DataFrame.from_dict(degree_centrality, orient='index', columns=['degree_centrality'])\n",
    "degree_centrality_df.head()"
   ]
  },
  {
   "cell_type": "code",
   "execution_count": 20,
   "id": "69b0a6ec-ba23-45ad-bb98-b2977a731423",
   "metadata": {},
   "outputs": [
    {
     "data": {
      "text/html": [
       "<div>\n",
       "<style scoped>\n",
       "    .dataframe tbody tr th:only-of-type {\n",
       "        vertical-align: middle;\n",
       "    }\n",
       "\n",
       "    .dataframe tbody tr th {\n",
       "        vertical-align: top;\n",
       "    }\n",
       "\n",
       "    .dataframe thead th {\n",
       "        text-align: right;\n",
       "    }\n",
       "</style>\n",
       "<table border=\"1\" class=\"dataframe\">\n",
       "  <thead>\n",
       "    <tr style=\"text-align: right;\">\n",
       "      <th></th>\n",
       "      <th>id</th>\n",
       "      <th>title</th>\n",
       "      <th>group</th>\n",
       "      <th>review</th>\n",
       "      <th>page_rank</th>\n",
       "      <th>clustering</th>\n",
       "      <th>degree_centrality</th>\n",
       "    </tr>\n",
       "  </thead>\n",
       "  <tbody>\n",
       "    <tr>\n",
       "      <th>0</th>\n",
       "      <td>3</td>\n",
       "      <td>World War II Allied Fighter Planes Trading Cards</td>\n",
       "      <td>Book</td>\n",
       "      <td>5.0</td>\n",
       "      <td>0.000197</td>\n",
       "      <td>0.450000</td>\n",
       "      <td>0.001890</td>\n",
       "    </tr>\n",
       "    <tr>\n",
       "      <th>1</th>\n",
       "      <td>5</td>\n",
       "      <td>Prayers That Avail Much for Business: Executive</td>\n",
       "      <td>Book</td>\n",
       "      <td>0.0</td>\n",
       "      <td>0.000774</td>\n",
       "      <td>0.142157</td>\n",
       "      <td>0.005669</td>\n",
       "    </tr>\n",
       "    <tr>\n",
       "      <th>2</th>\n",
       "      <td>7</td>\n",
       "      <td>Batik</td>\n",
       "      <td>Music</td>\n",
       "      <td>4.5</td>\n",
       "      <td>0.001263</td>\n",
       "      <td>0.109562</td>\n",
       "      <td>0.008692</td>\n",
       "    </tr>\n",
       "    <tr>\n",
       "      <th>3</th>\n",
       "      <td>10</td>\n",
       "      <td>The Edward Said Reader</td>\n",
       "      <td>Book</td>\n",
       "      <td>4.0</td>\n",
       "      <td>0.000424</td>\n",
       "      <td>0.285714</td>\n",
       "      <td>0.003779</td>\n",
       "    </tr>\n",
       "    <tr>\n",
       "      <th>4</th>\n",
       "      <td>11</td>\n",
       "      <td>Resetting the Clock : Five Anti-Aging Hormone...</td>\n",
       "      <td>Book</td>\n",
       "      <td>5.0</td>\n",
       "      <td>0.000906</td>\n",
       "      <td>0.120344</td>\n",
       "      <td>0.010204</td>\n",
       "    </tr>\n",
       "  </tbody>\n",
       "</table>\n",
       "</div>"
      ],
      "text/plain": [
       "   id                                              title   group  review  \\\n",
       "0   3   World War II Allied Fighter Planes Trading Cards    Book     5.0   \n",
       "1   5    Prayers That Avail Much for Business: Executive    Book     0.0   \n",
       "2   7                                              Batik   Music     4.5   \n",
       "3  10                             The Edward Said Reader    Book     4.0   \n",
       "4  11   Resetting the Clock : Five Anti-Aging Hormone...    Book     5.0   \n",
       "\n",
       "   page_rank  clustering  degree_centrality  \n",
       "0   0.000197    0.450000           0.001890  \n",
       "1   0.000774    0.142157           0.005669  \n",
       "2   0.001263    0.109562           0.008692  \n",
       "3   0.000424    0.285714           0.003779  \n",
       "4   0.000906    0.120344           0.010204  "
      ]
     },
     "execution_count": 20,
     "metadata": {},
     "output_type": "execute_result"
    }
   ],
   "source": [
    "review_train = review_train.merge(degree_centrality_df, left_on='id', right_index=True, how='left')\n",
    "review_train.head()"
   ]
  },
  {
   "cell_type": "code",
   "execution_count": 21,
   "id": "af1cabf4-018c-4879-8570-cf8fd2e8d5d8",
   "metadata": {},
   "outputs": [
    {
     "data": {
      "text/html": [
       "<div>\n",
       "<style scoped>\n",
       "    .dataframe tbody tr th:only-of-type {\n",
       "        vertical-align: middle;\n",
       "    }\n",
       "\n",
       "    .dataframe tbody tr th {\n",
       "        vertical-align: top;\n",
       "    }\n",
       "\n",
       "    .dataframe thead th {\n",
       "        text-align: right;\n",
       "    }\n",
       "</style>\n",
       "<table border=\"1\" class=\"dataframe\">\n",
       "  <thead>\n",
       "    <tr style=\"text-align: right;\">\n",
       "      <th></th>\n",
       "      <th>closeness_centrality</th>\n",
       "    </tr>\n",
       "  </thead>\n",
       "  <tbody>\n",
       "    <tr>\n",
       "      <th>1</th>\n",
       "      <td>0.000000</td>\n",
       "    </tr>\n",
       "    <tr>\n",
       "      <th>2</th>\n",
       "      <td>0.000378</td>\n",
       "    </tr>\n",
       "    <tr>\n",
       "      <th>4</th>\n",
       "      <td>0.065922</td>\n",
       "    </tr>\n",
       "    <tr>\n",
       "      <th>5</th>\n",
       "      <td>0.133688</td>\n",
       "    </tr>\n",
       "    <tr>\n",
       "      <th>15</th>\n",
       "      <td>0.051976</td>\n",
       "    </tr>\n",
       "  </tbody>\n",
       "</table>\n",
       "</div>"
      ],
      "text/plain": [
       "    closeness_centrality\n",
       "1               0.000000\n",
       "2               0.000378\n",
       "4               0.065922\n",
       "5               0.133688\n",
       "15              0.051976"
      ]
     },
     "execution_count": 21,
     "metadata": {},
     "output_type": "execute_result"
    }
   ],
   "source": [
    "closeness_centrality = nx.closeness_centrality(G)\n",
    "closeness_centrality_df = pd.DataFrame.from_dict(closeness_centrality, orient='index', columns=['closeness_centrality'])\n",
    "closeness_centrality_df.head()"
   ]
  },
  {
   "cell_type": "code",
   "execution_count": 22,
   "id": "aa2affb8-fcd2-4962-a354-37adab9f8bc4",
   "metadata": {},
   "outputs": [
    {
     "data": {
      "text/html": [
       "<div>\n",
       "<style scoped>\n",
       "    .dataframe tbody tr th:only-of-type {\n",
       "        vertical-align: middle;\n",
       "    }\n",
       "\n",
       "    .dataframe tbody tr th {\n",
       "        vertical-align: top;\n",
       "    }\n",
       "\n",
       "    .dataframe thead th {\n",
       "        text-align: right;\n",
       "    }\n",
       "</style>\n",
       "<table border=\"1\" class=\"dataframe\">\n",
       "  <thead>\n",
       "    <tr style=\"text-align: right;\">\n",
       "      <th></th>\n",
       "      <th>id</th>\n",
       "      <th>title</th>\n",
       "      <th>group</th>\n",
       "      <th>review</th>\n",
       "      <th>page_rank</th>\n",
       "      <th>clustering</th>\n",
       "      <th>degree_centrality</th>\n",
       "      <th>closeness_centrality</th>\n",
       "    </tr>\n",
       "  </thead>\n",
       "  <tbody>\n",
       "    <tr>\n",
       "      <th>0</th>\n",
       "      <td>3</td>\n",
       "      <td>World War II Allied Fighter Planes Trading Cards</td>\n",
       "      <td>Book</td>\n",
       "      <td>5.0</td>\n",
       "      <td>0.000197</td>\n",
       "      <td>0.450000</td>\n",
       "      <td>0.001890</td>\n",
       "      <td>0.000000</td>\n",
       "    </tr>\n",
       "    <tr>\n",
       "      <th>1</th>\n",
       "      <td>5</td>\n",
       "      <td>Prayers That Avail Much for Business: Executive</td>\n",
       "      <td>Book</td>\n",
       "      <td>0.0</td>\n",
       "      <td>0.000774</td>\n",
       "      <td>0.142157</td>\n",
       "      <td>0.005669</td>\n",
       "      <td>0.133688</td>\n",
       "    </tr>\n",
       "    <tr>\n",
       "      <th>2</th>\n",
       "      <td>7</td>\n",
       "      <td>Batik</td>\n",
       "      <td>Music</td>\n",
       "      <td>4.5</td>\n",
       "      <td>0.001263</td>\n",
       "      <td>0.109562</td>\n",
       "      <td>0.008692</td>\n",
       "      <td>0.150353</td>\n",
       "    </tr>\n",
       "    <tr>\n",
       "      <th>3</th>\n",
       "      <td>10</td>\n",
       "      <td>The Edward Said Reader</td>\n",
       "      <td>Book</td>\n",
       "      <td>4.0</td>\n",
       "      <td>0.000424</td>\n",
       "      <td>0.285714</td>\n",
       "      <td>0.003779</td>\n",
       "      <td>0.116834</td>\n",
       "    </tr>\n",
       "    <tr>\n",
       "      <th>4</th>\n",
       "      <td>11</td>\n",
       "      <td>Resetting the Clock : Five Anti-Aging Hormone...</td>\n",
       "      <td>Book</td>\n",
       "      <td>5.0</td>\n",
       "      <td>0.000906</td>\n",
       "      <td>0.120344</td>\n",
       "      <td>0.010204</td>\n",
       "      <td>0.008231</td>\n",
       "    </tr>\n",
       "  </tbody>\n",
       "</table>\n",
       "</div>"
      ],
      "text/plain": [
       "   id                                              title   group  review  \\\n",
       "0   3   World War II Allied Fighter Planes Trading Cards    Book     5.0   \n",
       "1   5    Prayers That Avail Much for Business: Executive    Book     0.0   \n",
       "2   7                                              Batik   Music     4.5   \n",
       "3  10                             The Edward Said Reader    Book     4.0   \n",
       "4  11   Resetting the Clock : Five Anti-Aging Hormone...    Book     5.0   \n",
       "\n",
       "   page_rank  clustering  degree_centrality  closeness_centrality  \n",
       "0   0.000197    0.450000           0.001890              0.000000  \n",
       "1   0.000774    0.142157           0.005669              0.133688  \n",
       "2   0.001263    0.109562           0.008692              0.150353  \n",
       "3   0.000424    0.285714           0.003779              0.116834  \n",
       "4   0.000906    0.120344           0.010204              0.008231  "
      ]
     },
     "execution_count": 22,
     "metadata": {},
     "output_type": "execute_result"
    }
   ],
   "source": [
    "review_train = review_train.merge(closeness_centrality_df, left_on='id', right_index=True, how='left')\n",
    "review_train.head()"
   ]
  },
  {
   "cell_type": "code",
   "execution_count": 23,
   "id": "57ad8a1b-3d45-40b0-9aec-d0f7ac3f2e7d",
   "metadata": {},
   "outputs": [
    {
     "data": {
      "text/html": [
       "<div>\n",
       "<style scoped>\n",
       "    .dataframe tbody tr th:only-of-type {\n",
       "        vertical-align: middle;\n",
       "    }\n",
       "\n",
       "    .dataframe tbody tr th {\n",
       "        vertical-align: top;\n",
       "    }\n",
       "\n",
       "    .dataframe thead th {\n",
       "        text-align: right;\n",
       "    }\n",
       "</style>\n",
       "<table border=\"1\" class=\"dataframe\">\n",
       "  <thead>\n",
       "    <tr style=\"text-align: right;\">\n",
       "      <th></th>\n",
       "      <th>between_centrality</th>\n",
       "    </tr>\n",
       "  </thead>\n",
       "  <tbody>\n",
       "    <tr>\n",
       "      <th>1</th>\n",
       "      <td>0.000000</td>\n",
       "    </tr>\n",
       "    <tr>\n",
       "      <th>2</th>\n",
       "      <td>0.000084</td>\n",
       "    </tr>\n",
       "    <tr>\n",
       "      <th>4</th>\n",
       "      <td>0.005049</td>\n",
       "    </tr>\n",
       "    <tr>\n",
       "      <th>5</th>\n",
       "      <td>0.004032</td>\n",
       "    </tr>\n",
       "    <tr>\n",
       "      <th>15</th>\n",
       "      <td>0.037462</td>\n",
       "    </tr>\n",
       "  </tbody>\n",
       "</table>\n",
       "</div>"
      ],
      "text/plain": [
       "    between_centrality\n",
       "1             0.000000\n",
       "2             0.000084\n",
       "4             0.005049\n",
       "5             0.004032\n",
       "15            0.037462"
      ]
     },
     "execution_count": 23,
     "metadata": {},
     "output_type": "execute_result"
    }
   ],
   "source": [
    "betweenness_centrality = nx.betweenness_centrality(G)\n",
    "betweenness_centrality_df = pd.DataFrame.from_dict(betweenness_centrality , orient='index', columns=['between_centrality'])\n",
    "betweenness_centrality_df.head()"
   ]
  },
  {
   "cell_type": "code",
   "execution_count": 24,
   "id": "b5147d6d-3f2b-483c-83a6-d56a0139fb32",
   "metadata": {},
   "outputs": [
    {
     "data": {
      "text/html": [
       "<div>\n",
       "<style scoped>\n",
       "    .dataframe tbody tr th:only-of-type {\n",
       "        vertical-align: middle;\n",
       "    }\n",
       "\n",
       "    .dataframe tbody tr th {\n",
       "        vertical-align: top;\n",
       "    }\n",
       "\n",
       "    .dataframe thead th {\n",
       "        text-align: right;\n",
       "    }\n",
       "</style>\n",
       "<table border=\"1\" class=\"dataframe\">\n",
       "  <thead>\n",
       "    <tr style=\"text-align: right;\">\n",
       "      <th></th>\n",
       "      <th>id</th>\n",
       "      <th>title</th>\n",
       "      <th>group</th>\n",
       "      <th>review</th>\n",
       "      <th>page_rank</th>\n",
       "      <th>clustering</th>\n",
       "      <th>degree_centrality</th>\n",
       "      <th>closeness_centrality</th>\n",
       "      <th>between_centrality</th>\n",
       "    </tr>\n",
       "  </thead>\n",
       "  <tbody>\n",
       "    <tr>\n",
       "      <th>0</th>\n",
       "      <td>3</td>\n",
       "      <td>World War II Allied Fighter Planes Trading Cards</td>\n",
       "      <td>Book</td>\n",
       "      <td>5.0</td>\n",
       "      <td>0.000197</td>\n",
       "      <td>0.450000</td>\n",
       "      <td>0.001890</td>\n",
       "      <td>0.000000</td>\n",
       "      <td>0.000000</td>\n",
       "    </tr>\n",
       "    <tr>\n",
       "      <th>1</th>\n",
       "      <td>5</td>\n",
       "      <td>Prayers That Avail Much for Business: Executive</td>\n",
       "      <td>Book</td>\n",
       "      <td>0.0</td>\n",
       "      <td>0.000774</td>\n",
       "      <td>0.142157</td>\n",
       "      <td>0.005669</td>\n",
       "      <td>0.133688</td>\n",
       "      <td>0.004032</td>\n",
       "    </tr>\n",
       "    <tr>\n",
       "      <th>2</th>\n",
       "      <td>7</td>\n",
       "      <td>Batik</td>\n",
       "      <td>Music</td>\n",
       "      <td>4.5</td>\n",
       "      <td>0.001263</td>\n",
       "      <td>0.109562</td>\n",
       "      <td>0.008692</td>\n",
       "      <td>0.150353</td>\n",
       "      <td>0.018768</td>\n",
       "    </tr>\n",
       "    <tr>\n",
       "      <th>3</th>\n",
       "      <td>10</td>\n",
       "      <td>The Edward Said Reader</td>\n",
       "      <td>Book</td>\n",
       "      <td>4.0</td>\n",
       "      <td>0.000424</td>\n",
       "      <td>0.285714</td>\n",
       "      <td>0.003779</td>\n",
       "      <td>0.116834</td>\n",
       "      <td>0.003049</td>\n",
       "    </tr>\n",
       "    <tr>\n",
       "      <th>4</th>\n",
       "      <td>11</td>\n",
       "      <td>Resetting the Clock : Five Anti-Aging Hormone...</td>\n",
       "      <td>Book</td>\n",
       "      <td>5.0</td>\n",
       "      <td>0.000906</td>\n",
       "      <td>0.120344</td>\n",
       "      <td>0.010204</td>\n",
       "      <td>0.008231</td>\n",
       "      <td>0.008756</td>\n",
       "    </tr>\n",
       "  </tbody>\n",
       "</table>\n",
       "</div>"
      ],
      "text/plain": [
       "   id                                              title   group  review  \\\n",
       "0   3   World War II Allied Fighter Planes Trading Cards    Book     5.0   \n",
       "1   5    Prayers That Avail Much for Business: Executive    Book     0.0   \n",
       "2   7                                              Batik   Music     4.5   \n",
       "3  10                             The Edward Said Reader    Book     4.0   \n",
       "4  11   Resetting the Clock : Five Anti-Aging Hormone...    Book     5.0   \n",
       "\n",
       "   page_rank  clustering  degree_centrality  closeness_centrality  \\\n",
       "0   0.000197    0.450000           0.001890              0.000000   \n",
       "1   0.000774    0.142157           0.005669              0.133688   \n",
       "2   0.001263    0.109562           0.008692              0.150353   \n",
       "3   0.000424    0.285714           0.003779              0.116834   \n",
       "4   0.000906    0.120344           0.010204              0.008231   \n",
       "\n",
       "   between_centrality  \n",
       "0            0.000000  \n",
       "1            0.004032  \n",
       "2            0.018768  \n",
       "3            0.003049  \n",
       "4            0.008756  "
      ]
     },
     "execution_count": 24,
     "metadata": {},
     "output_type": "execute_result"
    }
   ],
   "source": [
    "review_train = review_train.merge(betweenness_centrality_df, left_on='id', right_index=True, how='left')\n",
    "review_train.head()"
   ]
  },
  {
   "cell_type": "markdown",
   "id": "fabf7c4d-5b73-4c2f-b186-1b2664b66496",
   "metadata": {},
   "source": [
    "As is stated above, missing values are generated when creating the features, so I need to drop these missing values."
   ]
  },
  {
   "cell_type": "code",
   "execution_count": 25,
   "id": "aee7ff7e-acc7-4702-8e2d-3ab4604cef83",
   "metadata": {},
   "outputs": [],
   "source": [
    "review_train.dropna(inplace=True)"
   ]
  },
  {
   "cell_type": "code",
   "execution_count": 26,
   "id": "41c49e46-384c-42cf-a662-b0a273995fc1",
   "metadata": {},
   "outputs": [],
   "source": [
    "from sklearn.preprocessing import LabelEncoder\n",
    "from sklearn.linear_model import LogisticRegression\n",
    "from sklearn.neighbors import KNeighborsClassifier\n",
    "from sklearn.gaussian_process import GaussianProcessClassifier\n",
    "from sklearn.tree import DecisionTreeClassifier\n",
    "from sklearn.ensemble import RandomForestClassifier, AdaBoostClassifier, VotingClassifier\n",
    "from sklearn.neural_network import MLPClassifier\n",
    "from sklearn.model_selection import GridSearchCV\n",
    "from sklearn.metrics import mean_absolute_error"
   ]
  },
  {
   "cell_type": "markdown",
   "id": "10e18c2b-3028-4918-b6f1-9a9be43faf48",
   "metadata": {},
   "source": [
    "As groups also seem to be a useful feature, I also pick `group` as a candidate. In addition, since `group` is a categorical feature, I use `LabelEncoder` to encode the `group` column."
   ]
  },
  {
   "cell_type": "code",
   "execution_count": 27,
   "id": "8381c0d7-6d99-4edd-92bb-202ce7d1c3d7",
   "metadata": {},
   "outputs": [],
   "source": [
    "groupencoder = LabelEncoder()\n",
    "review_train['group'] = groupencoder.fit_transform(review_train['group'])"
   ]
  },
  {
   "cell_type": "markdown",
   "id": "a4dc975d-0029-4c80-b3ea-8059c0efa885",
   "metadata": {},
   "source": [
    "Now I have 6 feature candidates, and I would like to pick 5 from them, so I check the correlation coefficients between these 6 features and `review`. "
   ]
  },
  {
   "cell_type": "code",
   "execution_count": 28,
   "id": "2960d1b6-c99e-454e-b525-cdc14933aa60",
   "metadata": {},
   "outputs": [
    {
     "data": {
      "text/html": [
       "<div>\n",
       "<style scoped>\n",
       "    .dataframe tbody tr th:only-of-type {\n",
       "        vertical-align: middle;\n",
       "    }\n",
       "\n",
       "    .dataframe tbody tr th {\n",
       "        vertical-align: top;\n",
       "    }\n",
       "\n",
       "    .dataframe thead th {\n",
       "        text-align: right;\n",
       "    }\n",
       "</style>\n",
       "<table border=\"1\" class=\"dataframe\">\n",
       "  <thead>\n",
       "    <tr style=\"text-align: right;\">\n",
       "      <th></th>\n",
       "      <th>id</th>\n",
       "      <th>group</th>\n",
       "      <th>review</th>\n",
       "      <th>page_rank</th>\n",
       "      <th>clustering</th>\n",
       "      <th>degree_centrality</th>\n",
       "      <th>closeness_centrality</th>\n",
       "      <th>between_centrality</th>\n",
       "    </tr>\n",
       "  </thead>\n",
       "  <tbody>\n",
       "    <tr>\n",
       "      <th>id</th>\n",
       "      <td>1.000000</td>\n",
       "      <td>-0.003071</td>\n",
       "      <td>0.033189</td>\n",
       "      <td>-0.356874</td>\n",
       "      <td>0.190649</td>\n",
       "      <td>-0.475670</td>\n",
       "      <td>-0.437823</td>\n",
       "      <td>-0.327841</td>\n",
       "    </tr>\n",
       "    <tr>\n",
       "      <th>group</th>\n",
       "      <td>-0.003071</td>\n",
       "      <td>1.000000</td>\n",
       "      <td>0.140767</td>\n",
       "      <td>-0.005651</td>\n",
       "      <td>0.001618</td>\n",
       "      <td>0.001436</td>\n",
       "      <td>0.003376</td>\n",
       "      <td>-0.016622</td>\n",
       "    </tr>\n",
       "    <tr>\n",
       "      <th>review</th>\n",
       "      <td>0.033189</td>\n",
       "      <td>0.140767</td>\n",
       "      <td>1.000000</td>\n",
       "      <td>-0.023928</td>\n",
       "      <td>0.023958</td>\n",
       "      <td>-0.024548</td>\n",
       "      <td>-0.015654</td>\n",
       "      <td>-0.002024</td>\n",
       "    </tr>\n",
       "    <tr>\n",
       "      <th>page_rank</th>\n",
       "      <td>-0.356874</td>\n",
       "      <td>-0.005651</td>\n",
       "      <td>-0.023928</td>\n",
       "      <td>1.000000</td>\n",
       "      <td>-0.171188</td>\n",
       "      <td>0.888381</td>\n",
       "      <td>0.436432</td>\n",
       "      <td>0.576272</td>\n",
       "    </tr>\n",
       "    <tr>\n",
       "      <th>clustering</th>\n",
       "      <td>0.190649</td>\n",
       "      <td>0.001618</td>\n",
       "      <td>0.023958</td>\n",
       "      <td>-0.171188</td>\n",
       "      <td>1.000000</td>\n",
       "      <td>-0.119005</td>\n",
       "      <td>-0.166597</td>\n",
       "      <td>-0.276858</td>\n",
       "    </tr>\n",
       "    <tr>\n",
       "      <th>degree_centrality</th>\n",
       "      <td>-0.475670</td>\n",
       "      <td>0.001436</td>\n",
       "      <td>-0.024548</td>\n",
       "      <td>0.888381</td>\n",
       "      <td>-0.119005</td>\n",
       "      <td>1.000000</td>\n",
       "      <td>0.388936</td>\n",
       "      <td>0.528611</td>\n",
       "    </tr>\n",
       "    <tr>\n",
       "      <th>closeness_centrality</th>\n",
       "      <td>-0.437823</td>\n",
       "      <td>0.003376</td>\n",
       "      <td>-0.015654</td>\n",
       "      <td>0.436432</td>\n",
       "      <td>-0.166597</td>\n",
       "      <td>0.388936</td>\n",
       "      <td>1.000000</td>\n",
       "      <td>0.381034</td>\n",
       "    </tr>\n",
       "    <tr>\n",
       "      <th>between_centrality</th>\n",
       "      <td>-0.327841</td>\n",
       "      <td>-0.016622</td>\n",
       "      <td>-0.002024</td>\n",
       "      <td>0.576272</td>\n",
       "      <td>-0.276858</td>\n",
       "      <td>0.528611</td>\n",
       "      <td>0.381034</td>\n",
       "      <td>1.000000</td>\n",
       "    </tr>\n",
       "  </tbody>\n",
       "</table>\n",
       "</div>"
      ],
      "text/plain": [
       "                            id     group    review  page_rank  clustering  \\\n",
       "id                    1.000000 -0.003071  0.033189  -0.356874    0.190649   \n",
       "group                -0.003071  1.000000  0.140767  -0.005651    0.001618   \n",
       "review                0.033189  0.140767  1.000000  -0.023928    0.023958   \n",
       "page_rank            -0.356874 -0.005651 -0.023928   1.000000   -0.171188   \n",
       "clustering            0.190649  0.001618  0.023958  -0.171188    1.000000   \n",
       "degree_centrality    -0.475670  0.001436 -0.024548   0.888381   -0.119005   \n",
       "closeness_centrality -0.437823  0.003376 -0.015654   0.436432   -0.166597   \n",
       "between_centrality   -0.327841 -0.016622 -0.002024   0.576272   -0.276858   \n",
       "\n",
       "                      degree_centrality  closeness_centrality  \\\n",
       "id                            -0.475670             -0.437823   \n",
       "group                          0.001436              0.003376   \n",
       "review                        -0.024548             -0.015654   \n",
       "page_rank                      0.888381              0.436432   \n",
       "clustering                    -0.119005             -0.166597   \n",
       "degree_centrality              1.000000              0.388936   \n",
       "closeness_centrality           0.388936              1.000000   \n",
       "between_centrality             0.528611              0.381034   \n",
       "\n",
       "                      between_centrality  \n",
       "id                             -0.327841  \n",
       "group                          -0.016622  \n",
       "review                         -0.002024  \n",
       "page_rank                       0.576272  \n",
       "clustering                     -0.276858  \n",
       "degree_centrality               0.528611  \n",
       "closeness_centrality            0.381034  \n",
       "between_centrality              1.000000  "
      ]
     },
     "execution_count": 28,
     "metadata": {},
     "output_type": "execute_result"
    }
   ],
   "source": [
    "review_train.corr()"
   ]
  },
  {
   "cell_type": "markdown",
   "id": "24c539bf-48a3-46a8-9561-0b9edb3f8307",
   "metadata": {},
   "source": [
    "It seems that actually these features might not be so good as the correlation coefficients are relatively small, but among the 6 features, `group`, `page_rank`, `clustering`, `degree_centrality`, `closeness_centrality` are better, so I pick these 5 features."
   ]
  },
  {
   "cell_type": "code",
   "execution_count": 29,
   "id": "2f4bac1f-1532-4653-9008-77baa3e3f869",
   "metadata": {},
   "outputs": [],
   "source": [
    "# feature matrix consists of the 5 features\n",
    "train_X = review_train.drop(['review', 'title', 'between_centrality'], axis=1)"
   ]
  },
  {
   "cell_type": "code",
   "execution_count": 30,
   "id": "fba1361f-8de9-4ddc-9ac7-35266e27fe9d",
   "metadata": {},
   "outputs": [],
   "source": [
    "# encode review ratings, and this is the target\n",
    "reviewencoder = LabelEncoder()\n",
    "train_y = reviewencoder.fit_transform(review_train['review'])"
   ]
  },
  {
   "cell_type": "markdown",
   "id": "cbaeb100-6bbf-4bca-93b9-f59e6ea116e9",
   "metadata": {},
   "source": [
    "Now I have the preprocessed training data, and I will start on model comparison and selection, and parameter tuning. \n",
    "\n",
    "Here I utilize the voting classifier, so that I ensemble the results coming from 5 different classifiers: `KNeighborsClassifier`, `GaussianProcessClassifier`, `DecisionTreeClassifier`, `RandomForestClassifier` and `MLPClassifier`. I also tried `AdaBoostClassifier` and `LogisticRegression`, but these 2 increased MAE, so they're not included in the final voting classifier. \n",
    "\n",
    "As I choose to use the above 5 classifiers, I still need to tune the parameters, so that my voting classifier will be ensembled with the 5 classifiers with optimal parameters. I use `GridSeachCV` to perform exhaustive 5-fold cross-validated search to find the best parameters over different parameter values."
   ]
  },
  {
   "cell_type": "code",
   "execution_count": 31,
   "id": "220c889c-9306-4fc3-88c0-f7e692908daf",
   "metadata": {},
   "outputs": [],
   "source": [
    "# higher MAE, dropped\n",
    "classifiers = [\n",
    "    (\"Logistic Regression\",  LogisticRegression()),\n",
    "    (\"KNN\", KNeighborsClassifier()), \n",
    "    (\"Gaussian Process\", GaussianProcessClassifier()),\n",
    "    (\"Decision Tree\", DecisionTreeClassifier()),\n",
    "    (\"Random Forest\", RandomForestClassifier()), \n",
    "    (\"Multi-layer Perceptron\", MLPClassifier())\n",
    "]\n",
    "\n",
    "grid_bool = [True, False]\n",
    "grid_solver = ['newton-cg', 'liblinear']\n",
    "grid_neighbours = [1, 2, 3, 4, 5, 6, 7]\n",
    "grid_criterion = ['gini', 'entropy']\n",
    "grid_max_depth = [2, 4, 6, 8, 10, None]\n",
    "seed = [42]\n",
    "grid_n_estimator = [5, 10, 15, 20, 25, 30, 40, 50, 100]\n",
    "grid_alpha = [0.0001, 0.001, 0.01, 1, 10]"
   ]
  },
  {
   "cell_type": "code",
   "execution_count": 32,
   "id": "0b0e3286-b10e-4280-8c84-970bbe261fc4",
   "metadata": {},
   "outputs": [],
   "source": [
    "grid_param = [\n",
    "            [{\n",
    "            # LogisticRegression\n",
    "            'fit_intercept': grid_bool, \n",
    "            'solver': grid_solver,\n",
    "            'random_state': seed,\n",
    "            'max_iter': [1000],\n",
    "             }],\n",
    "    \n",
    "            [{\n",
    "            # KNeighborsClassifier \n",
    "            'n_neighbors': grid_neighbours, \n",
    "            'weights': ['uniform', 'distance'], \n",
    "            'algorithm': ['auto', 'ball_tree', 'kd_tree', 'brute']\n",
    "            }],\n",
    "    \n",
    "            [{    \n",
    "            # GaussianProcessClassifier\n",
    "            'max_iter_predict': grid_n_estimator, \n",
    "            'random_state': seed\n",
    "            }],\n",
    "            \n",
    "            [{\n",
    "            # DecisionTreeClassifier\n",
    "            'criterion': grid_criterion, \n",
    "            'max_depth': grid_max_depth, \n",
    "            'random_state': seed\n",
    "             }],\n",
    "            \n",
    "            [{\n",
    "            # RandomForestClassifier\n",
    "            'n_estimators': grid_n_estimator, \n",
    "            'criterion': grid_criterion, \n",
    "            'max_depth': grid_max_depth, \n",
    "            'random_state': seed\n",
    "             }],\n",
    "    \n",
    "            [{\n",
    "            # MLPClassifer\n",
    "            'activation': ['logistic', 'tanh', 'relu'],\n",
    "            'alpha': grid_alpha,\n",
    "            'random_state': seed,\n",
    "            'max_iter': [1000]\n",
    "            }]\n",
    "        ]"
   ]
  },
  {
   "cell_type": "code",
   "execution_count": 33,
   "id": "fa38a69c-543a-4397-831b-1e556eb2b196",
   "metadata": {},
   "outputs": [
    {
     "name": "stderr",
     "output_type": "stream",
     "text": [
      "C:\\Users\\tcy\\anaconda3\\lib\\site-packages\\sklearn\\model_selection\\_split.py:666: UserWarning: The least populated class in y has only 3 members, which is less than n_splits=5.\n",
      "  warnings.warn((\"The least populated class in y has only %d\"\n"
     ]
    },
    {
     "name": "stdout",
     "output_type": "stream",
     "text": [
      "The best parameter for LogisticRegression is {'fit_intercept': False, 'max_iter': 1000, 'random_state': 42, 'solver': 'liblinear'}.\n"
     ]
    },
    {
     "name": "stderr",
     "output_type": "stream",
     "text": [
      "C:\\Users\\tcy\\anaconda3\\lib\\site-packages\\sklearn\\model_selection\\_split.py:666: UserWarning: The least populated class in y has only 3 members, which is less than n_splits=5.\n",
      "  warnings.warn((\"The least populated class in y has only %d\"\n"
     ]
    },
    {
     "name": "stdout",
     "output_type": "stream",
     "text": [
      "The best parameter for KNeighborsClassifier is {'algorithm': 'auto', 'n_neighbors': 6, 'weights': 'uniform'}.\n"
     ]
    },
    {
     "name": "stderr",
     "output_type": "stream",
     "text": [
      "C:\\Users\\tcy\\anaconda3\\lib\\site-packages\\sklearn\\model_selection\\_split.py:666: UserWarning: The least populated class in y has only 3 members, which is less than n_splits=5.\n",
      "  warnings.warn((\"The least populated class in y has only %d\"\n"
     ]
    },
    {
     "name": "stdout",
     "output_type": "stream",
     "text": [
      "The best parameter for GaussianProcessClassifier is {'max_iter_predict': 5, 'random_state': 42}.\n"
     ]
    },
    {
     "name": "stderr",
     "output_type": "stream",
     "text": [
      "C:\\Users\\tcy\\anaconda3\\lib\\site-packages\\sklearn\\model_selection\\_split.py:666: UserWarning: The least populated class in y has only 3 members, which is less than n_splits=5.\n",
      "  warnings.warn((\"The least populated class in y has only %d\"\n"
     ]
    },
    {
     "name": "stdout",
     "output_type": "stream",
     "text": [
      "The best parameter for DecisionTreeClassifier is {'criterion': 'gini', 'max_depth': 8, 'random_state': 42}.\n"
     ]
    },
    {
     "name": "stderr",
     "output_type": "stream",
     "text": [
      "C:\\Users\\tcy\\anaconda3\\lib\\site-packages\\sklearn\\model_selection\\_split.py:666: UserWarning: The least populated class in y has only 3 members, which is less than n_splits=5.\n",
      "  warnings.warn((\"The least populated class in y has only %d\"\n"
     ]
    },
    {
     "name": "stdout",
     "output_type": "stream",
     "text": [
      "The best parameter for RandomForestClassifier is {'criterion': 'gini', 'max_depth': 10, 'n_estimators': 15, 'random_state': 42}.\n"
     ]
    },
    {
     "name": "stderr",
     "output_type": "stream",
     "text": [
      "C:\\Users\\tcy\\anaconda3\\lib\\site-packages\\sklearn\\model_selection\\_split.py:666: UserWarning: The least populated class in y has only 3 members, which is less than n_splits=5.\n",
      "  warnings.warn((\"The least populated class in y has only %d\"\n"
     ]
    },
    {
     "name": "stdout",
     "output_type": "stream",
     "text": [
      "The best parameter for MLPClassifier is {'activation': 'relu', 'alpha': 0.01, 'max_iter': 1000, 'random_state': 42}.\n"
     ]
    }
   ],
   "source": [
    "for clf, param in zip(classifiers, grid_param):  \n",
    "    best_search = GridSearchCV(estimator=clf[1], param_grid=param, cv=5, scoring='neg_mean_absolute_error')\n",
    "    best_search.fit(train_X, train_y)\n",
    "\n",
    "    best_param = best_search.best_params_\n",
    "    print('The best parameter for {} is {}.'.format(clf[1].__class__.__name__, best_param))\n",
    "    clf[1].set_params(**best_param) "
   ]
  },
  {
   "cell_type": "code",
   "execution_count": 34,
   "id": "80a0207a-9afd-46ad-ae88-bd17acf7ae7d",
   "metadata": {},
   "outputs": [
    {
     "name": "stdout",
     "output_type": "stream",
     "text": [
      "Training MAE by hard voting: 1.85\n",
      "Training MAE by soft voting: 1.74\n"
     ]
    }
   ],
   "source": [
    "grid_hard = VotingClassifier(estimators=classifiers, voting='hard')\n",
    "grid_hard.fit(train_X, train_y)\n",
    "mae_hard = mean_absolute_error(train_y, grid_hard.predict(train_X))\n",
    "print(\"Training MAE by hard voting: %0.2f\" % (mae_hard))\n",
    "\n",
    "grid_soft = VotingClassifier(estimators=classifiers, voting='soft')\n",
    "grid_soft.fit(train_X, train_y)\n",
    "mae_soft = mean_absolute_error(train_y, grid_soft.predict(train_X))\n",
    "print(\"Training MAE by soft voting: %0.2f\" % (mae_soft))"
   ]
  },
  {
   "cell_type": "code",
   "execution_count": 35,
   "id": "125b1675-c9bf-4ca1-9792-347349c2c908",
   "metadata": {},
   "outputs": [],
   "source": [
    "# higher MAE, dropped\n",
    "classifiers = [\n",
    "    (\"KNN\", KNeighborsClassifier()), \n",
    "    (\"Gaussian Process\", GaussianProcessClassifier()),\n",
    "    (\"Decision Tree\", DecisionTreeClassifier()),\n",
    "    (\"Random Forest\", RandomForestClassifier()), \n",
    "    (\"Multi-layer Perceptron\", MLPClassifier()),\n",
    "    (\"AdaBoost\", AdaBoostClassifier())\n",
    "]\n",
    "\n",
    "grid_neighbours = [1, 2, 3, 4, 5, 6, 7]\n",
    "grid_criterion = ['gini', 'entropy']\n",
    "grid_max_depth = [2, 4, 6, 8, 10, None]\n",
    "seed = [42]\n",
    "grid_n_estimator = [5, 10, 15, 20, 25, 30, 40, 50, 100]\n",
    "grid_alpha = [0.0001, 0.001, 0.01, 1, 10]\n",
    "grid_learn = [.01, .03, .05, .1, .25]"
   ]
  },
  {
   "cell_type": "code",
   "execution_count": 36,
   "id": "5ff8845e-12b7-4db7-8a9d-0140ed179ce0",
   "metadata": {},
   "outputs": [],
   "source": [
    "grid_param = [\n",
    "            [{\n",
    "            # KNeighborsClassifier \n",
    "            'n_neighbors': grid_neighbours, \n",
    "            'weights': ['uniform', 'distance'], \n",
    "            'algorithm': ['auto', 'ball_tree', 'kd_tree', 'brute']\n",
    "            }],\n",
    "    \n",
    "            [{    \n",
    "            # GaussianProcessClassifier\n",
    "            'max_iter_predict': grid_n_estimator, \n",
    "            'random_state': seed\n",
    "            }],\n",
    "            \n",
    "            [{\n",
    "            # DecisionTreeClassifier\n",
    "            'criterion': grid_criterion, \n",
    "            'max_depth': grid_max_depth, \n",
    "            'random_state': seed\n",
    "             }],\n",
    "            \n",
    "            [{\n",
    "            # RandomForestClassifier\n",
    "            'n_estimators': grid_n_estimator, \n",
    "            'criterion': grid_criterion, \n",
    "            'max_depth': grid_max_depth, \n",
    "            'random_state': seed\n",
    "             }],\n",
    "    \n",
    "            [{\n",
    "            # MLPClassifer\n",
    "            'activation': ['logistic', 'tanh', 'relu'],\n",
    "            'alpha': grid_alpha,\n",
    "            'random_state': seed,\n",
    "            'max_iter': [1000]\n",
    "            }],\n",
    "            \n",
    "            [{\n",
    "            # AdaBoostClassifier\n",
    "            'n_estimators': grid_n_estimator, \n",
    "            'learning_rate': grid_learn, \n",
    "            'random_state': seed\n",
    "            }]\n",
    "        ]"
   ]
  },
  {
   "cell_type": "code",
   "execution_count": 37,
   "id": "ea22cda8-3ab2-418a-98d2-9094ebaf4f8a",
   "metadata": {},
   "outputs": [
    {
     "name": "stderr",
     "output_type": "stream",
     "text": [
      "C:\\Users\\tcy\\anaconda3\\lib\\site-packages\\sklearn\\model_selection\\_split.py:666: UserWarning: The least populated class in y has only 3 members, which is less than n_splits=5.\n",
      "  warnings.warn((\"The least populated class in y has only %d\"\n"
     ]
    },
    {
     "name": "stdout",
     "output_type": "stream",
     "text": [
      "The best parameter for KNeighborsClassifier is {'algorithm': 'auto', 'n_neighbors': 6, 'weights': 'uniform'}.\n"
     ]
    },
    {
     "name": "stderr",
     "output_type": "stream",
     "text": [
      "C:\\Users\\tcy\\anaconda3\\lib\\site-packages\\sklearn\\model_selection\\_split.py:666: UserWarning: The least populated class in y has only 3 members, which is less than n_splits=5.\n",
      "  warnings.warn((\"The least populated class in y has only %d\"\n"
     ]
    },
    {
     "name": "stdout",
     "output_type": "stream",
     "text": [
      "The best parameter for GaussianProcessClassifier is {'max_iter_predict': 5, 'random_state': 42}.\n"
     ]
    },
    {
     "name": "stderr",
     "output_type": "stream",
     "text": [
      "C:\\Users\\tcy\\anaconda3\\lib\\site-packages\\sklearn\\model_selection\\_split.py:666: UserWarning: The least populated class in y has only 3 members, which is less than n_splits=5.\n",
      "  warnings.warn((\"The least populated class in y has only %d\"\n"
     ]
    },
    {
     "name": "stdout",
     "output_type": "stream",
     "text": [
      "The best parameter for DecisionTreeClassifier is {'criterion': 'gini', 'max_depth': 8, 'random_state': 42}.\n"
     ]
    },
    {
     "name": "stderr",
     "output_type": "stream",
     "text": [
      "C:\\Users\\tcy\\anaconda3\\lib\\site-packages\\sklearn\\model_selection\\_split.py:666: UserWarning: The least populated class in y has only 3 members, which is less than n_splits=5.\n",
      "  warnings.warn((\"The least populated class in y has only %d\"\n"
     ]
    },
    {
     "name": "stdout",
     "output_type": "stream",
     "text": [
      "The best parameter for RandomForestClassifier is {'criterion': 'gini', 'max_depth': 10, 'n_estimators': 15, 'random_state': 42}.\n"
     ]
    },
    {
     "name": "stderr",
     "output_type": "stream",
     "text": [
      "C:\\Users\\tcy\\anaconda3\\lib\\site-packages\\sklearn\\model_selection\\_split.py:666: UserWarning: The least populated class in y has only 3 members, which is less than n_splits=5.\n",
      "  warnings.warn((\"The least populated class in y has only %d\"\n"
     ]
    },
    {
     "name": "stdout",
     "output_type": "stream",
     "text": [
      "The best parameter for MLPClassifier is {'activation': 'relu', 'alpha': 0.01, 'max_iter': 1000, 'random_state': 42}.\n"
     ]
    },
    {
     "name": "stderr",
     "output_type": "stream",
     "text": [
      "C:\\Users\\tcy\\anaconda3\\lib\\site-packages\\sklearn\\model_selection\\_split.py:666: UserWarning: The least populated class in y has only 3 members, which is less than n_splits=5.\n",
      "  warnings.warn((\"The least populated class in y has only %d\"\n"
     ]
    },
    {
     "name": "stdout",
     "output_type": "stream",
     "text": [
      "The best parameter for AdaBoostClassifier is {'learning_rate': 0.25, 'n_estimators': 50, 'random_state': 42}.\n"
     ]
    }
   ],
   "source": [
    "for clf, param in zip(classifiers, grid_param):  \n",
    "    best_search = GridSearchCV(estimator=clf[1], param_grid=param, cv=5, scoring='neg_mean_absolute_error')\n",
    "    best_search.fit(train_X, train_y)\n",
    "\n",
    "    best_param = best_search.best_params_\n",
    "    print('The best parameter for {} is {}.'.format(clf[1].__class__.__name__, best_param))\n",
    "    clf[1].set_params(**best_param) "
   ]
  },
  {
   "cell_type": "code",
   "execution_count": 38,
   "id": "c91eb7c9-366d-423f-8094-9a5509522382",
   "metadata": {},
   "outputs": [
    {
     "name": "stdout",
     "output_type": "stream",
     "text": [
      "Training MAE by hard voting: 1.93\n",
      "Training MAE by soft voting: 1.68\n"
     ]
    }
   ],
   "source": [
    "grid_hard = VotingClassifier(estimators=classifiers, voting='hard')\n",
    "grid_hard.fit(train_X, train_y)\n",
    "mae_hard = mean_absolute_error(train_y, grid_hard.predict(train_X))\n",
    "print(\"Training MAE by hard voting: %0.2f\" % (mae_hard))\n",
    "\n",
    "grid_soft = VotingClassifier(estimators=classifiers, voting='soft')\n",
    "grid_soft.fit(train_X, train_y)\n",
    "mae_soft = mean_absolute_error(train_y, grid_soft.predict(train_X))\n",
    "print(\"Training MAE by soft voting: %0.2f\" % (mae_soft))"
   ]
  },
  {
   "cell_type": "code",
   "execution_count": 39,
   "id": "780f57d5-1966-48e3-9b99-7b9fe63dc21b",
   "metadata": {},
   "outputs": [],
   "source": [
    "# Final model\n",
    "classifiers = [\n",
    "    (\"KNN\", KNeighborsClassifier()), \n",
    "    (\"Gaussian Process\", GaussianProcessClassifier()),\n",
    "    (\"Decision Tree\", DecisionTreeClassifier()),\n",
    "    (\"Random Forest\", RandomForestClassifier()), \n",
    "    (\"Multi-layer Perceptron\", MLPClassifier())\n",
    "]\n",
    "\n",
    "grid_neighbours = [1, 2, 3, 4, 5, 6, 7]\n",
    "grid_criterion = ['gini', 'entropy']\n",
    "grid_max_depth = [2, 4, 6, 8, 10, None]\n",
    "seed = [42]\n",
    "grid_n_estimator = [5, 10, 15, 20, 25, 30, 40, 50, 100]\n",
    "grid_alpha = [0.0001, 0.001, 0.01, 1, 10]"
   ]
  },
  {
   "cell_type": "code",
   "execution_count": 40,
   "id": "2016aa49-4109-439e-9fc3-73898f45d458",
   "metadata": {},
   "outputs": [],
   "source": [
    "grid_param = [\n",
    "            [{\n",
    "            # KNeighborsClassifier \n",
    "            'n_neighbors': grid_neighbours, \n",
    "            'weights': ['uniform', 'distance'], \n",
    "            'algorithm': ['auto', 'ball_tree', 'kd_tree', 'brute']\n",
    "            }],\n",
    "    \n",
    "            [{    \n",
    "            # GaussianProcessClassifier\n",
    "            'max_iter_predict': grid_n_estimator, \n",
    "            'random_state': seed\n",
    "            }],\n",
    "            \n",
    "            [{\n",
    "            # DecisionTreeClassifier\n",
    "            'criterion': grid_criterion, \n",
    "            'max_depth': grid_max_depth, \n",
    "            'random_state': seed\n",
    "             }],\n",
    "            \n",
    "            [{\n",
    "            # RandomForestClassifier\n",
    "            'n_estimators': grid_n_estimator, \n",
    "            'criterion': grid_criterion, \n",
    "            'max_depth': grid_max_depth, \n",
    "            'random_state': seed\n",
    "             }],\n",
    "    \n",
    "            [{\n",
    "            # MLPClassifer\n",
    "            'activation': ['logistic', 'tanh', 'relu'],\n",
    "            'alpha': grid_alpha,\n",
    "            'random_state': seed,\n",
    "            'max_iter': [1000]\n",
    "            }]\n",
    "        ]"
   ]
  },
  {
   "cell_type": "code",
   "execution_count": 41,
   "id": "e64dc95d-6b48-4fd0-b0e3-5bc0782a4994",
   "metadata": {},
   "outputs": [
    {
     "name": "stderr",
     "output_type": "stream",
     "text": [
      "C:\\Users\\tcy\\anaconda3\\lib\\site-packages\\sklearn\\model_selection\\_split.py:666: UserWarning: The least populated class in y has only 3 members, which is less than n_splits=5.\n",
      "  warnings.warn((\"The least populated class in y has only %d\"\n"
     ]
    },
    {
     "name": "stdout",
     "output_type": "stream",
     "text": [
      "The best parameter for KNeighborsClassifier is {'algorithm': 'auto', 'n_neighbors': 6, 'weights': 'uniform'}.\n"
     ]
    },
    {
     "name": "stderr",
     "output_type": "stream",
     "text": [
      "C:\\Users\\tcy\\anaconda3\\lib\\site-packages\\sklearn\\model_selection\\_split.py:666: UserWarning: The least populated class in y has only 3 members, which is less than n_splits=5.\n",
      "  warnings.warn((\"The least populated class in y has only %d\"\n"
     ]
    },
    {
     "name": "stdout",
     "output_type": "stream",
     "text": [
      "The best parameter for GaussianProcessClassifier is {'max_iter_predict': 5, 'random_state': 42}.\n"
     ]
    },
    {
     "name": "stderr",
     "output_type": "stream",
     "text": [
      "C:\\Users\\tcy\\anaconda3\\lib\\site-packages\\sklearn\\model_selection\\_split.py:666: UserWarning: The least populated class in y has only 3 members, which is less than n_splits=5.\n",
      "  warnings.warn((\"The least populated class in y has only %d\"\n"
     ]
    },
    {
     "name": "stdout",
     "output_type": "stream",
     "text": [
      "The best parameter for DecisionTreeClassifier is {'criterion': 'gini', 'max_depth': 8, 'random_state': 42}.\n"
     ]
    },
    {
     "name": "stderr",
     "output_type": "stream",
     "text": [
      "C:\\Users\\tcy\\anaconda3\\lib\\site-packages\\sklearn\\model_selection\\_split.py:666: UserWarning: The least populated class in y has only 3 members, which is less than n_splits=5.\n",
      "  warnings.warn((\"The least populated class in y has only %d\"\n"
     ]
    },
    {
     "name": "stdout",
     "output_type": "stream",
     "text": [
      "The best parameter for RandomForestClassifier is {'criterion': 'gini', 'max_depth': 10, 'n_estimators': 15, 'random_state': 42}.\n"
     ]
    },
    {
     "name": "stderr",
     "output_type": "stream",
     "text": [
      "C:\\Users\\tcy\\anaconda3\\lib\\site-packages\\sklearn\\model_selection\\_split.py:666: UserWarning: The least populated class in y has only 3 members, which is less than n_splits=5.\n",
      "  warnings.warn((\"The least populated class in y has only %d\"\n"
     ]
    },
    {
     "name": "stdout",
     "output_type": "stream",
     "text": [
      "The best parameter for MLPClassifier is {'activation': 'relu', 'alpha': 0.01, 'max_iter': 1000, 'random_state': 42}.\n"
     ]
    }
   ],
   "source": [
    "for clf, param in zip(classifiers, grid_param):  \n",
    "    best_search = GridSearchCV(estimator=clf[1], param_grid=param, cv=5, scoring='neg_mean_absolute_error')\n",
    "    best_search.fit(train_X, train_y)\n",
    "\n",
    "    best_param = best_search.best_params_\n",
    "    print('The best parameter for {} is {}.'.format(clf[1].__class__.__name__, best_param))\n",
    "    clf[1].set_params(**best_param) "
   ]
  },
  {
   "cell_type": "markdown",
   "id": "2d26dd64-148e-4e7d-9e9f-a8053bac40d4",
   "metadata": {},
   "source": [
    "Now I have selected the components of the voting classifier, and tuned the parameters. I still need to choose from hard voting and soft voting in the voting classifier."
   ]
  },
  {
   "cell_type": "code",
   "execution_count": 42,
   "id": "34ed2467-7fb8-4827-a247-d1b7a0ed1eac",
   "metadata": {},
   "outputs": [
    {
     "name": "stdout",
     "output_type": "stream",
     "text": [
      "Training MAE by hard voting: 1.47\n",
      "Training MAE by soft voting: 1.67\n"
     ]
    }
   ],
   "source": [
    "grid_hard = VotingClassifier(estimators=classifiers, voting='hard')\n",
    "grid_hard.fit(train_X, train_y)\n",
    "mae_hard = mean_absolute_error(train_y, grid_hard.predict(train_X))\n",
    "print(\"Training MAE by hard voting: %0.2f\" % (mae_hard))\n",
    "\n",
    "grid_soft = VotingClassifier(estimators=classifiers, voting='soft')\n",
    "grid_soft.fit(train_X, train_y)\n",
    "mae_soft = mean_absolute_error(train_y, grid_soft.predict(train_X))\n",
    "print(\"Training MAE by soft voting: %0.2f\" % (mae_soft))"
   ]
  },
  {
   "cell_type": "markdown",
   "id": "38b202b6-9526-47c9-aafd-9a660aa7e8c6",
   "metadata": {},
   "source": [
    "It seems that hard voting has a lower training MAE, so it is picked as my final model."
   ]
  },
  {
   "cell_type": "code",
   "execution_count": 43,
   "id": "a779b979-b030-4519-8bae-f502caad42e4",
   "metadata": {},
   "outputs": [
    {
     "data": {
      "text/html": [
       "<div>\n",
       "<style scoped>\n",
       "    .dataframe tbody tr th:only-of-type {\n",
       "        vertical-align: middle;\n",
       "    }\n",
       "\n",
       "    .dataframe tbody tr th {\n",
       "        vertical-align: top;\n",
       "    }\n",
       "\n",
       "    .dataframe thead th {\n",
       "        text-align: right;\n",
       "    }\n",
       "</style>\n",
       "<table border=\"1\" class=\"dataframe\">\n",
       "  <thead>\n",
       "    <tr style=\"text-align: right;\">\n",
       "      <th></th>\n",
       "      <th>id</th>\n",
       "      <th>title</th>\n",
       "      <th>group</th>\n",
       "      <th>review</th>\n",
       "    </tr>\n",
       "  </thead>\n",
       "  <tbody>\n",
       "    <tr>\n",
       "      <th>0</th>\n",
       "      <td>90</td>\n",
       "      <td>The Eagle Has Landed</td>\n",
       "      <td>Book</td>\n",
       "      <td>NaN</td>\n",
       "    </tr>\n",
       "    <tr>\n",
       "      <th>1</th>\n",
       "      <td>1372</td>\n",
       "      <td>Che in Africa: Che Guevara's Congo Diary</td>\n",
       "      <td>Book</td>\n",
       "      <td>NaN</td>\n",
       "    </tr>\n",
       "    <tr>\n",
       "      <th>2</th>\n",
       "      <td>1382</td>\n",
       "      <td>The Darwin Awards II : Unnatural Selection</td>\n",
       "      <td>Book</td>\n",
       "      <td>NaN</td>\n",
       "    </tr>\n",
       "    <tr>\n",
       "      <th>3</th>\n",
       "      <td>253</td>\n",
       "      <td>Celtic Glory</td>\n",
       "      <td>Music</td>\n",
       "      <td>NaN</td>\n",
       "    </tr>\n",
       "    <tr>\n",
       "      <th>4</th>\n",
       "      <td>671</td>\n",
       "      <td>Sublte Aromatherapy</td>\n",
       "      <td>Book</td>\n",
       "      <td>NaN</td>\n",
       "    </tr>\n",
       "  </tbody>\n",
       "</table>\n",
       "</div>"
      ],
      "text/plain": [
       "     id                                        title   group  review\n",
       "0    90                         The Eagle Has Landed    Book     NaN\n",
       "1  1372     Che in Africa: Che Guevara's Congo Diary    Book     NaN\n",
       "2  1382   The Darwin Awards II : Unnatural Selection    Book     NaN\n",
       "3   253                                 Celtic Glory   Music     NaN\n",
       "4   671                          Sublte Aromatherapy    Book     NaN"
      ]
     },
     "execution_count": 43,
     "metadata": {},
     "output_type": "execute_result"
    }
   ],
   "source": [
    "review_test = pd.read_csv('reviewTest.csv')\n",
    "review_test.head()"
   ]
  },
  {
   "cell_type": "markdown",
   "id": "24df82d6-5853-44a4-9885-690abe35facf",
   "metadata": {},
   "source": [
    "Finally, I use the hard voting classifier to predict the review rating of the Amazon products in `reviewTest.csv`. Some preprocessing is needed to generate the features related to the product ids."
   ]
  },
  {
   "cell_type": "code",
   "execution_count": 44,
   "id": "e1ccce41-7603-462e-8117-db5181019236",
   "metadata": {},
   "outputs": [
    {
     "data": {
      "text/html": [
       "<div>\n",
       "<style scoped>\n",
       "    .dataframe tbody tr th:only-of-type {\n",
       "        vertical-align: middle;\n",
       "    }\n",
       "\n",
       "    .dataframe tbody tr th {\n",
       "        vertical-align: top;\n",
       "    }\n",
       "\n",
       "    .dataframe thead th {\n",
       "        text-align: right;\n",
       "    }\n",
       "</style>\n",
       "<table border=\"1\" class=\"dataframe\">\n",
       "  <thead>\n",
       "    <tr style=\"text-align: right;\">\n",
       "      <th></th>\n",
       "      <th>id</th>\n",
       "      <th>title</th>\n",
       "      <th>group</th>\n",
       "      <th>review</th>\n",
       "      <th>page_rank</th>\n",
       "      <th>clustering</th>\n",
       "      <th>degree_centrality</th>\n",
       "      <th>closeness_centrality</th>\n",
       "    </tr>\n",
       "  </thead>\n",
       "  <tbody>\n",
       "    <tr>\n",
       "      <th>0</th>\n",
       "      <td>90</td>\n",
       "      <td>The Eagle Has Landed</td>\n",
       "      <td>0</td>\n",
       "      <td>0.0</td>\n",
       "      <td>0.000347</td>\n",
       "      <td>0.250000</td>\n",
       "      <td>0.003779</td>\n",
       "      <td>0.116428</td>\n",
       "    </tr>\n",
       "    <tr>\n",
       "      <th>1</th>\n",
       "      <td>1372</td>\n",
       "      <td>Che in Africa: Che Guevara's Congo Diary</td>\n",
       "      <td>0</td>\n",
       "      <td>0.0</td>\n",
       "      <td>0.000300</td>\n",
       "      <td>0.288462</td>\n",
       "      <td>0.003023</td>\n",
       "      <td>0.080232</td>\n",
       "    </tr>\n",
       "    <tr>\n",
       "      <th>2</th>\n",
       "      <td>1382</td>\n",
       "      <td>The Darwin Awards II : Unnatural Selection</td>\n",
       "      <td>0</td>\n",
       "      <td>0.0</td>\n",
       "      <td>0.000338</td>\n",
       "      <td>0.750000</td>\n",
       "      <td>0.003401</td>\n",
       "      <td>0.063412</td>\n",
       "    </tr>\n",
       "    <tr>\n",
       "      <th>3</th>\n",
       "      <td>253</td>\n",
       "      <td>Celtic Glory</td>\n",
       "      <td>2</td>\n",
       "      <td>0.0</td>\n",
       "      <td>0.000268</td>\n",
       "      <td>0.750000</td>\n",
       "      <td>0.002268</td>\n",
       "      <td>0.072458</td>\n",
       "    </tr>\n",
       "    <tr>\n",
       "      <th>4</th>\n",
       "      <td>671</td>\n",
       "      <td>Sublte Aromatherapy</td>\n",
       "      <td>0</td>\n",
       "      <td>0.0</td>\n",
       "      <td>0.000358</td>\n",
       "      <td>0.562500</td>\n",
       "      <td>0.003401</td>\n",
       "      <td>0.093620</td>\n",
       "    </tr>\n",
       "  </tbody>\n",
       "</table>\n",
       "</div>"
      ],
      "text/plain": [
       "     id                                        title  group  review  \\\n",
       "0    90                         The Eagle Has Landed      0     0.0   \n",
       "1  1372     Che in Africa: Che Guevara's Congo Diary      0     0.0   \n",
       "2  1382   The Darwin Awards II : Unnatural Selection      0     0.0   \n",
       "3   253                                 Celtic Glory      2     0.0   \n",
       "4   671                          Sublte Aromatherapy      0     0.0   \n",
       "\n",
       "   page_rank  clustering  degree_centrality  closeness_centrality  \n",
       "0   0.000347    0.250000           0.003779              0.116428  \n",
       "1   0.000300    0.288462           0.003023              0.080232  \n",
       "2   0.000338    0.750000           0.003401              0.063412  \n",
       "3   0.000268    0.750000           0.002268              0.072458  \n",
       "4   0.000358    0.562500           0.003401              0.093620  "
      ]
     },
     "execution_count": 44,
     "metadata": {},
     "output_type": "execute_result"
    }
   ],
   "source": [
    "review_test = review_test.merge(pageranks_df, left_on='id', right_index=True, how='left').merge(\n",
    "    clustering_df, left_on='id', right_index=True, how='left').merge(\n",
    "    degree_centrality_df, left_on='id', right_index=True, how='left').merge(\n",
    "    closeness_centrality_df, left_on='id', right_index=True, how='left')\n",
    "review_test.fillna(0, inplace=True)  # fill in missing values with 0\n",
    "review_test['group'] = groupencoder.transform(review_test['group'])\n",
    "review_test.head()"
   ]
  },
  {
   "cell_type": "code",
   "execution_count": 45,
   "id": "bfc29720-202b-4e42-81bd-f033e2fa2641",
   "metadata": {},
   "outputs": [
    {
     "data": {
      "text/html": [
       "<div>\n",
       "<style scoped>\n",
       "    .dataframe tbody tr th:only-of-type {\n",
       "        vertical-align: middle;\n",
       "    }\n",
       "\n",
       "    .dataframe tbody tr th {\n",
       "        vertical-align: top;\n",
       "    }\n",
       "\n",
       "    .dataframe thead th {\n",
       "        text-align: right;\n",
       "    }\n",
       "</style>\n",
       "<table border=\"1\" class=\"dataframe\">\n",
       "  <thead>\n",
       "    <tr style=\"text-align: right;\">\n",
       "      <th></th>\n",
       "      <th>id</th>\n",
       "      <th>title</th>\n",
       "      <th>group</th>\n",
       "      <th>review</th>\n",
       "      <th>page_rank</th>\n",
       "      <th>clustering</th>\n",
       "      <th>degree_centrality</th>\n",
       "      <th>closeness_centrality</th>\n",
       "    </tr>\n",
       "  </thead>\n",
       "  <tbody>\n",
       "    <tr>\n",
       "      <th>0</th>\n",
       "      <td>90</td>\n",
       "      <td>The Eagle Has Landed</td>\n",
       "      <td>Book</td>\n",
       "      <td>0.0</td>\n",
       "      <td>0.000347</td>\n",
       "      <td>0.250000</td>\n",
       "      <td>0.003779</td>\n",
       "      <td>0.116428</td>\n",
       "    </tr>\n",
       "    <tr>\n",
       "      <th>1</th>\n",
       "      <td>1372</td>\n",
       "      <td>Che in Africa: Che Guevara's Congo Diary</td>\n",
       "      <td>Book</td>\n",
       "      <td>0.0</td>\n",
       "      <td>0.000300</td>\n",
       "      <td>0.288462</td>\n",
       "      <td>0.003023</td>\n",
       "      <td>0.080232</td>\n",
       "    </tr>\n",
       "    <tr>\n",
       "      <th>2</th>\n",
       "      <td>1382</td>\n",
       "      <td>The Darwin Awards II : Unnatural Selection</td>\n",
       "      <td>Book</td>\n",
       "      <td>0.0</td>\n",
       "      <td>0.000338</td>\n",
       "      <td>0.750000</td>\n",
       "      <td>0.003401</td>\n",
       "      <td>0.063412</td>\n",
       "    </tr>\n",
       "    <tr>\n",
       "      <th>3</th>\n",
       "      <td>253</td>\n",
       "      <td>Celtic Glory</td>\n",
       "      <td>Music</td>\n",
       "      <td>4.5</td>\n",
       "      <td>0.000268</td>\n",
       "      <td>0.750000</td>\n",
       "      <td>0.002268</td>\n",
       "      <td>0.072458</td>\n",
       "    </tr>\n",
       "    <tr>\n",
       "      <th>4</th>\n",
       "      <td>671</td>\n",
       "      <td>Sublte Aromatherapy</td>\n",
       "      <td>Book</td>\n",
       "      <td>0.0</td>\n",
       "      <td>0.000358</td>\n",
       "      <td>0.562500</td>\n",
       "      <td>0.003401</td>\n",
       "      <td>0.093620</td>\n",
       "    </tr>\n",
       "  </tbody>\n",
       "</table>\n",
       "</div>"
      ],
      "text/plain": [
       "     id                                        title   group  review  \\\n",
       "0    90                         The Eagle Has Landed    Book     0.0   \n",
       "1  1372     Che in Africa: Che Guevara's Congo Diary    Book     0.0   \n",
       "2  1382   The Darwin Awards II : Unnatural Selection    Book     0.0   \n",
       "3   253                                 Celtic Glory   Music     4.5   \n",
       "4   671                          Sublte Aromatherapy    Book     0.0   \n",
       "\n",
       "   page_rank  clustering  degree_centrality  closeness_centrality  \n",
       "0   0.000347    0.250000           0.003779              0.116428  \n",
       "1   0.000300    0.288462           0.003023              0.080232  \n",
       "2   0.000338    0.750000           0.003401              0.063412  \n",
       "3   0.000268    0.750000           0.002268              0.072458  \n",
       "4   0.000358    0.562500           0.003401              0.093620  "
      ]
     },
     "execution_count": 45,
     "metadata": {},
     "output_type": "execute_result"
    }
   ],
   "source": [
    "review_test['review'] = reviewencoder.inverse_transform(grid_hard.predict(\n",
    "    review_test.drop(['review', 'title'], axis=1)))\n",
    "review_test['group'] = groupencoder.inverse_transform(review_test['group'])\n",
    "review_test.head()"
   ]
  },
  {
   "cell_type": "markdown",
   "id": "ec0e670c-955e-4070-9c7a-a541f75c9372",
   "metadata": {},
   "source": [
    "The predicted results are shown above, and I save the results as a csv, which will be uploaded on Canvas."
   ]
  },
  {
   "cell_type": "code",
   "execution_count": 46,
   "id": "25ada7ed-817f-4dc9-8d32-011730aeb634",
   "metadata": {},
   "outputs": [],
   "source": [
    "review_test[['id', 'title', 'group', 'review']].to_csv('reviewTestResult.csv', index=False)"
   ]
  }
 ],
 "metadata": {
  "kernelspec": {
   "display_name": "671",
   "language": "python",
   "name": "671"
  },
  "language_info": {
   "codemirror_mode": {
    "name": "ipython",
    "version": 3
   },
   "file_extension": ".py",
   "mimetype": "text/x-python",
   "name": "python",
   "nbconvert_exporter": "python",
   "pygments_lexer": "ipython3",
   "version": "3.8.8"
  }
 },
 "nbformat": 4,
 "nbformat_minor": 5
}
