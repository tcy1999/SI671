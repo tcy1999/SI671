{
 "cells": [
  {
   "cell_type": "markdown",
   "id": "821f3e05-c3fb-4ad5-be3c-372b0c352bfe",
   "metadata": {},
   "source": [
    "# SI 671 Homework 2\n",
    "Chenyun Tao  Uniq: cyuntao\n",
    "\n",
    "## Load & Transform the Data\n",
    "a)"
   ]
  },
  {
   "cell_type": "code",
   "execution_count": 1,
   "id": "b17ddc7f-6ed2-45b3-aed9-5cc9cb833dbb",
   "metadata": {},
   "outputs": [],
   "source": [
    "import pandas as pd\n",
    "import matplotlib.pyplot as plt\n",
    "%matplotlib inline\n",
    "from statsmodels.tsa.seasonal import seasonal_decompose\n",
    "import numpy as np\n",
    "from scipy.spatial.distance import cosine"
   ]
  },
  {
   "cell_type": "code",
   "execution_count": 2,
   "id": "6ce4e75c-c21c-4f0a-bcb2-3c0cbe9ec205",
   "metadata": {},
   "outputs": [],
   "source": [
    "def load_data():\n",
    "    df = pd.read_csv('time_series_covid19_confirmed_global.csv').set_index('Country/Region')\n",
    "    df = df.filter(regex=r\"[0-9]+/[0-9]+/[0-9]+\", axis=\"columns\")\n",
    "    df.index.name = None\n",
    "    top5Countries = df.loc[df['8/21/20'].sort_values(ascending=False)[:5].index].T\n",
    "    top5Countries.index = pd.to_datetime(top5Countries.index, infer_datetime_format=True)\n",
    "    top5Daily = top5Countries.diff()\n",
    "    top5Daily.dropna(inplace=True)\n",
    "    return top5Daily"
   ]
  },
  {
   "cell_type": "code",
   "execution_count": 3,
   "id": "d720c99f-8c14-4983-b01f-33a9d2b8b1b3",
   "metadata": {},
   "outputs": [
    {
     "data": {
      "text/html": [
       "<div>\n",
       "<style scoped>\n",
       "    .dataframe tbody tr th:only-of-type {\n",
       "        vertical-align: middle;\n",
       "    }\n",
       "\n",
       "    .dataframe tbody tr th {\n",
       "        vertical-align: top;\n",
       "    }\n",
       "\n",
       "    .dataframe thead th {\n",
       "        text-align: right;\n",
       "    }\n",
       "</style>\n",
       "<table border=\"1\" class=\"dataframe\">\n",
       "  <thead>\n",
       "    <tr style=\"text-align: right;\">\n",
       "      <th></th>\n",
       "      <th>US</th>\n",
       "      <th>Brazil</th>\n",
       "      <th>India</th>\n",
       "      <th>Russia</th>\n",
       "      <th>South Africa</th>\n",
       "    </tr>\n",
       "  </thead>\n",
       "  <tbody>\n",
       "    <tr>\n",
       "      <th>2020-01-23</th>\n",
       "      <td>0.0</td>\n",
       "      <td>0.0</td>\n",
       "      <td>0.0</td>\n",
       "      <td>0.0</td>\n",
       "      <td>0.0</td>\n",
       "    </tr>\n",
       "    <tr>\n",
       "      <th>2020-01-24</th>\n",
       "      <td>1.0</td>\n",
       "      <td>0.0</td>\n",
       "      <td>0.0</td>\n",
       "      <td>0.0</td>\n",
       "      <td>0.0</td>\n",
       "    </tr>\n",
       "    <tr>\n",
       "      <th>2020-01-25</th>\n",
       "      <td>0.0</td>\n",
       "      <td>0.0</td>\n",
       "      <td>0.0</td>\n",
       "      <td>0.0</td>\n",
       "      <td>0.0</td>\n",
       "    </tr>\n",
       "    <tr>\n",
       "      <th>2020-01-26</th>\n",
       "      <td>3.0</td>\n",
       "      <td>0.0</td>\n",
       "      <td>0.0</td>\n",
       "      <td>0.0</td>\n",
       "      <td>0.0</td>\n",
       "    </tr>\n",
       "    <tr>\n",
       "      <th>2020-01-27</th>\n",
       "      <td>0.0</td>\n",
       "      <td>0.0</td>\n",
       "      <td>0.0</td>\n",
       "      <td>0.0</td>\n",
       "      <td>0.0</td>\n",
       "    </tr>\n",
       "    <tr>\n",
       "      <th>...</th>\n",
       "      <td>...</td>\n",
       "      <td>...</td>\n",
       "      <td>...</td>\n",
       "      <td>...</td>\n",
       "      <td>...</td>\n",
       "    </tr>\n",
       "    <tr>\n",
       "      <th>2020-08-17</th>\n",
       "      <td>35112.0</td>\n",
       "      <td>19373.0</td>\n",
       "      <td>55018.0</td>\n",
       "      <td>4839.0</td>\n",
       "      <td>2541.0</td>\n",
       "    </tr>\n",
       "    <tr>\n",
       "      <th>2020-08-18</th>\n",
       "      <td>44091.0</td>\n",
       "      <td>47784.0</td>\n",
       "      <td>64572.0</td>\n",
       "      <td>4718.0</td>\n",
       "      <td>2258.0</td>\n",
       "    </tr>\n",
       "    <tr>\n",
       "      <th>2020-08-19</th>\n",
       "      <td>47408.0</td>\n",
       "      <td>49298.0</td>\n",
       "      <td>69672.0</td>\n",
       "      <td>4790.0</td>\n",
       "      <td>3916.0</td>\n",
       "    </tr>\n",
       "    <tr>\n",
       "      <th>2020-08-20</th>\n",
       "      <td>44023.0</td>\n",
       "      <td>45323.0</td>\n",
       "      <td>68900.0</td>\n",
       "      <td>4767.0</td>\n",
       "      <td>3880.0</td>\n",
       "    </tr>\n",
       "    <tr>\n",
       "      <th>2020-08-21</th>\n",
       "      <td>48693.0</td>\n",
       "      <td>30355.0</td>\n",
       "      <td>69876.0</td>\n",
       "      <td>4838.0</td>\n",
       "      <td>3398.0</td>\n",
       "    </tr>\n",
       "  </tbody>\n",
       "</table>\n",
       "<p>212 rows × 5 columns</p>\n",
       "</div>"
      ],
      "text/plain": [
       "                 US   Brazil    India  Russia  South Africa\n",
       "2020-01-23      0.0      0.0      0.0     0.0           0.0\n",
       "2020-01-24      1.0      0.0      0.0     0.0           0.0\n",
       "2020-01-25      0.0      0.0      0.0     0.0           0.0\n",
       "2020-01-26      3.0      0.0      0.0     0.0           0.0\n",
       "2020-01-27      0.0      0.0      0.0     0.0           0.0\n",
       "...             ...      ...      ...     ...           ...\n",
       "2020-08-17  35112.0  19373.0  55018.0  4839.0        2541.0\n",
       "2020-08-18  44091.0  47784.0  64572.0  4718.0        2258.0\n",
       "2020-08-19  47408.0  49298.0  69672.0  4790.0        3916.0\n",
       "2020-08-20  44023.0  45323.0  68900.0  4767.0        3880.0\n",
       "2020-08-21  48693.0  30355.0  69876.0  4838.0        3398.0\n",
       "\n",
       "[212 rows x 5 columns]"
      ]
     },
     "execution_count": 3,
     "metadata": {},
     "output_type": "execute_result"
    }
   ],
   "source": [
    "top5Daily = load_data()\n",
    "top5Daily"
   ]
  },
  {
   "cell_type": "code",
   "execution_count": 4,
   "id": "7cb237df-da91-46e5-890d-fa94fbf283d1",
   "metadata": {},
   "outputs": [
    {
     "data": {
      "text/plain": [
       "DatetimeIndex(['2020-01-23', '2020-01-24', '2020-01-25', '2020-01-26',\n",
       "               '2020-01-27', '2020-01-28', '2020-01-29', '2020-01-30',\n",
       "               '2020-01-31', '2020-02-01',\n",
       "               ...\n",
       "               '2020-08-12', '2020-08-13', '2020-08-14', '2020-08-15',\n",
       "               '2020-08-16', '2020-08-17', '2020-08-18', '2020-08-19',\n",
       "               '2020-08-20', '2020-08-21'],\n",
       "              dtype='datetime64[ns]', length=212, freq=None)"
      ]
     },
     "execution_count": 4,
     "metadata": {},
     "output_type": "execute_result"
    }
   ],
   "source": [
    "top5Daily.index  # check - index"
   ]
  },
  {
   "cell_type": "code",
   "execution_count": 5,
   "id": "d45f3ab8-e570-4973-adc1-866ae263b66d",
   "metadata": {},
   "outputs": [
    {
     "data": {
      "text/plain": [
       "US              False\n",
       "Brazil          False\n",
       "India           False\n",
       "Russia          False\n",
       "South Africa    False\n",
       "dtype: bool"
      ]
     },
     "execution_count": 5,
     "metadata": {},
     "output_type": "execute_result"
    }
   ],
   "source": [
    "top5Daily.isna().any()  # check - no NAN values"
   ]
  },
  {
   "cell_type": "markdown",
   "id": "f470aab3-fd93-4b20-9260-6796fb44403f",
   "metadata": {},
   "source": [
    "b)"
   ]
  },
  {
   "cell_type": "code",
   "execution_count": 6,
   "id": "64bed90c-529c-492f-9b92-c3ea6b7e3852",
   "metadata": {},
   "outputs": [],
   "source": [
    "def plotHelper(df, title, legend=True):\n",
    "    fig, ax = plt.subplots(figsize=(10, 6))\n",
    "    ax.plot(df)\n",
    "    ax.set_xlabel(\"Month\")\n",
    "    ax.set_ylabel(\"# Cases\")\n",
    "    if legend:\n",
    "        ax.legend(df.columns)\n",
    "    ax.set_title(title)"
   ]
  },
  {
   "cell_type": "code",
   "execution_count": 7,
   "id": "a837b27f-69b3-49fc-84b5-f68f79b69b31",
   "metadata": {},
   "outputs": [
    {
     "data": {
      "image/png": "[encoded data removed]",
      "text/plain": [
       "<Figure size 720x432 with 1 Axes>"
      ]
     },
     "metadata": {
      "needs_background": "light"
     },
     "output_type": "display_data"
    }
   ],
   "source": [
    "plotHelper(top5Daily, \"Daily New COVID-19 Cases in The Top 5 Countries for Most Cumulative Cases\")"
   ]
  },
  {
   "cell_type": "markdown",
   "id": "59d35832-42de-41c1-aee9-77d05bf34c8a",
   "metadata": {},
   "source": [
    "## Extract Seasonal Components\n",
    "a)"
   ]
  },
  {
   "cell_type": "code",
   "execution_count": 8,
   "id": "876929cf-3ee5-4d52-b315-a3ca136819c5",
   "metadata": {},
   "outputs": [],
   "source": [
    "def sea_decomp(df):\n",
    "    return pd.concat([pd.DataFrame({col: seasonal_decompose(df[col], model='additive').seasonal}\n",
    "                                  ) for col in df.columns], axis=1)"
   ]
  },
  {
   "cell_type": "code",
   "execution_count": 9,
   "id": "9e6d80b4-bd5a-4ada-ab19-0e047b93a277",
   "metadata": {},
   "outputs": [
    {
     "data": {
      "text/html": [
       "<div>\n",
       "<style scoped>\n",
       "    .dataframe tbody tr th:only-of-type {\n",
       "        vertical-align: middle;\n",
       "    }\n",
       "\n",
       "    .dataframe tbody tr th {\n",
       "        vertical-align: top;\n",
       "    }\n",
       "\n",
       "    .dataframe thead th {\n",
       "        text-align: right;\n",
       "    }\n",
       "</style>\n",
       "<table border=\"1\" class=\"dataframe\">\n",
       "  <thead>\n",
       "    <tr style=\"text-align: right;\">\n",
       "      <th></th>\n",
       "      <th>US</th>\n",
       "      <th>Brazil</th>\n",
       "      <th>India</th>\n",
       "      <th>Russia</th>\n",
       "      <th>South Africa</th>\n",
       "    </tr>\n",
       "  </thead>\n",
       "  <tbody>\n",
       "    <tr>\n",
       "      <th>2020-01-23</th>\n",
       "      <td>2431.761670</td>\n",
       "      <td>3380.626554</td>\n",
       "      <td>441.179428</td>\n",
       "      <td>-54.886371</td>\n",
       "      <td>322.986535</td>\n",
       "    </tr>\n",
       "    <tr>\n",
       "      <th>2020-01-24</th>\n",
       "      <td>3446.796153</td>\n",
       "      <td>3457.641332</td>\n",
       "      <td>621.396176</td>\n",
       "      <td>23.689984</td>\n",
       "      <td>362.434811</td>\n",
       "    </tr>\n",
       "    <tr>\n",
       "      <th>2020-01-25</th>\n",
       "      <td>578.564626</td>\n",
       "      <td>586.665963</td>\n",
       "      <td>594.066127</td>\n",
       "      <td>55.034811</td>\n",
       "      <td>391.346141</td>\n",
       "    </tr>\n",
       "    <tr>\n",
       "      <th>2020-01-26</th>\n",
       "      <td>-2728.454422</td>\n",
       "      <td>-6031.950950</td>\n",
       "      <td>46.655454</td>\n",
       "      <td>137.908703</td>\n",
       "      <td>76.880131</td>\n",
       "    </tr>\n",
       "    <tr>\n",
       "      <th>2020-01-27</th>\n",
       "      <td>-3293.854422</td>\n",
       "      <td>-7144.674760</td>\n",
       "      <td>-1234.673118</td>\n",
       "      <td>1.842036</td>\n",
       "      <td>-507.496059</td>\n",
       "    </tr>\n",
       "    <tr>\n",
       "      <th>...</th>\n",
       "      <td>...</td>\n",
       "      <td>...</td>\n",
       "      <td>...</td>\n",
       "      <td>...</td>\n",
       "      <td>...</td>\n",
       "    </tr>\n",
       "    <tr>\n",
       "      <th>2020-08-17</th>\n",
       "      <td>-3293.854422</td>\n",
       "      <td>-7144.674760</td>\n",
       "      <td>-1234.673118</td>\n",
       "      <td>1.842036</td>\n",
       "      <td>-507.496059</td>\n",
       "    </tr>\n",
       "    <tr>\n",
       "      <th>2020-08-18</th>\n",
       "      <td>-719.521088</td>\n",
       "      <td>1549.577621</td>\n",
       "      <td>-544.749308</td>\n",
       "      <td>-28.929392</td>\n",
       "      <td>-662.877011</td>\n",
       "    </tr>\n",
       "    <tr>\n",
       "      <th>2020-08-19</th>\n",
       "      <td>284.707483</td>\n",
       "      <td>4202.114239</td>\n",
       "      <td>76.125240</td>\n",
       "      <td>-134.659770</td>\n",
       "      <td>16.725452</td>\n",
       "    </tr>\n",
       "    <tr>\n",
       "      <th>2020-08-20</th>\n",
       "      <td>2431.761670</td>\n",
       "      <td>3380.626554</td>\n",
       "      <td>441.179428</td>\n",
       "      <td>-54.886371</td>\n",
       "      <td>322.986535</td>\n",
       "    </tr>\n",
       "    <tr>\n",
       "      <th>2020-08-21</th>\n",
       "      <td>3446.796153</td>\n",
       "      <td>3457.641332</td>\n",
       "      <td>621.396176</td>\n",
       "      <td>23.689984</td>\n",
       "      <td>362.434811</td>\n",
       "    </tr>\n",
       "  </tbody>\n",
       "</table>\n",
       "<p>212 rows × 5 columns</p>\n",
       "</div>"
      ],
      "text/plain": [
       "                     US       Brazil        India      Russia  South Africa\n",
       "2020-01-23  2431.761670  3380.626554   441.179428  -54.886371    322.986535\n",
       "2020-01-24  3446.796153  3457.641332   621.396176   23.689984    362.434811\n",
       "2020-01-25   578.564626   586.665963   594.066127   55.034811    391.346141\n",
       "2020-01-26 -2728.454422 -6031.950950    46.655454  137.908703     76.880131\n",
       "2020-01-27 -3293.854422 -7144.674760 -1234.673118    1.842036   -507.496059\n",
       "...                 ...          ...          ...         ...           ...\n",
       "2020-08-17 -3293.854422 -7144.674760 -1234.673118    1.842036   -507.496059\n",
       "2020-08-18  -719.521088  1549.577621  -544.749308  -28.929392   -662.877011\n",
       "2020-08-19   284.707483  4202.114239    76.125240 -134.659770     16.725452\n",
       "2020-08-20  2431.761670  3380.626554   441.179428  -54.886371    322.986535\n",
       "2020-08-21  3446.796153  3457.641332   621.396176   23.689984    362.434811\n",
       "\n",
       "[212 rows x 5 columns]"
      ]
     },
     "execution_count": 9,
     "metadata": {},
     "output_type": "execute_result"
    }
   ],
   "source": [
    "top5Sea = sea_decomp(top5Daily)\n",
    "top5Sea"
   ]
  },
  {
   "cell_type": "markdown",
   "id": "d28a4139-d287-47a3-bd79-5f424e9211d5",
   "metadata": {},
   "source": [
    "b)"
   ]
  },
  {
   "cell_type": "code",
   "execution_count": 10,
   "id": "caebb455-3bf8-49c3-8647-d380360216e7",
   "metadata": {},
   "outputs": [],
   "source": [
    "def plot5Helper(df, title):\n",
    "    fig, axes = plt.subplots(len(df.columns), 1, figsize=(10, 6), sharex=True)\n",
    "    for i, col in enumerate(df.columns):\n",
    "        axes[i].plot(df[col])\n",
    "        axes[i].set_ylabel(col + ' cases')\n",
    "    axes[-1].set_xlabel('Month')\n",
    "    fig.suptitle(title, x=0.513, y=0.95)"
   ]
  },
  {
   "cell_type": "code",
   "execution_count": 11,
   "id": "97ade826-67fa-48fe-afd6-e0db0d1c22d3",
   "metadata": {},
   "outputs": [
    {
     "data": {
      "image/png": "[encoded data removed]",
      "text/plain": [
       "<Figure size 720x432 with 5 Axes>"
      ]
     },
     "metadata": {
      "needs_background": "light"
     },
     "output_type": "display_data"
    }
   ],
   "source": [
    "plot5Helper(top5Sea, \"Seasonal Component of Daily New COVID-19 Cases in The Top 5 Countries for Most Cumulative Cases\")"
   ]
  },
  {
   "cell_type": "markdown",
   "id": "7fe4b5fc-7dac-4415-88f4-8ae902ed468c",
   "metadata": {},
   "source": [
    "## Time Series Similarities\n",
    "### Euclidean Distance\n",
    "a)"
   ]
  },
  {
   "cell_type": "code",
   "execution_count": 12,
   "id": "e11f51e9-9190-4873-a619-9dba78ba7c4f",
   "metadata": {},
   "outputs": [],
   "source": [
    "def calc_euclidean_dist(df):\n",
    "    cols = df.columns\n",
    "    result = pd.DataFrame(0, index=cols, columns=cols)\n",
    "    for i in range(len(cols)):\n",
    "        for j in range(i+1, len(cols)):\n",
    "            result.loc[cols[i], cols[j]] = np.sqrt(np.sum(np.square(df[cols[i]] - df[cols[j]])))\n",
    "    result += result.T\n",
    "    return result"
   ]
  },
  {
   "cell_type": "code",
   "execution_count": 13,
   "id": "3d97bfb7-48d2-44ce-a948-5044b14482e0",
   "metadata": {},
   "outputs": [
    {
     "data": {
      "text/html": [
       "<div>\n",
       "<style scoped>\n",
       "    .dataframe tbody tr th:only-of-type {\n",
       "        vertical-align: middle;\n",
       "    }\n",
       "\n",
       "    .dataframe tbody tr th {\n",
       "        vertical-align: top;\n",
       "    }\n",
       "\n",
       "    .dataframe thead th {\n",
       "        text-align: right;\n",
       "    }\n",
       "</style>\n",
       "<table border=\"1\" class=\"dataframe\">\n",
       "  <thead>\n",
       "    <tr style=\"text-align: right;\">\n",
       "      <th></th>\n",
       "      <th>US</th>\n",
       "      <th>Brazil</th>\n",
       "      <th>India</th>\n",
       "      <th>Russia</th>\n",
       "      <th>South Africa</th>\n",
       "    </tr>\n",
       "  </thead>\n",
       "  <tbody>\n",
       "    <tr>\n",
       "      <th>US</th>\n",
       "      <td>0.000000</td>\n",
       "      <td>233760.757213</td>\n",
       "      <td>272344.138927</td>\n",
       "      <td>433638.331574</td>\n",
       "      <td>436238.175972</td>\n",
       "    </tr>\n",
       "    <tr>\n",
       "      <th>Brazil</th>\n",
       "      <td>233760.757213</td>\n",
       "      <td>0.000000</td>\n",
       "      <td>178779.663740</td>\n",
       "      <td>306032.283923</td>\n",
       "      <td>304919.698741</td>\n",
       "    </tr>\n",
       "    <tr>\n",
       "      <th>India</th>\n",
       "      <td>272344.138927</td>\n",
       "      <td>178779.663740</td>\n",
       "      <td>0.000000</td>\n",
       "      <td>316862.767630</td>\n",
       "      <td>303936.538967</td>\n",
       "    </tr>\n",
       "    <tr>\n",
       "      <th>Russia</th>\n",
       "      <td>433638.331574</td>\n",
       "      <td>306032.283923</td>\n",
       "      <td>316862.767630</td>\n",
       "      <td>0.000000</td>\n",
       "      <td>67392.593681</td>\n",
       "    </tr>\n",
       "    <tr>\n",
       "      <th>South Africa</th>\n",
       "      <td>436238.175972</td>\n",
       "      <td>304919.698741</td>\n",
       "      <td>303936.538967</td>\n",
       "      <td>67392.593681</td>\n",
       "      <td>0.000000</td>\n",
       "    </tr>\n",
       "  </tbody>\n",
       "</table>\n",
       "</div>"
      ],
      "text/plain": [
       "                         US         Brazil          India         Russia  \\\n",
       "US                 0.000000  233760.757213  272344.138927  433638.331574   \n",
       "Brazil        233760.757213       0.000000  178779.663740  306032.283923   \n",
       "India         272344.138927  178779.663740       0.000000  316862.767630   \n",
       "Russia        433638.331574  306032.283923  316862.767630       0.000000   \n",
       "South Africa  436238.175972  304919.698741  303936.538967   67392.593681   \n",
       "\n",
       "               South Africa  \n",
       "US            436238.175972  \n",
       "Brazil        304919.698741  \n",
       "India         303936.538967  \n",
       "Russia         67392.593681  \n",
       "South Africa       0.000000  "
      ]
     },
     "execution_count": 13,
     "metadata": {},
     "output_type": "execute_result"
    }
   ],
   "source": [
    "calc_euclidean_dist(top5Daily)"
   ]
  },
  {
   "cell_type": "markdown",
   "id": "65cda723-5ac9-40ca-8da1-b39e7c83fbb6",
   "metadata": {},
   "source": [
    "b)"
   ]
  },
  {
   "cell_type": "code",
   "execution_count": 14,
   "id": "dc8d8bc7-e6ba-4b13-a18c-ebfaee66e84f",
   "metadata": {},
   "outputs": [
    {
     "data": {
      "text/html": [
       "<div>\n",
       "<style scoped>\n",
       "    .dataframe tbody tr th:only-of-type {\n",
       "        vertical-align: middle;\n",
       "    }\n",
       "\n",
       "    .dataframe tbody tr th {\n",
       "        vertical-align: top;\n",
       "    }\n",
       "\n",
       "    .dataframe thead th {\n",
       "        text-align: right;\n",
       "    }\n",
       "</style>\n",
       "<table border=\"1\" class=\"dataframe\">\n",
       "  <thead>\n",
       "    <tr style=\"text-align: right;\">\n",
       "      <th></th>\n",
       "      <th>US</th>\n",
       "      <th>Brazil</th>\n",
       "      <th>India</th>\n",
       "      <th>Russia</th>\n",
       "      <th>South Africa</th>\n",
       "    </tr>\n",
       "  </thead>\n",
       "  <tbody>\n",
       "    <tr>\n",
       "      <th>US</th>\n",
       "      <td>0.000000</td>\n",
       "      <td>37616.752035</td>\n",
       "      <td>27032.887714</td>\n",
       "      <td>33986.305519</td>\n",
       "      <td>30084.544171</td>\n",
       "    </tr>\n",
       "    <tr>\n",
       "      <th>Brazil</th>\n",
       "      <td>37616.752035</td>\n",
       "      <td>0.000000</td>\n",
       "      <td>57583.437987</td>\n",
       "      <td>63663.896821</td>\n",
       "      <td>60839.376478</td>\n",
       "    </tr>\n",
       "    <tr>\n",
       "      <th>India</th>\n",
       "      <td>27032.887714</td>\n",
       "      <td>57583.437987</td>\n",
       "      <td>0.000000</td>\n",
       "      <td>9102.412727</td>\n",
       "      <td>4490.020448</td>\n",
       "    </tr>\n",
       "    <tr>\n",
       "      <th>Russia</th>\n",
       "      <td>33986.305519</td>\n",
       "      <td>63663.896821</td>\n",
       "      <td>9102.412727</td>\n",
       "      <td>0.000000</td>\n",
       "      <td>5658.222387</td>\n",
       "    </tr>\n",
       "    <tr>\n",
       "      <th>South Africa</th>\n",
       "      <td>30084.544171</td>\n",
       "      <td>60839.376478</td>\n",
       "      <td>4490.020448</td>\n",
       "      <td>5658.222387</td>\n",
       "      <td>0.000000</td>\n",
       "    </tr>\n",
       "  </tbody>\n",
       "</table>\n",
       "</div>"
      ],
      "text/plain": [
       "                        US        Brazil         India        Russia  \\\n",
       "US                0.000000  37616.752035  27032.887714  33986.305519   \n",
       "Brazil        37616.752035      0.000000  57583.437987  63663.896821   \n",
       "India         27032.887714  57583.437987      0.000000   9102.412727   \n",
       "Russia        33986.305519  63663.896821   9102.412727      0.000000   \n",
       "South Africa  30084.544171  60839.376478   4490.020448   5658.222387   \n",
       "\n",
       "              South Africa  \n",
       "US            30084.544171  \n",
       "Brazil        60839.376478  \n",
       "India          4490.020448  \n",
       "Russia         5658.222387  \n",
       "South Africa      0.000000  "
      ]
     },
     "execution_count": 14,
     "metadata": {},
     "output_type": "execute_result"
    }
   ],
   "source": [
    "calc_euclidean_dist(top5Sea)"
   ]
  },
  {
   "cell_type": "markdown",
   "id": "efcce294-a975-42c5-9d7b-af3a3e2d6964",
   "metadata": {},
   "source": [
    "### Cosine Similarity\n",
    "a)"
   ]
  },
  {
   "cell_type": "code",
   "execution_count": 15,
   "id": "c8513c1d-9add-4ffa-a3b5-86b0854a81db",
   "metadata": {},
   "outputs": [],
   "source": [
    "def calc_cos_sim(df):\n",
    "    cols = df.columns\n",
    "    result = pd.DataFrame(0, index=cols, columns=cols)\n",
    "    for i in range(len(cols)):\n",
    "        for j in range(i+1, len(cols)):\n",
    "            result.loc[cols[i], cols[j]] = 1 - cosine(df[cols[i]], df[cols[j]])\n",
    "    result += result.T\n",
    "    np.fill_diagonal(result.values, 1)\n",
    "    return result"
   ]
  },
  {
   "cell_type": "code",
   "execution_count": 16,
   "id": "8faa8d2f-756d-4955-9615-3ebe6e75bf15",
   "metadata": {},
   "outputs": [
    {
     "data": {
      "text/html": [
       "<div>\n",
       "<style scoped>\n",
       "    .dataframe tbody tr th:only-of-type {\n",
       "        vertical-align: middle;\n",
       "    }\n",
       "\n",
       "    .dataframe tbody tr th {\n",
       "        vertical-align: top;\n",
       "    }\n",
       "\n",
       "    .dataframe thead th {\n",
       "        text-align: right;\n",
       "    }\n",
       "</style>\n",
       "<table border=\"1\" class=\"dataframe\">\n",
       "  <thead>\n",
       "    <tr style=\"text-align: right;\">\n",
       "      <th></th>\n",
       "      <th>US</th>\n",
       "      <th>Brazil</th>\n",
       "      <th>India</th>\n",
       "      <th>Russia</th>\n",
       "      <th>South Africa</th>\n",
       "    </tr>\n",
       "  </thead>\n",
       "  <tbody>\n",
       "    <tr>\n",
       "      <th>US</th>\n",
       "      <td>1.000000</td>\n",
       "      <td>0.898664</td>\n",
       "      <td>0.847160</td>\n",
       "      <td>0.804740</td>\n",
       "      <td>0.884909</td>\n",
       "    </tr>\n",
       "    <tr>\n",
       "      <th>Brazil</th>\n",
       "      <td>0.898664</td>\n",
       "      <td>1.000000</td>\n",
       "      <td>0.878452</td>\n",
       "      <td>0.763523</td>\n",
       "      <td>0.871214</td>\n",
       "    </tr>\n",
       "    <tr>\n",
       "      <th>India</th>\n",
       "      <td>0.847160</td>\n",
       "      <td>0.878452</td>\n",
       "      <td>1.000000</td>\n",
       "      <td>0.590388</td>\n",
       "      <td>0.809944</td>\n",
       "    </tr>\n",
       "    <tr>\n",
       "      <th>Russia</th>\n",
       "      <td>0.804740</td>\n",
       "      <td>0.763523</td>\n",
       "      <td>0.590388</td>\n",
       "      <td>1.000000</td>\n",
       "      <td>0.638246</td>\n",
       "    </tr>\n",
       "    <tr>\n",
       "      <th>South Africa</th>\n",
       "      <td>0.884909</td>\n",
       "      <td>0.871214</td>\n",
       "      <td>0.809944</td>\n",
       "      <td>0.638246</td>\n",
       "      <td>1.000000</td>\n",
       "    </tr>\n",
       "  </tbody>\n",
       "</table>\n",
       "</div>"
      ],
      "text/plain": [
       "                    US    Brazil     India    Russia  South Africa\n",
       "US            1.000000  0.898664  0.847160  0.804740      0.884909\n",
       "Brazil        0.898664  1.000000  0.878452  0.763523      0.871214\n",
       "India         0.847160  0.878452  1.000000  0.590388      0.809944\n",
       "Russia        0.804740  0.763523  0.590388  1.000000      0.638246\n",
       "South Africa  0.884909  0.871214  0.809944  0.638246      1.000000"
      ]
     },
     "execution_count": 16,
     "metadata": {},
     "output_type": "execute_result"
    }
   ],
   "source": [
    "calc_cos_sim(top5Daily)"
   ]
  },
  {
   "cell_type": "markdown",
   "id": "bb17926b-b873-4061-b9d3-4683f4d53a64",
   "metadata": {},
   "source": [
    "b)"
   ]
  },
  {
   "cell_type": "code",
   "execution_count": 17,
   "id": "8ae671a0-c540-4011-ad93-55d946d0ea70",
   "metadata": {},
   "outputs": [
    {
     "data": {
      "text/html": [
       "<div>\n",
       "<style scoped>\n",
       "    .dataframe tbody tr th:only-of-type {\n",
       "        vertical-align: middle;\n",
       "    }\n",
       "\n",
       "    .dataframe tbody tr th {\n",
       "        vertical-align: top;\n",
       "    }\n",
       "\n",
       "    .dataframe thead th {\n",
       "        text-align: right;\n",
       "    }\n",
       "</style>\n",
       "<table border=\"1\" class=\"dataframe\">\n",
       "  <thead>\n",
       "    <tr style=\"text-align: right;\">\n",
       "      <th></th>\n",
       "      <th>US</th>\n",
       "      <th>Brazil</th>\n",
       "      <th>India</th>\n",
       "      <th>Russia</th>\n",
       "      <th>South Africa</th>\n",
       "    </tr>\n",
       "  </thead>\n",
       "  <tbody>\n",
       "    <tr>\n",
       "      <th>US</th>\n",
       "      <td>1.000000</td>\n",
       "      <td>0.868859</td>\n",
       "      <td>0.783851</td>\n",
       "      <td>-0.325065</td>\n",
       "      <td>0.664261</td>\n",
       "    </tr>\n",
       "    <tr>\n",
       "      <th>Brazil</th>\n",
       "      <td>0.868859</td>\n",
       "      <td>1.000000</td>\n",
       "      <td>0.632741</td>\n",
       "      <td>-0.629987</td>\n",
       "      <td>0.403198</td>\n",
       "    </tr>\n",
       "    <tr>\n",
       "      <th>India</th>\n",
       "      <td>0.783851</td>\n",
       "      <td>0.632741</td>\n",
       "      <td>1.000000</td>\n",
       "      <td>0.092292</td>\n",
       "      <td>0.917529</td>\n",
       "    </tr>\n",
       "    <tr>\n",
       "      <th>Russia</th>\n",
       "      <td>-0.325065</td>\n",
       "      <td>-0.629987</td>\n",
       "      <td>0.092292</td>\n",
       "      <td>1.000000</td>\n",
       "      <td>0.174437</td>\n",
       "    </tr>\n",
       "    <tr>\n",
       "      <th>South Africa</th>\n",
       "      <td>0.664261</td>\n",
       "      <td>0.403198</td>\n",
       "      <td>0.917529</td>\n",
       "      <td>0.174437</td>\n",
       "      <td>1.000000</td>\n",
       "    </tr>\n",
       "  </tbody>\n",
       "</table>\n",
       "</div>"
      ],
      "text/plain": [
       "                    US    Brazil     India    Russia  South Africa\n",
       "US            1.000000  0.868859  0.783851 -0.325065      0.664261\n",
       "Brazil        0.868859  1.000000  0.632741 -0.629987      0.403198\n",
       "India         0.783851  0.632741  1.000000  0.092292      0.917529\n",
       "Russia       -0.325065 -0.629987  0.092292  1.000000      0.174437\n",
       "South Africa  0.664261  0.403198  0.917529  0.174437      1.000000"
      ]
     },
     "execution_count": 17,
     "metadata": {},
     "output_type": "execute_result"
    }
   ],
   "source": [
    "calc_cos_sim(top5Sea)"
   ]
  },
  {
   "cell_type": "markdown",
   "id": "51f90d54-d506-48b8-a337-9c7bf0a2e9aa",
   "metadata": {},
   "source": [
    "## Dynamic Time Warping (DTW) Cost\n",
    "### Define a Function to Calculate DTW Cost\n",
    "a)"
   ]
  },
  {
   "cell_type": "code",
   "execution_count": 18,
   "id": "5a3bc107-f121-40d3-80c3-29bf2a0d922d",
   "metadata": {},
   "outputs": [],
   "source": [
    "def calc_pairwise_dtw_cost(x, y, ret_matrix=True):\n",
    "    dtw = np.zeros((len(y) + 1, len(x) + 1))\n",
    "    for i in range(len(y) + 1):\n",
    "        for j in range(len(x) + 1):\n",
    "            dtw[i, j] = np.inf\n",
    "    dtw[0, 0] = 0\n",
    "    for i in range(1, len(y) + 1):\n",
    "        for j in range(1, len(x) + 1):\n",
    "            cost = np.sum(np.square(y[i-1] - x[j-1]))\n",
    "            dtw[i, j] = cost + np.min([dtw[i-1, j], dtw[i, j-1], dtw[i-1, j-1]])\n",
    "    if ret_matrix:\n",
    "        return dtw[1:, 1:]\n",
    "    return dtw[len(y), len(x)]"
   ]
  },
  {
   "cell_type": "markdown",
   "id": "53179db5-a035-4181-af3c-721dd88a3a85",
   "metadata": {},
   "source": [
    "### Compute Pairwise DTW Cost\n",
    "a)"
   ]
  },
  {
   "cell_type": "code",
   "execution_count": 19,
   "id": "4ea584a0-e57e-4df3-8f0c-3cb873a4b486",
   "metadata": {},
   "outputs": [],
   "source": [
    "def calc_dtw_cost(df):\n",
    "    cols = df.columns\n",
    "    result = pd.DataFrame(0, index=cols, columns=cols)\n",
    "    for i in range(len(cols)):\n",
    "        for j in range(i+1, len(cols)):\n",
    "            result.loc[cols[i], cols[j]] = calc_pairwise_dtw_cost(df[cols[i]], df[cols[j]], False)\n",
    "    result += result.T\n",
    "    np.fill_diagonal(result.values, 0)\n",
    "    return result"
   ]
  },
  {
   "cell_type": "code",
   "execution_count": 20,
   "id": "94215a83-6737-48e6-9000-65ed43a56ad9",
   "metadata": {},
   "outputs": [
    {
     "data": {
      "text/html": [
       "<div>\n",
       "<style scoped>\n",
       "    .dataframe tbody tr th:only-of-type {\n",
       "        vertical-align: middle;\n",
       "    }\n",
       "\n",
       "    .dataframe tbody tr th {\n",
       "        vertical-align: top;\n",
       "    }\n",
       "\n",
       "    .dataframe thead th {\n",
       "        text-align: right;\n",
       "    }\n",
       "</style>\n",
       "<table border=\"1\" class=\"dataframe\">\n",
       "  <thead>\n",
       "    <tr style=\"text-align: right;\">\n",
       "      <th></th>\n",
       "      <th>US</th>\n",
       "      <th>Brazil</th>\n",
       "      <th>India</th>\n",
       "      <th>Russia</th>\n",
       "      <th>South Africa</th>\n",
       "    </tr>\n",
       "  </thead>\n",
       "  <tbody>\n",
       "    <tr>\n",
       "      <th>US</th>\n",
       "      <td>0.000000e+00</td>\n",
       "      <td>9.575974e+09</td>\n",
       "      <td>5.187397e+09</td>\n",
       "      <td>1.740747e+11</td>\n",
       "      <td>1.395159e+11</td>\n",
       "    </tr>\n",
       "    <tr>\n",
       "      <th>Brazil</th>\n",
       "      <td>9.575974e+09</td>\n",
       "      <td>0.000000e+00</td>\n",
       "      <td>1.430988e+10</td>\n",
       "      <td>8.361811e+10</td>\n",
       "      <td>6.542703e+10</td>\n",
       "    </tr>\n",
       "    <tr>\n",
       "      <th>India</th>\n",
       "      <td>5.187397e+09</td>\n",
       "      <td>1.430988e+10</td>\n",
       "      <td>0.000000e+00</td>\n",
       "      <td>9.927626e+10</td>\n",
       "      <td>8.728950e+10</td>\n",
       "    </tr>\n",
       "    <tr>\n",
       "      <th>Russia</th>\n",
       "      <td>1.740747e+11</td>\n",
       "      <td>8.361811e+10</td>\n",
       "      <td>9.927626e+10</td>\n",
       "      <td>0.000000e+00</td>\n",
       "      <td>1.638671e+08</td>\n",
       "    </tr>\n",
       "    <tr>\n",
       "      <th>South Africa</th>\n",
       "      <td>1.395159e+11</td>\n",
       "      <td>6.542703e+10</td>\n",
       "      <td>8.728950e+10</td>\n",
       "      <td>1.638671e+08</td>\n",
       "      <td>0.000000e+00</td>\n",
       "    </tr>\n",
       "  </tbody>\n",
       "</table>\n",
       "</div>"
      ],
      "text/plain": [
       "                        US        Brazil         India        Russia  \\\n",
       "US            0.000000e+00  9.575974e+09  5.187397e+09  1.740747e+11   \n",
       "Brazil        9.575974e+09  0.000000e+00  1.430988e+10  8.361811e+10   \n",
       "India         5.187397e+09  1.430988e+10  0.000000e+00  9.927626e+10   \n",
       "Russia        1.740747e+11  8.361811e+10  9.927626e+10  0.000000e+00   \n",
       "South Africa  1.395159e+11  6.542703e+10  8.728950e+10  1.638671e+08   \n",
       "\n",
       "              South Africa  \n",
       "US            1.395159e+11  \n",
       "Brazil        6.542703e+10  \n",
       "India         8.728950e+10  \n",
       "Russia        1.638671e+08  \n",
       "South Africa  0.000000e+00  "
      ]
     },
     "execution_count": 20,
     "metadata": {},
     "output_type": "execute_result"
    }
   ],
   "source": [
    "calc_dtw_cost(top5Daily)"
   ]
  },
  {
   "cell_type": "markdown",
   "id": "877045f8-30f3-4f44-abe1-ac11c7539972",
   "metadata": {},
   "source": [
    "b)"
   ]
  },
  {
   "cell_type": "code",
   "execution_count": 21,
   "id": "90a67cea-bc07-4324-b55b-aebc2f2316f9",
   "metadata": {},
   "outputs": [
    {
     "data": {
      "text/html": [
       "<div>\n",
       "<style scoped>\n",
       "    .dataframe tbody tr th:only-of-type {\n",
       "        vertical-align: middle;\n",
       "    }\n",
       "\n",
       "    .dataframe tbody tr th {\n",
       "        vertical-align: top;\n",
       "    }\n",
       "\n",
       "    .dataframe thead th {\n",
       "        text-align: right;\n",
       "    }\n",
       "</style>\n",
       "<table border=\"1\" class=\"dataframe\">\n",
       "  <thead>\n",
       "    <tr style=\"text-align: right;\">\n",
       "      <th></th>\n",
       "      <th>US</th>\n",
       "      <th>Brazil</th>\n",
       "      <th>India</th>\n",
       "      <th>Russia</th>\n",
       "      <th>South Africa</th>\n",
       "    </tr>\n",
       "  </thead>\n",
       "  <tbody>\n",
       "    <tr>\n",
       "      <th>US</th>\n",
       "      <td>0.000000</td>\n",
       "      <td>31878.178988</td>\n",
       "      <td>23565.948799</td>\n",
       "      <td>32327.414867</td>\n",
       "      <td>28016.515162</td>\n",
       "    </tr>\n",
       "    <tr>\n",
       "      <th>Brazil</th>\n",
       "      <td>31878.178988</td>\n",
       "      <td>0.000000</td>\n",
       "      <td>53400.789074</td>\n",
       "      <td>61868.013722</td>\n",
       "      <td>57143.198022</td>\n",
       "    </tr>\n",
       "    <tr>\n",
       "      <th>India</th>\n",
       "      <td>23565.948799</td>\n",
       "      <td>53400.789074</td>\n",
       "      <td>0.000000</td>\n",
       "      <td>7687.627537</td>\n",
       "      <td>4463.425362</td>\n",
       "    </tr>\n",
       "    <tr>\n",
       "      <th>Russia</th>\n",
       "      <td>32327.414867</td>\n",
       "      <td>61868.013722</td>\n",
       "      <td>7687.627537</td>\n",
       "      <td>0.000000</td>\n",
       "      <td>4259.096369</td>\n",
       "    </tr>\n",
       "    <tr>\n",
       "      <th>South Africa</th>\n",
       "      <td>28016.515162</td>\n",
       "      <td>57143.198022</td>\n",
       "      <td>4463.425362</td>\n",
       "      <td>4259.096369</td>\n",
       "      <td>0.000000</td>\n",
       "    </tr>\n",
       "  </tbody>\n",
       "</table>\n",
       "</div>"
      ],
      "text/plain": [
       "                        US        Brazil         India        Russia  \\\n",
       "US                0.000000  31878.178988  23565.948799  32327.414867   \n",
       "Brazil        31878.178988      0.000000  53400.789074  61868.013722   \n",
       "India         23565.948799  53400.789074      0.000000   7687.627537   \n",
       "Russia        32327.414867  61868.013722   7687.627537      0.000000   \n",
       "South Africa  28016.515162  57143.198022   4463.425362   4259.096369   \n",
       "\n",
       "              South Africa  \n",
       "US            28016.515162  \n",
       "Brazil        57143.198022  \n",
       "India          4463.425362  \n",
       "Russia         4259.096369  \n",
       "South Africa      0.000000  "
      ]
     },
     "execution_count": 21,
     "metadata": {},
     "output_type": "execute_result"
    }
   ],
   "source": [
    "np.sqrt(calc_dtw_cost(top5Sea))"
   ]
  },
  {
   "cell_type": "markdown",
   "id": "22d43a53-d3d3-45f0-9cf1-8414fc9e91f6",
   "metadata": {},
   "source": [
    "In general, the similarities among these seasonal patterns aren't so significant, but there're a few similar pairs, for example, seasonal patterns between India and South Africa. The results of the pairwise Euclidean Distance and DTW Cost calculations tell the same story here, but their results are different from those of Cosine Similarity. For example, the Euclidean Distance and the DTW Cost of seasonal patterns between US and Brazil aren't small, but cosine similarity of US and Brazil in seasonal patterns is relatively large, which is contradictory."
   ]
  }
 ],
 "metadata": {
  "kernelspec": {
   "display_name": "Python 3",
   "language": "python",
   "name": "python3"
  },
  "language_info": {
   "codemirror_mode": {
    "name": "ipython",
    "version": 3
   },
   "file_extension": ".py",
   "mimetype": "text/x-python",
   "name": "python",
   "nbconvert_exporter": "python",
   "pygments_lexer": "ipython3",
   "version": "3.8.8"
  }
 },
 "nbformat": 4,
 "nbformat_minor": 5
}
